{
  "nbformat": 4,
  "nbformat_minor": 0,
  "metadata": {
    "colab": {
      "name": "ppi_exploratory_analysis.ipynb",
      "provenance": [],
      "authorship_tag": "ABX9TyO/iRHv7ingxmJkQjhqfZB/"
    },
    "kernelspec": {
      "name": "python3",
      "display_name": "Python 3"
    },
    "language_info": {
      "name": "python"
    }
  },
  "cells": [
    {
      "cell_type": "markdown",
      "source": [
        "# Research project for the understanding of actions in urban infrastructure and mapping of flood areas and landslides on slopes with the use of AI.\n",
        "- Research project for the understanding of actions in urban infrastructure and mapping of flood areas and landslides on slopes with the use of AI."
      ],
      "metadata": {
        "id": "RxMyIjfCz9b5"
      }
    },
    {
      "cell_type": "markdown",
      "source": [
        "# Exploratory analysis of spatial data - Análise exploratória de dados espaciais "
      ],
      "metadata": {
        "id": "nztWl099h6g_"
      }
    },
    {
      "cell_type": "markdown",
      "source": [
        "- Maybe necessary check upgrade and versions of libs. - Talvez seja necessário que se verifique upgrades e versões das bibliotecas. "
      ],
      "metadata": {
        "id": "H767JbwpixQf"
      }
    },
    {
      "cell_type": "code",
      "execution_count": null,
      "metadata": {
        "id": "56y02Un7hmmt"
      },
      "outputs": [],
      "source": [
        "!pip install geopandas \n",
        "!pip install pyshp \n",
        "!pip install shapely \n",
        "!pip install descartes \n",
        "!pip install esda"
      ]
    },
    {
      "cell_type": "code",
      "source": [
        "!pip install pysal==2.6.0"
      ],
      "metadata": {
        "id": "g2JqKbyHvaDA"
      },
      "execution_count": null,
      "outputs": []
    },
    {
      "cell_type": "code",
      "source": [
        "!pip install mapclassify==2.4.3"
      ],
      "metadata": {
        "id": "0g2Q2Uc8vIrA"
      },
      "execution_count": null,
      "outputs": []
    },
    {
      "cell_type": "code",
      "source": [
        "!pip install folium==0.2.1"
      ],
      "metadata": {
        "id": "SBlddXLovZlB"
      },
      "execution_count": null,
      "outputs": []
    },
    {
      "cell_type": "code",
      "source": [
        "# !pip install cartopy"
      ],
      "metadata": {
        "id": "bu8tj12zxtYo"
      },
      "execution_count": null,
      "outputs": []
    },
    {
      "cell_type": "code",
      "source": [
        "# general \n",
        "import pandas as pd \n",
        "import numpy as np \n",
        "from scipy import stats "
      ],
      "metadata": {
        "id": "ms0_bl6QjZj1"
      },
      "execution_count": null,
      "outputs": []
    },
    {
      "cell_type": "code",
      "source": [
        "import statsmodels.formula.api as sm "
      ],
      "metadata": {
        "id": "d5mHMMH6xWjY"
      },
      "execution_count": null,
      "outputs": []
    },
    {
      "cell_type": "code",
      "source": [
        "# graf\n",
        "%matplotlib inline \n",
        "import matplotlib.pyplot as plt\n",
        "import seaborn as sns"
      ],
      "metadata": {
        "id": "1oMbAygpw-xQ"
      },
      "execution_count": null,
      "outputs": []
    },
    {
      "cell_type": "code",
      "source": [
        "# import cartopy"
      ],
      "metadata": {
        "id": "1h7qykuuxzj3"
      },
      "execution_count": null,
      "outputs": []
    },
    {
      "cell_type": "code",
      "source": [
        "# for analysis \n",
        "import geopandas as gp \n",
        "import pysal \n",
        "import mapclassify as mc \n",
        "from libpysal.weights import Queen \n",
        "from libpysal import weights  "
      ],
      "metadata": {
        "id": "csVWjf7ExAr4"
      },
      "execution_count": null,
      "outputs": []
    },
    {
      "cell_type": "code",
      "source": [
        "from esda import Moran, Moran_Local, G_Local"
      ],
      "metadata": {
        "id": "51ZMz2viy--_"
      },
      "execution_count": null,
      "outputs": []
    },
    {
      "cell_type": "code",
      "source": [
        "from splot.esda import plot_moran, moran_scatterplot, lisa_cluster, plot_local_autocorrelation "
      ],
      "metadata": {
        "id": "4SYXUACTzBKu"
      },
      "execution_count": null,
      "outputs": []
    }
  ]
}