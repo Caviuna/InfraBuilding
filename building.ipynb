{
  "nbformat": 4,
  "nbformat_minor": 0,
  "metadata": {
    "colab": {
      "name": "building.ipynb",
      "provenance": [],
      "authorship_tag": "ABX9TyM8eL7+kfnsL30eBCRfVnMy"
    },
    "kernelspec": {
      "name": "python3",
      "display_name": "Python 3"
    },
    "language_info": {
      "name": "python"
    }
  },
  "cells": [
    {
      "cell_type": "markdown",
      "source": [
        "# Install libs and config frameworks\n",
        "\n",
        "♟"
      ],
      "metadata": {
        "id": "pyA8HvvF72C1"
      }
    },
    {
      "cell_type": "code",
      "execution_count": null,
      "metadata": {
        "id": "Oi4yy02vOc-B"
      },
      "outputs": [],
      "source": [
        "!pip install geopandas"
      ]
    },
    {
      "cell_type": "code",
      "source": [
        "import geopandas as gdf\n",
        "import pandas as pd"
      ],
      "metadata": {
        "id": "3JlQpCsBWvee"
      },
      "execution_count": 14,
      "outputs": []
    },
    {
      "cell_type": "markdown",
      "source": [
        "## Import maps "
      ],
      "metadata": {
        "id": "gerW25C7813U"
      }
    },
    {
      "cell_type": "code",
      "source": [
        "mapaBrasil = gdf.read_file('/content/brazil_states/BRUFE250GC_SIR.shp')"
      ],
      "metadata": {
        "id": "QHJ21PWvXCf1"
      },
      "execution_count": 15,
      "outputs": []
    },
    {
      "cell_type": "code",
      "source": [
        "mapaBrasil.plot(figsize=(20, 20))"
      ],
      "metadata": {
        "id": "9b8qHlrpZQ4V"
      },
      "execution_count": null,
      "outputs": []
    },
    {
      "cell_type": "markdown",
      "source": [
        "### Data processing\n",
        "\n",
        "Site of search"
      ],
      "metadata": {
        "id": "pIqa68bI9A70"
      }
    },
    {
      "cell_type": "code",
      "source": [
        "url = '...'"
      ],
      "metadata": {
        "id": "DBDxnEdiEjpd"
      },
      "execution_count": null,
      "outputs": []
    },
    {
      "cell_type": "markdown",
      "source": [
        "Read the spreadsheet: the format can be different, in this case html "
      ],
      "metadata": {
        "id": "EVTn6l70Ih7V"
      }
    },
    {
      "cell_type": "code",
      "source": [
        "html = pd.read_html(url, match='nome') "
      ],
      "metadata": {
        "id": "UY7TVCl9E2DU"
      },
      "execution_count": null,
      "outputs": []
    },
    {
      "cell_type": "markdown",
      "source": [
        "bulding local spreadsheet"
      ],
      "metadata": {
        "id": "8RW9Z4_YJ94M"
      }
    },
    {
      "cell_type": "code",
      "source": [
        "areas_leitura = {'coll': [1,2], 'coll': [3,4]}"
      ],
      "metadata": {
        "id": "SFppJ1sj7Mzt"
      },
      "execution_count": 12,
      "outputs": []
    },
    {
      "cell_type": "code",
      "source": [
        "areas_leitura = pd.DataFrame() "
      ],
      "metadata": {
        "id": "cTHnkC476KUN"
      },
      "execution_count": 16,
      "outputs": []
    }
  ]
}