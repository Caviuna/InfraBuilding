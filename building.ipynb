{
  "nbformat": 4,
  "nbformat_minor": 0,
  "metadata": {
    "colab": {
      "name": "building.ipynb",
      "provenance": [],
      "authorship_tag": "ABX9TyM4axIzxKf/fwPM3Zb0/xsC"
    },
    "kernelspec": {
      "name": "python3",
      "display_name": "Python 3"
    },
    "language_info": {
      "name": "python"
    }
  },
  "cells": [
    {
      "cell_type": "markdown",
      "source": [
        "# Install libs and config frameworks\n",
        "\n",
        "♟"
      ],
      "metadata": {
        "id": "pyA8HvvF72C1"
      }
    },
    {
      "cell_type": "code",
      "execution_count": null,
      "metadata": {
        "id": "Oi4yy02vOc-B"
      },
      "outputs": [],
      "source": [
        "!pip install geopandas"
      ]
    },
    {
      "cell_type": "code",
      "source": [
        "# import geopandas as gdf\n",
        "import matplotlib \n",
        "import pandas as pd\n",
        "\n"
      ],
      "metadata": {
        "id": "3JlQpCsBWvee"
      },
      "execution_count": 1,
      "outputs": []
    },
    {
      "cell_type": "markdown",
      "source": [
        "## Import data \n"
      ],
      "metadata": {
        "id": "gerW25C7813U"
      }
    },
    {
      "cell_type": "markdown",
      "source": [
        "### File: \n",
        "\n",
        "Read file from: \n",
        "https://sidra.ibge.gov.br/acervo#/S/IU/A/110/T/Q "
      ],
      "metadata": {
        "id": "EULkh2yorzgo"
      }
    },
    {
      "cell_type": "code",
      "source": [
        "xlsx_file_link = '/content/Tabela de dados agregados.xlsx'\n",
        "pd.read_excel(xlsx_file_link)"
      ],
      "metadata": {
        "colab": {
          "base_uri": "https://localhost:8080/",
          "height": 49
        },
        "id": "OCt9Tpvwrymg",
        "outputId": "3a3b5917-14fb-4fca-cc16-a9e14b347199"
      },
      "execution_count": null,
      "outputs": [
        {
          "output_type": "execute_result",
          "data": {
            "text/html": [
              "\n",
              "  <div id=\"df-209d473b-f8ca-43be-bd3c-d7db61d7304a\">\n",
              "    <div class=\"colab-df-container\">\n",
              "      <div>\n",
              "<style scoped>\n",
              "    .dataframe tbody tr th:only-of-type {\n",
              "        vertical-align: middle;\n",
              "    }\n",
              "\n",
              "    .dataframe tbody tr th {\n",
              "        vertical-align: top;\n",
              "    }\n",
              "\n",
              "    .dataframe thead th {\n",
              "        text-align: right;\n",
              "    }\n",
              "</style>\n",
              "<table border=\"1\" class=\"dataframe\">\n",
              "  <thead>\n",
              "    <tr style=\"text-align: right;\">\n",
              "      <th></th>\n",
              "      <th>1160</th>\n",
              "      <th>Distribuição percentual de moradores em domicílios particulares permanentes pelo tipo de esgotamento sanitário, segundo a situação do domicílio</th>\n",
              "    </tr>\n",
              "  </thead>\n",
              "  <tbody>\n",
              "  </tbody>\n",
              "</table>\n",
              "</div>\n",
              "      <button class=\"colab-df-convert\" onclick=\"convertToInteractive('df-209d473b-f8ca-43be-bd3c-d7db61d7304a')\"\n",
              "              title=\"Convert this dataframe to an interactive table.\"\n",
              "              style=\"display:none;\">\n",
              "        \n",
              "  <svg xmlns=\"http://www.w3.org/2000/svg\" height=\"24px\"viewBox=\"0 0 24 24\"\n",
              "       width=\"24px\">\n",
              "    <path d=\"M0 0h24v24H0V0z\" fill=\"none\"/>\n",
              "    <path d=\"M18.56 5.44l.94 2.06.94-2.06 2.06-.94-2.06-.94-.94-2.06-.94 2.06-2.06.94zm-11 1L8.5 8.5l.94-2.06 2.06-.94-2.06-.94L8.5 2.5l-.94 2.06-2.06.94zm10 10l.94 2.06.94-2.06 2.06-.94-2.06-.94-.94-2.06-.94 2.06-2.06.94z\"/><path d=\"M17.41 7.96l-1.37-1.37c-.4-.4-.92-.59-1.43-.59-.52 0-1.04.2-1.43.59L10.3 9.45l-7.72 7.72c-.78.78-.78 2.05 0 2.83L4 21.41c.39.39.9.59 1.41.59.51 0 1.02-.2 1.41-.59l7.78-7.78 2.81-2.81c.8-.78.8-2.07 0-2.86zM5.41 20L4 18.59l7.72-7.72 1.47 1.35L5.41 20z\"/>\n",
              "  </svg>\n",
              "      </button>\n",
              "      \n",
              "  <style>\n",
              "    .colab-df-container {\n",
              "      display:flex;\n",
              "      flex-wrap:wrap;\n",
              "      gap: 12px;\n",
              "    }\n",
              "\n",
              "    .colab-df-convert {\n",
              "      background-color: #E8F0FE;\n",
              "      border: none;\n",
              "      border-radius: 50%;\n",
              "      cursor: pointer;\n",
              "      display: none;\n",
              "      fill: #1967D2;\n",
              "      height: 32px;\n",
              "      padding: 0 0 0 0;\n",
              "      width: 32px;\n",
              "    }\n",
              "\n",
              "    .colab-df-convert:hover {\n",
              "      background-color: #E2EBFA;\n",
              "      box-shadow: 0px 1px 2px rgba(60, 64, 67, 0.3), 0px 1px 3px 1px rgba(60, 64, 67, 0.15);\n",
              "      fill: #174EA6;\n",
              "    }\n",
              "\n",
              "    [theme=dark] .colab-df-convert {\n",
              "      background-color: #3B4455;\n",
              "      fill: #D2E3FC;\n",
              "    }\n",
              "\n",
              "    [theme=dark] .colab-df-convert:hover {\n",
              "      background-color: #434B5C;\n",
              "      box-shadow: 0px 1px 3px 1px rgba(0, 0, 0, 0.15);\n",
              "      filter: drop-shadow(0px 1px 2px rgba(0, 0, 0, 0.3));\n",
              "      fill: #FFFFFF;\n",
              "    }\n",
              "  </style>\n",
              "\n",
              "      <script>\n",
              "        const buttonEl =\n",
              "          document.querySelector('#df-209d473b-f8ca-43be-bd3c-d7db61d7304a button.colab-df-convert');\n",
              "        buttonEl.style.display =\n",
              "          google.colab.kernel.accessAllowed ? 'block' : 'none';\n",
              "\n",
              "        async function convertToInteractive(key) {\n",
              "          const element = document.querySelector('#df-209d473b-f8ca-43be-bd3c-d7db61d7304a');\n",
              "          const dataTable =\n",
              "            await google.colab.kernel.invokeFunction('convertToInteractive',\n",
              "                                                     [key], {});\n",
              "          if (!dataTable) return;\n",
              "\n",
              "          const docLinkHtml = 'Like what you see? Visit the ' +\n",
              "            '<a target=\"_blank\" href=https://colab.research.google.com/notebooks/data_table.ipynb>data table notebook</a>'\n",
              "            + ' to learn more about interactive tables.';\n",
              "          element.innerHTML = '';\n",
              "          dataTable['output_type'] = 'display_data';\n",
              "          await google.colab.output.renderOutput(dataTable, element);\n",
              "          const docLink = document.createElement('div');\n",
              "          docLink.innerHTML = docLinkHtml;\n",
              "          element.appendChild(docLink);\n",
              "        }\n",
              "      </script>\n",
              "    </div>\n",
              "  </div>\n",
              "  "
            ],
            "text/plain": [
              "Empty DataFrame\n",
              "Columns: [1160, Distribuição percentual de moradores em domicílios particulares permanentes pelo tipo de esgotamento sanitário, segundo a situação do domicílio]\n",
              "Index: []"
            ]
          },
          "metadata": {},
          "execution_count": 5
        }
      ]
    },
    {
      "cell_type": "markdown",
      "source": [
        "##  Ações necessárias para tratar o arquivo. -  Necessary action for make the file\n",
        "- Importa o aquivo no formato csv e define para ele uma variável < ppiread >\n",
        "- definido outra variável < pip_df > , 'read' lê arquivo definindo o separdador que por padrão é ' , ' porem no caso 'sep = ; ' \n",
        "- econding por padrão é o 'utf-8' mas no caso é ' econding = 'ISO-8859-1', o que é comum para arquivos dessa fonte de dados. \n",
        "- 'display' mostra o for aquivo 'head(10)' define a quantidade de linhas \n",
        "- print "
      ],
      "metadata": {
        "id": "WWErcidgFYaw"
      }
    },
    {
      "cell_type": "code",
      "source": [
        "ppiread = '/content/dados-abertos_ppi_31.08.18.csv'\n",
        "# df = pd.read_csv(ppiread, encoding='ISO-8859-1', error_bad_lines=False, engine='python')\n",
        "# ppi_df = pd.read_csv(ppiread, sep=';', delimiter=None, header='infer', names=None, index_col=None, usecols=None, squeeze=False, engine=None, encoding='ISO-8859-1')\n",
        "ppi_df = pd.read_csv(ppiread, sep = ';', delimiter=None, encoding='ISO-8859-1')\n",
        "# display(ppi_df.head(10))\n",
        "display(ppi_df.head(244))\n",
        "print(ppi_df.shape.index)"
      ],
      "metadata": {
        "id": "zvhAKFxvySJf"
      },
      "execution_count": null,
      "outputs": []
    },
    {
      "cell_type": "code",
      "source": [
        "# from google.colab import drive\n",
        "# drive.mount('/content/drive')"
      ],
      "metadata": {
        "id": "6bpeOB8o33mQ"
      },
      "execution_count": null,
      "outputs": []
    },
    {
      "cell_type": "markdown",
      "source": [
        "- Exiba de maneira crua, porém útil para se visualizar a quantidade de linha e colunas "
      ],
      "metadata": {
        "id": "P82tbAN6HczX"
      }
    },
    {
      "cell_type": "code",
      "source": [
        "ppi_df "
      ],
      "metadata": {
        "id": "HThFCqI2FOho"
      },
      "execution_count": null,
      "outputs": []
    },
    {
      "cell_type": "markdown",
      "source": [
        "- Excluir as linhas completamente vazias, < dropna(how = 'all') > \n",
        " - para o caso de excluir alguma que tenha pelo menos um  vazio < dropna() >\n",
        "- Para caso precise remover alguma coluna < .drop('name', axis = 1) >\n",
        " - Para remover linha < .drop(0) >\n",
        "- verificar se tem alguma cédula que esteja vazia < .notnull().all() >"
      ],
      "metadata": {
        "id": "yKcKpPyNHwTW"
      }
    },
    {
      "cell_type": "code",
      "source": [
        "ppi_df.dropna(how='all') "
      ],
      "metadata": {
        "id": "3Iz-JRAKmnC4"
      },
      "execution_count": null,
      "outputs": []
    },
    {
      "cell_type": "markdown",
      "source": [
        "- Definer a quantide de valore vazios nas linhas e colunas que sobraram "
      ],
      "metadata": {
        "id": "pbF3CLX9OUeD"
      }
    },
    {
      "cell_type": "markdown",
      "source": [
        ""
      ],
      "metadata": {
        "id": "CH4QVgjBN5C8"
      }
    },
    {
      "cell_type": "code",
      "source": [
        "ppi_df.columns"
      ],
      "metadata": {
        "id": "sgIQx4Os3EbJ"
      },
      "execution_count": null,
      "outputs": []
    },
    {
      "cell_type": "markdown",
      "source": [
        "- Checar possíveis colunas vazias:  "
      ],
      "metadata": {
        "id": "AKXoXYzSMrTD"
      }
    },
    {
      "cell_type": "code",
      "source": [
        "display(ppi_df['Unnamed: 43'].dropna(how=('all')))"
      ],
      "metadata": {
        "id": "bwlehRvDMsQT"
      },
      "execution_count": null,
      "outputs": []
    },
    {
      "cell_type": "code",
      "source": [
        "ppi_df.notna()"
      ],
      "metadata": {
        "id": "eOYdzeNyZIt5"
      },
      "execution_count": null,
      "outputs": []
    },
    {
      "cell_type": "markdown",
      "source": [
        "- Ler a linha especificada e excluir a leitura das vazias "
      ],
      "metadata": {
        "id": "-Fr3K4UZ9gnK"
      }
    },
    {
      "cell_type": "code",
      "source": [
        "display(ppi_df.loc[4].dropna(how=('all')))\n"
      ],
      "metadata": {
        "id": "0ve3Mr3X5fio"
      },
      "execution_count": null,
      "outputs": []
    },
    {
      "cell_type": "markdown",
      "source": [
        "- Removedo colunas\n",
        " "
      ],
      "metadata": {
        "id": "KjKZ62VUPCg4"
      }
    },
    {
      "cell_type": "code",
      "source": [
        "ppi_df_v2 = ppi_df.drop([ 'Unnamed: 37', 'Unnamed: 38', 'Unnamed: 39', 'Unnamed: 40',\n",
        "                          'Unnamed: 41', 'Unnamed: 42', 'Unnamed: 44',\n",
        "                          'Unnamed: 45', 'Unnamed: 46', 'Unnamed: 47', 'Unnamed: 48',\n",
        "                          'Unnamed: 49', 'Unnamed: 50', 'Unnamed: 51', 'Unnamed: 52',\n",
        "                          'Unnamed: 53', 'Unnamed: 54', 'Unnamed: 55', 'Unnamed: 56',\n",
        "                          'Unnamed: 57', 'Unnamed: 58', 'Unnamed: 59', 'Unnamed: 60',\n",
        "                          'Unnamed: 61', 'Unnamed: 62', 'Unnamed: 63', 'Unnamed: 64',\n",
        "                          'Unnamed: 65', 'Unnamed: 66', 'Unnamed: 67', 'Unnamed: 68',\n",
        "                          'Unnamed: 69', 'Unnamed: 70', 'Unnamed: 71', 'Unnamed: 72',\n",
        "                          'Unnamed: 73', 'Unnamed: 74', 'Unnamed: 75', 'Unnamed: 76',\n",
        "                          'Unnamed: 77', 'Unnamed: 78', 'Unnamed: 79', 'Unnamed: 80',\n",
        "                          'Unnamed: 81'], axis=1)"
      ],
      "metadata": {
        "id": "dBQ7jXFQMacH"
      },
      "execution_count": 3,
      "outputs": []
    },
    {
      "cell_type": "code",
      "source": [
        "ppi_df_v3 = ppi_df_v2.dropna(how='all') "
      ],
      "metadata": {
        "id": "BheiRKPrf0Po"
      },
      "execution_count": 4,
      "outputs": []
    },
    {
      "cell_type": "code",
      "source": [
        "ppi_df_v3"
      ],
      "metadata": {
        "id": "Spdgf4CQgOXZ"
      },
      "execution_count": null,
      "outputs": []
    },
    {
      "cell_type": "markdown",
      "source": [
        "- Clear cvs file (Limpar arquivo) "
      ],
      "metadata": {
        "id": "fCdEB5Rv47Zv"
      }
    },
    {
      "cell_type": "code",
      "source": [
        "ppi_df_v3['Unnamed: 0'].head(15)"
      ],
      "metadata": {
        "id": "yH4jDrtv5F8U"
      },
      "execution_count": null,
      "outputs": []
    },
    {
      "cell_type": "markdown",
      "source": [
        "- Procurando valores vazios em cada coluna (missing empty value) "
      ],
      "metadata": {
        "id": "BUVW8PFsFQKU"
      }
    },
    {
      "cell_type": "code",
      "source": [
        "count = 0 \n",
        "for row in ppi_df_v3['Unnamed: 10']:\n",
        "    try:\n",
        "      int(row)\n",
        "      ppi_df_v3[count, 'Unnamed: 10'] = np.nan\n",
        "    except ValueError: \n",
        "      pass\n",
        "    count += 1 "
      ],
      "metadata": {
        "id": "WtAlVfzX86nG"
      },
      "execution_count": 5,
      "outputs": []
    },
    {
      "cell_type": "markdown",
      "source": [
        "- count number values cells (contando o numero de celulas vazias) "
      ],
      "metadata": {
        "id": "hF4Wft_uH2-D"
      }
    },
    {
      "cell_type": "code",
      "source": [
        "ppi_df_v3.isnull().sum()"
      ],
      "metadata": {
        "id": "ilLtOmzjDY2t"
      },
      "execution_count": null,
      "outputs": []
    },
    {
      "cell_type": "markdown",
      "source": [
        "- check info above, include empty columns in step above - code line 27 (checar a informação acima e incluir as as colunas  vazias na rotina da linha do cidigo 27) - ajust this after. "
      ],
      "metadata": {
        "id": "qf_KQde0I9Zx"
      }
    },
    {
      "cell_type": "code",
      "source": [
        "ppi_df_v3['Unnamed: 27'].head(200)"
      ],
      "metadata": {
        "id": "HsJYflYgIo4b"
      },
      "execution_count": null,
      "outputs": []
    },
    {
      "cell_type": "markdown",
      "source": [
        ""
      ],
      "metadata": {
        "id": "fy9TJFcQJzzT"
      }
    },
    {
      "cell_type": "code",
      "source": [
        "ppi_df_v4 = ppi_df_v3.drop([ 'Unnamed: 27', 'Unnamed: 28', 'Unnamed: 29',\n",
        "                          'Unnamed: 30', 'Unnamed: 31', 'Unnamed: 32', 'Unnamed: 33',\n",
        "                          'Unnamed: 34'], axis = 1) "
      ],
      "metadata": {
        "id": "FkK2EPqKPIGi"
      },
      "execution_count": 8,
      "outputs": []
    },
    {
      "cell_type": "code",
      "source": [
        "ppi_df_v4"
      ],
      "metadata": {
        "id": "MW5CQbPqPoQp"
      },
      "execution_count": null,
      "outputs": []
    },
    {
      "cell_type": "markdown",
      "source": [
        "- Dtype columns "
      ],
      "metadata": {
        "id": "WCmlxczeG3a1"
      }
    },
    {
      "cell_type": "code",
      "source": [
        "ppi_df_v4.info() # ppi_df_v4.info(verbose=True) "
      ],
      "metadata": {
        "id": "2eqpIp0Oo3Js"
      },
      "execution_count": null,
      "outputs": []
    },
    {
      "cell_type": "markdown",
      "source": [
        "- metodo < query >  "
      ],
      "metadata": {
        "id": "rvVE2OX-Mh_5"
      }
    },
    {
      "cell_type": "code",
      "source": [
        "# ppi_df_v4.map(lambda x: x.replace('', '_') if isinstance(x, (str))else x)\n",
        "# ppi_df_v4.query('Nation == \"Brasil\"').head(10)"
      ],
      "metadata": {
        "id": "N17_mROWMO1Q"
      },
      "execution_count": null,
      "outputs": []
    },
    {
      "cell_type": "code",
      "source": [
        "ppi_df_v4.index"
      ],
      "metadata": {
        "id": "TDIPo2g3MufO"
      },
      "execution_count": null,
      "outputs": []
    },
    {
      "cell_type": "code",
      "source": [
        "ppi_df_v4.columns"
      ],
      "metadata": {
        "id": "bbGuiKZ5MvNg"
      },
      "execution_count": null,
      "outputs": []
    },
    {
      "cell_type": "code",
      "source": [
        "# ppi_df_v4.set_index('Unnamed: 0', inplace=True)"
      ],
      "metadata": {
        "id": "z9YdNSUHMvkY"
      },
      "execution_count": null,
      "outputs": []
    },
    {
      "cell_type": "code",
      "source": [
        "ppi_df_v4.index"
      ],
      "metadata": {
        "id": "qetC652buaez"
      },
      "execution_count": null,
      "outputs": []
    },
    {
      "cell_type": "code",
      "source": [
        "ppi_df_v4.columns"
      ],
      "metadata": {
        "id": "BkjLC-w3unvS"
      },
      "execution_count": null,
      "outputs": []
    },
    {
      "cell_type": "markdown",
      "source": [
        "- set index for column 01 - (reindexando a primeira coluna, que por padrão é gerada pelo pandas) "
      ],
      "metadata": {
        "id": "k9e2gJ9lv5aE"
      }
    },
    {
      "cell_type": "code",
      "source": [
        "# ppi_df_v4.set_index('Unnamed: 0', inplace=True)"
      ],
      "metadata": {
        "id": "DuaBA1WIvE17"
      },
      "execution_count": null,
      "outputs": []
    },
    {
      "cell_type": "markdown",
      "source": [
        "- Use loc <.loc[row1, row2...['column1', 'column2',...]] for slace < : >  "
      ],
      "metadata": {
        "id": "0opsKPBz5P35"
      }
    },
    {
      "cell_type": "code",
      "source": [
        "ppi_df_v4.loc[4:]"
      ],
      "metadata": {
        "id": "vx7EpUhgys5a"
      },
      "execution_count": null,
      "outputs": []
    },
    {
      "cell_type": "code",
      "source": [
        "ppi_df_v4.columns"
      ],
      "metadata": {
        "id": "yTuwhLgaK9rd"
      },
      "execution_count": null,
      "outputs": []
    },
    {
      "cell_type": "code",
      "source": [
        "ppi_df_v4.rename(columns={'Unnamed: 2' : 'Estado'})"
      ],
      "metadata": {
        "id": "QAXSk0akLZGd"
      },
      "execution_count": null,
      "outputs": []
    },
    {
      "cell_type": "markdown",
      "source": [
        "# Categorical variable \n"
      ],
      "metadata": {
        "id": "tge8-BStNBpw"
      }
    },
    {
      "cell_type": "markdown",
      "source": [
        "- Describe quantidades, particularidades, referência e frequência. "
      ],
      "metadata": {
        "id": "eSy8NINzNlYn"
      }
    },
    {
      "cell_type": "code",
      "source": [
        "df_pip_cats = ppi_df_v4.select_dtypes(include=object)"
      ],
      "metadata": {
        "id": "yom91m0xNm3n"
      },
      "execution_count": 31,
      "outputs": []
    },
    {
      "cell_type": "code",
      "source": [
        "df_pip_cats.describe()"
      ],
      "metadata": {
        "id": "iNurmW6mRB92"
      },
      "execution_count": null,
      "outputs": []
    },
    {
      "cell_type": "code",
      "source": [
        "df_pip_cats.rename(columns={'Unnamed: 15' : 'Setor'}, inplace=True)"
      ],
      "metadata": {
        "id": "rk1iS00dRf6d"
      },
      "execution_count": 47,
      "outputs": []
    },
    {
      "cell_type": "markdown",
      "source": [
        "## One-hot enconder - tratamentode variáveis categoricas nominais."
      ],
      "metadata": {
        "id": "3cSAbvrlN_Yn"
      }
    },
    {
      "cell_type": "markdown",
      "source": [
        "- Category Encoders / Scikit Learn\n",
        " - Docs:\n",
        "  -  https://contrib.scikit-learn.org/category_encoders/index.html\n",
        "  - https://scikit-learn.org/stable/modules/preprocessing.html#preprocessing-categorical-features\n"
      ],
      "metadata": {
        "id": "9ihkniaXOPmv"
      }
    },
    {
      "cell_type": "code",
      "source": [
        "!pip install category_encoders"
      ],
      "metadata": {
        "id": "YIVLMVN9OorH"
      },
      "execution_count": null,
      "outputs": []
    },
    {
      "cell_type": "code",
      "source": [
        "import category_encoders as ce"
      ],
      "metadata": {
        "id": "tHbZOdPaPJSG"
      },
      "execution_count": null,
      "outputs": []
    },
    {
      "cell_type": "code",
      "source": [
        "from category_encoders.one_hot import OneHotEncoder"
      ],
      "metadata": {
        "id": "W_LUp-drPZxW"
      },
      "execution_count": 28,
      "outputs": []
    },
    {
      "cell_type": "code",
      "source": [
        "df_pip_cats['Setor'].head(15)"
      ],
      "metadata": {
        "id": "zhvN9clLPaJO"
      },
      "execution_count": null,
      "outputs": []
    },
    {
      "cell_type": "code",
      "source": [
        "one_hot_enc = OneHotEncoder(cols=['Setor'])"
      ],
      "metadata": {
        "id": "inyxTEirQn_N"
      },
      "execution_count": 49,
      "outputs": []
    },
    {
      "cell_type": "code",
      "source": [
        "one_hot_enc.fit_transform(df_pip_cats)"
      ],
      "metadata": {
        "id": "2Fvmy14KThvb"
      },
      "execution_count": null,
      "outputs": []
    },
    {
      "cell_type": "markdown",
      "source": [
        "# Label Encoder"
      ],
      "metadata": {
        "id": "RMXLcJPWbRY-"
      }
    },
    {
      "cell_type": "markdown",
      "source": [
        "# Criação de um novo dataframe - Create a new dataframe "
      ],
      "metadata": {
        "id": "a_5OGCeuHu12"
      }
    },
    {
      "cell_type": "code",
      "source": [
        "display(ppi_df.describe()) # Outro tratamento necessário "
      ],
      "metadata": {
        "id": "f-IEwuxKuJUZ"
      },
      "execution_count": null,
      "outputs": []
    },
    {
      "cell_type": "markdown",
      "source": [
        "- Criação de nova dataframe if new colunas e linhas. \n",
        " - (create new dataframe) "
      ],
      "metadata": {
        "id": "l9b2x5qXnhGf"
      }
    },
    {
      "cell_type": "code",
      "source": [
        "new_data_ppi = pd.DataFrame({'col00':[0,1,2],'col01':[0,1,2],'col02':[0,1,2]}, index=['row_00', 'row_01', 'row_02'])\n",
        "new_data_ppi"
      ],
      "metadata": {
        "colab": {
          "base_uri": "https://localhost:8080/",
          "height": 143
        },
        "id": "4dd7M5mik113",
        "outputId": "4ed264bd-d8d7-42a9-bc09-35ae76234074"
      },
      "execution_count": null,
      "outputs": [
        {
          "output_type": "execute_result",
          "data": {
            "text/html": [
              "\n",
              "  <div id=\"df-524421cb-4b02-4468-b6bf-d56388836d41\">\n",
              "    <div class=\"colab-df-container\">\n",
              "      <div>\n",
              "<style scoped>\n",
              "    .dataframe tbody tr th:only-of-type {\n",
              "        vertical-align: middle;\n",
              "    }\n",
              "\n",
              "    .dataframe tbody tr th {\n",
              "        vertical-align: top;\n",
              "    }\n",
              "\n",
              "    .dataframe thead th {\n",
              "        text-align: right;\n",
              "    }\n",
              "</style>\n",
              "<table border=\"1\" class=\"dataframe\">\n",
              "  <thead>\n",
              "    <tr style=\"text-align: right;\">\n",
              "      <th></th>\n",
              "      <th>col00</th>\n",
              "      <th>col01</th>\n",
              "      <th>col02</th>\n",
              "    </tr>\n",
              "  </thead>\n",
              "  <tbody>\n",
              "    <tr>\n",
              "      <th>row_00</th>\n",
              "      <td>0</td>\n",
              "      <td>0</td>\n",
              "      <td>0</td>\n",
              "    </tr>\n",
              "    <tr>\n",
              "      <th>row_01</th>\n",
              "      <td>1</td>\n",
              "      <td>1</td>\n",
              "      <td>1</td>\n",
              "    </tr>\n",
              "    <tr>\n",
              "      <th>row_02</th>\n",
              "      <td>2</td>\n",
              "      <td>2</td>\n",
              "      <td>2</td>\n",
              "    </tr>\n",
              "  </tbody>\n",
              "</table>\n",
              "</div>\n",
              "      <button class=\"colab-df-convert\" onclick=\"convertToInteractive('df-524421cb-4b02-4468-b6bf-d56388836d41')\"\n",
              "              title=\"Convert this dataframe to an interactive table.\"\n",
              "              style=\"display:none;\">\n",
              "        \n",
              "  <svg xmlns=\"http://www.w3.org/2000/svg\" height=\"24px\"viewBox=\"0 0 24 24\"\n",
              "       width=\"24px\">\n",
              "    <path d=\"M0 0h24v24H0V0z\" fill=\"none\"/>\n",
              "    <path d=\"M18.56 5.44l.94 2.06.94-2.06 2.06-.94-2.06-.94-.94-2.06-.94 2.06-2.06.94zm-11 1L8.5 8.5l.94-2.06 2.06-.94-2.06-.94L8.5 2.5l-.94 2.06-2.06.94zm10 10l.94 2.06.94-2.06 2.06-.94-2.06-.94-.94-2.06-.94 2.06-2.06.94z\"/><path d=\"M17.41 7.96l-1.37-1.37c-.4-.4-.92-.59-1.43-.59-.52 0-1.04.2-1.43.59L10.3 9.45l-7.72 7.72c-.78.78-.78 2.05 0 2.83L4 21.41c.39.39.9.59 1.41.59.51 0 1.02-.2 1.41-.59l7.78-7.78 2.81-2.81c.8-.78.8-2.07 0-2.86zM5.41 20L4 18.59l7.72-7.72 1.47 1.35L5.41 20z\"/>\n",
              "  </svg>\n",
              "      </button>\n",
              "      \n",
              "  <style>\n",
              "    .colab-df-container {\n",
              "      display:flex;\n",
              "      flex-wrap:wrap;\n",
              "      gap: 12px;\n",
              "    }\n",
              "\n",
              "    .colab-df-convert {\n",
              "      background-color: #E8F0FE;\n",
              "      border: none;\n",
              "      border-radius: 50%;\n",
              "      cursor: pointer;\n",
              "      display: none;\n",
              "      fill: #1967D2;\n",
              "      height: 32px;\n",
              "      padding: 0 0 0 0;\n",
              "      width: 32px;\n",
              "    }\n",
              "\n",
              "    .colab-df-convert:hover {\n",
              "      background-color: #E2EBFA;\n",
              "      box-shadow: 0px 1px 2px rgba(60, 64, 67, 0.3), 0px 1px 3px 1px rgba(60, 64, 67, 0.15);\n",
              "      fill: #174EA6;\n",
              "    }\n",
              "\n",
              "    [theme=dark] .colab-df-convert {\n",
              "      background-color: #3B4455;\n",
              "      fill: #D2E3FC;\n",
              "    }\n",
              "\n",
              "    [theme=dark] .colab-df-convert:hover {\n",
              "      background-color: #434B5C;\n",
              "      box-shadow: 0px 1px 3px 1px rgba(0, 0, 0, 0.15);\n",
              "      filter: drop-shadow(0px 1px 2px rgba(0, 0, 0, 0.3));\n",
              "      fill: #FFFFFF;\n",
              "    }\n",
              "  </style>\n",
              "\n",
              "      <script>\n",
              "        const buttonEl =\n",
              "          document.querySelector('#df-524421cb-4b02-4468-b6bf-d56388836d41 button.colab-df-convert');\n",
              "        buttonEl.style.display =\n",
              "          google.colab.kernel.accessAllowed ? 'block' : 'none';\n",
              "\n",
              "        async function convertToInteractive(key) {\n",
              "          const element = document.querySelector('#df-524421cb-4b02-4468-b6bf-d56388836d41');\n",
              "          const dataTable =\n",
              "            await google.colab.kernel.invokeFunction('convertToInteractive',\n",
              "                                                     [key], {});\n",
              "          if (!dataTable) return;\n",
              "\n",
              "          const docLinkHtml = 'Like what you see? Visit the ' +\n",
              "            '<a target=\"_blank\" href=https://colab.research.google.com/notebooks/data_table.ipynb>data table notebook</a>'\n",
              "            + ' to learn more about interactive tables.';\n",
              "          element.innerHTML = '';\n",
              "          dataTable['output_type'] = 'display_data';\n",
              "          await google.colab.output.renderOutput(dataTable, element);\n",
              "          const docLink = document.createElement('div');\n",
              "          docLink.innerHTML = docLinkHtml;\n",
              "          element.appendChild(docLink);\n",
              "        }\n",
              "      </script>\n",
              "    </div>\n",
              "  </div>\n",
              "  "
            ],
            "text/plain": [
              "        col00  col01  col02\n",
              "row_00      0      0      0\n",
              "row_01      1      1      1\n",
              "row_02      2      2      2"
            ]
          },
          "metadata": {},
          "execution_count": 5
        }
      ]
    },
    {
      "cell_type": "markdown",
      "source": [
        "- Exemplo Series"
      ],
      "metadata": {
        "id": "bEws2ws2qAv3"
      }
    },
    {
      "cell_type": "code",
      "source": [
        "variable = pd.Series(['0', '1', '2', '3'], index=['00', '01', '02', '03'], name='series_name')\n",
        "variable"
      ],
      "metadata": {
        "colab": {
          "base_uri": "https://localhost:8080/"
        },
        "id": "d4loAcrPqxKv",
        "outputId": "af9abeeb-c1c3-44be-fbee-b0be4c8a307f"
      },
      "execution_count": null,
      "outputs": [
        {
          "output_type": "execute_result",
          "data": {
            "text/plain": [
              "00    0\n",
              "01    1\n",
              "02    2\n",
              "03    3\n",
              "Name: series_name, dtype: object"
            ]
          },
          "metadata": {},
          "execution_count": 12
        }
      ]
    },
    {
      "cell_type": "markdown",
      "source": [
        "- Export file to csv "
      ],
      "metadata": {
        "id": "7oC-4E7OwXVH"
      }
    },
    {
      "cell_type": "code",
      "source": [
        "new_data_ppi.to_csv('easy_read_data_ppi.csv')"
      ],
      "metadata": {
        "id": "gTjz_xuiwVlA"
      },
      "execution_count": null,
      "outputs": []
    },
    {
      "cell_type": "markdown",
      "source": [
        "### Data processing\n",
        "\n",
        "Site of search"
      ],
      "metadata": {
        "id": "pIqa68bI9A70"
      }
    },
    {
      "cell_type": "code",
      "source": [
        "url = '...'"
      ],
      "metadata": {
        "id": "DBDxnEdiEjpd"
      },
      "execution_count": null,
      "outputs": []
    },
    {
      "cell_type": "markdown",
      "source": [
        "Read the spreadsheet: the format can be different, in this case html "
      ],
      "metadata": {
        "id": "EVTn6l70Ih7V"
      }
    },
    {
      "cell_type": "code",
      "source": [
        "html = pd.read_html(url, match='nome') "
      ],
      "metadata": {
        "id": "UY7TVCl9E2DU"
      },
      "execution_count": null,
      "outputs": []
    },
    {
      "cell_type": "markdown",
      "source": [
        "bulding local spreadsheet"
      ],
      "metadata": {
        "id": "8RW9Z4_YJ94M"
      }
    },
    {
      "cell_type": "code",
      "source": [
        "areas_leitura = {'coll': [1,2], 'coll': [3,4]}"
      ],
      "metadata": {
        "id": "SFppJ1sj7Mzt"
      },
      "execution_count": null,
      "outputs": []
    },
    {
      "cell_type": "code",
      "source": [
        "areas_leitura = pd.DataFrame() "
      ],
      "metadata": {
        "id": "cTHnkC476KUN"
      },
      "execution_count": null,
      "outputs": []
    },
    {
      "cell_type": "markdown",
      "source": [
        "## Plot map with data"
      ],
      "metadata": {
        "id": "4GxnUZmnK8uN"
      }
    },
    {
      "cell_type": "code",
      "source": [
        "mapaBrasil = gdf.read_file('/content/brazil_states/BRUFE250GC_SIR.shp')\n",
        "mapaBrasil.plot(figsize=(20, 20))"
      ],
      "metadata": {
        "id": "dOolhf2mK8Jt"
      },
      "execution_count": null,
      "outputs": []
    }
  ]
}