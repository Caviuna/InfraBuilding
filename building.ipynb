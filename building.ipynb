{
  "nbformat": 4,
  "nbformat_minor": 0,
  "metadata": {
    "colab": {
      "name": "building.ipynb",
      "provenance": [],
      "authorship_tag": "ABX9TyPnmLrDpZbf0+fc1tsQ50aO"
    },
    "kernelspec": {
      "name": "python3",
      "display_name": "Python 3"
    },
    "language_info": {
      "name": "python"
    }
  },
  "cells": [
    {
      "cell_type": "markdown",
      "source": [
        "# Install libs and config frameworks\n",
        "\n",
        "♟"
      ],
      "metadata": {
        "id": "pyA8HvvF72C1"
      }
    },
    {
      "cell_type": "code",
      "execution_count": null,
      "metadata": {
        "id": "Oi4yy02vOc-B"
      },
      "outputs": [],
      "source": [
        "!pip install geopandas"
      ]
    },
    {
      "cell_type": "code",
      "source": [
        "# import geopandas as gdf\n",
        "import matplotlib \n",
        "import pandas as pd\n",
        "import io \n"
      ],
      "metadata": {
        "id": "3JlQpCsBWvee"
      },
      "execution_count": null,
      "outputs": []
    },
    {
      "cell_type": "markdown",
      "source": [
        "## Import data \n"
      ],
      "metadata": {
        "id": "gerW25C7813U"
      }
    },
    {
      "cell_type": "markdown",
      "source": [
        "### File: \n",
        "\n",
        "Read file from: \n",
        "https://sidra.ibge.gov.br/acervo#/S/IU/A/110/T/Q "
      ],
      "metadata": {
        "id": "EULkh2yorzgo"
      }
    },
    {
      "cell_type": "code",
      "source": [
        "xlsx_file_link = '/content/Tabela de dados agregados.xlsx'\n",
        "pd.read_excel(xlsx_file_link)"
      ],
      "metadata": {
        "colab": {
          "base_uri": "https://localhost:8080/",
          "height": 49
        },
        "id": "OCt9Tpvwrymg",
        "outputId": "3a3b5917-14fb-4fca-cc16-a9e14b347199"
      },
      "execution_count": null,
      "outputs": [
        {
          "output_type": "execute_result",
          "data": {
            "text/html": [
              "\n",
              "  <div id=\"df-209d473b-f8ca-43be-bd3c-d7db61d7304a\">\n",
              "    <div class=\"colab-df-container\">\n",
              "      <div>\n",
              "<style scoped>\n",
              "    .dataframe tbody tr th:only-of-type {\n",
              "        vertical-align: middle;\n",
              "    }\n",
              "\n",
              "    .dataframe tbody tr th {\n",
              "        vertical-align: top;\n",
              "    }\n",
              "\n",
              "    .dataframe thead th {\n",
              "        text-align: right;\n",
              "    }\n",
              "</style>\n",
              "<table border=\"1\" class=\"dataframe\">\n",
              "  <thead>\n",
              "    <tr style=\"text-align: right;\">\n",
              "      <th></th>\n",
              "      <th>1160</th>\n",
              "      <th>Distribuição percentual de moradores em domicílios particulares permanentes pelo tipo de esgotamento sanitário, segundo a situação do domicílio</th>\n",
              "    </tr>\n",
              "  </thead>\n",
              "  <tbody>\n",
              "  </tbody>\n",
              "</table>\n",
              "</div>\n",
              "      <button class=\"colab-df-convert\" onclick=\"convertToInteractive('df-209d473b-f8ca-43be-bd3c-d7db61d7304a')\"\n",
              "              title=\"Convert this dataframe to an interactive table.\"\n",
              "              style=\"display:none;\">\n",
              "        \n",
              "  <svg xmlns=\"http://www.w3.org/2000/svg\" height=\"24px\"viewBox=\"0 0 24 24\"\n",
              "       width=\"24px\">\n",
              "    <path d=\"M0 0h24v24H0V0z\" fill=\"none\"/>\n",
              "    <path d=\"M18.56 5.44l.94 2.06.94-2.06 2.06-.94-2.06-.94-.94-2.06-.94 2.06-2.06.94zm-11 1L8.5 8.5l.94-2.06 2.06-.94-2.06-.94L8.5 2.5l-.94 2.06-2.06.94zm10 10l.94 2.06.94-2.06 2.06-.94-2.06-.94-.94-2.06-.94 2.06-2.06.94z\"/><path d=\"M17.41 7.96l-1.37-1.37c-.4-.4-.92-.59-1.43-.59-.52 0-1.04.2-1.43.59L10.3 9.45l-7.72 7.72c-.78.78-.78 2.05 0 2.83L4 21.41c.39.39.9.59 1.41.59.51 0 1.02-.2 1.41-.59l7.78-7.78 2.81-2.81c.8-.78.8-2.07 0-2.86zM5.41 20L4 18.59l7.72-7.72 1.47 1.35L5.41 20z\"/>\n",
              "  </svg>\n",
              "      </button>\n",
              "      \n",
              "  <style>\n",
              "    .colab-df-container {\n",
              "      display:flex;\n",
              "      flex-wrap:wrap;\n",
              "      gap: 12px;\n",
              "    }\n",
              "\n",
              "    .colab-df-convert {\n",
              "      background-color: #E8F0FE;\n",
              "      border: none;\n",
              "      border-radius: 50%;\n",
              "      cursor: pointer;\n",
              "      display: none;\n",
              "      fill: #1967D2;\n",
              "      height: 32px;\n",
              "      padding: 0 0 0 0;\n",
              "      width: 32px;\n",
              "    }\n",
              "\n",
              "    .colab-df-convert:hover {\n",
              "      background-color: #E2EBFA;\n",
              "      box-shadow: 0px 1px 2px rgba(60, 64, 67, 0.3), 0px 1px 3px 1px rgba(60, 64, 67, 0.15);\n",
              "      fill: #174EA6;\n",
              "    }\n",
              "\n",
              "    [theme=dark] .colab-df-convert {\n",
              "      background-color: #3B4455;\n",
              "      fill: #D2E3FC;\n",
              "    }\n",
              "\n",
              "    [theme=dark] .colab-df-convert:hover {\n",
              "      background-color: #434B5C;\n",
              "      box-shadow: 0px 1px 3px 1px rgba(0, 0, 0, 0.15);\n",
              "      filter: drop-shadow(0px 1px 2px rgba(0, 0, 0, 0.3));\n",
              "      fill: #FFFFFF;\n",
              "    }\n",
              "  </style>\n",
              "\n",
              "      <script>\n",
              "        const buttonEl =\n",
              "          document.querySelector('#df-209d473b-f8ca-43be-bd3c-d7db61d7304a button.colab-df-convert');\n",
              "        buttonEl.style.display =\n",
              "          google.colab.kernel.accessAllowed ? 'block' : 'none';\n",
              "\n",
              "        async function convertToInteractive(key) {\n",
              "          const element = document.querySelector('#df-209d473b-f8ca-43be-bd3c-d7db61d7304a');\n",
              "          const dataTable =\n",
              "            await google.colab.kernel.invokeFunction('convertToInteractive',\n",
              "                                                     [key], {});\n",
              "          if (!dataTable) return;\n",
              "\n",
              "          const docLinkHtml = 'Like what you see? Visit the ' +\n",
              "            '<a target=\"_blank\" href=https://colab.research.google.com/notebooks/data_table.ipynb>data table notebook</a>'\n",
              "            + ' to learn more about interactive tables.';\n",
              "          element.innerHTML = '';\n",
              "          dataTable['output_type'] = 'display_data';\n",
              "          await google.colab.output.renderOutput(dataTable, element);\n",
              "          const docLink = document.createElement('div');\n",
              "          docLink.innerHTML = docLinkHtml;\n",
              "          element.appendChild(docLink);\n",
              "        }\n",
              "      </script>\n",
              "    </div>\n",
              "  </div>\n",
              "  "
            ],
            "text/plain": [
              "Empty DataFrame\n",
              "Columns: [1160, Distribuição percentual de moradores em domicílios particulares permanentes pelo tipo de esgotamento sanitário, segundo a situação do domicílio]\n",
              "Index: []"
            ]
          },
          "metadata": {},
          "execution_count": 5
        }
      ]
    },
    {
      "cell_type": "markdown",
      "source": [
        "##  Ações necessárias para tratar o arquivo. -  Necessary action for make the file\n",
        "- Importa o aquivo no formato csv e define para ele uma variável < ppiread >\n",
        "- definido outra variável < pip_df > , 'read' lê arquivo definindo o separdador que por padrão é ' , ' porem no caso 'sep = ; ' \n",
        "- econding por padrão é o 'utf-8' mas no caso é ' econding = 'ISO-8859-1', o que é comum para arquivos dessa fonte de dados. \n",
        "- 'display' mostra o for aquivo 'head(10)' define a quantidade de linhas \n",
        "- print "
      ],
      "metadata": {
        "id": "WWErcidgFYaw"
      }
    },
    {
      "cell_type": "code",
      "source": [
        "ppiread = '/content/dados-abertos_ppi_31.08.18.csv'\n",
        "# df = pd.read_csv(ppiread, encoding='ISO-8859-1', error_bad_lines=False, engine='python')\n",
        "# ppi_df = pd.read_csv(ppiread, sep=';', delimiter=None, header='infer', names=None, index_col=None, usecols=None, squeeze=False, engine=None, encoding='ISO-8859-1')\n",
        "ppi_df = pd.read_csv(ppiread, sep = ';', delimiter=None, encoding='ISO-8859-1')\n",
        "display(ppi_df.head(10))\n",
        "print(ppi_df.shape.index)"
      ],
      "metadata": {
        "id": "zvhAKFxvySJf"
      },
      "execution_count": null,
      "outputs": []
    },
    {
      "cell_type": "code",
      "source": [
        "from google.colab import drive\n",
        "drive.mount('/content/drive')"
      ],
      "metadata": {
        "id": "6bpeOB8o33mQ"
      },
      "execution_count": null,
      "outputs": []
    },
    {
      "cell_type": "markdown",
      "source": [
        "- Exibe de maneira crua, porém útil para se visualizar a quantidade de linha e colunas "
      ],
      "metadata": {
        "id": "P82tbAN6HczX"
      }
    },
    {
      "cell_type": "code",
      "source": [
        "ppi_df "
      ],
      "metadata": {
        "id": "HThFCqI2FOho"
      },
      "execution_count": null,
      "outputs": []
    },
    {
      "cell_type": "markdown",
      "source": [
        "- Exclui as linhas completamente vazias, < dropna(how = 'all') > \n",
        " - para o caso de excluir alguma que tenha pelo menos um  vazio < dropna() >\n",
        "- Para caso precise remover alguma coluna < .drop('name', axis = 1) >\n",
        " - Para remover linha < .drop(0) >\n",
        "- Para verificar se tem alguma cédula que esteja vazia < .notnull().all() >"
      ],
      "metadata": {
        "id": "yKcKpPyNHwTW"
      }
    },
    {
      "cell_type": "code",
      "source": [
        "ppi_df.dropna(how='all') "
      ],
      "metadata": {
        "id": "3Iz-JRAKmnC4"
      },
      "execution_count": null,
      "outputs": []
    },
    {
      "cell_type": "markdown",
      "source": [
        "- Define a quantide de valore vazios nas linhas e colunas que sobraram "
      ],
      "metadata": {
        "id": "pbF3CLX9OUeD"
      }
    },
    {
      "cell_type": "markdown",
      "source": [
        ""
      ],
      "metadata": {
        "id": "CH4QVgjBN5C8"
      }
    },
    {
      "cell_type": "code",
      "source": [
        "ppi_df.columns"
      ],
      "metadata": {
        "id": "sgIQx4Os3EbJ"
      },
      "execution_count": null,
      "outputs": []
    },
    {
      "cell_type": "markdown",
      "source": [
        "- Ler a linha especificada e excluir a leitura das vazias "
      ],
      "metadata": {
        "id": "-Fr3K4UZ9gnK"
      }
    },
    {
      "cell_type": "code",
      "source": [
        "display(ppi_df.loc[4].dropna(how=('all')))\n"
      ],
      "metadata": {
        "id": "0ve3Mr3X5fio"
      },
      "execution_count": null,
      "outputs": []
    },
    {
      "cell_type": "markdown",
      "source": [
        "## Criação de um novo dataframe - Create a new dataframe "
      ],
      "metadata": {
        "id": "a_5OGCeuHu12"
      }
    },
    {
      "cell_type": "code",
      "source": [
        "display(ppi_df.describe()) # Outro tratamento necessário "
      ],
      "metadata": {
        "id": "f-IEwuxKuJUZ"
      },
      "execution_count": null,
      "outputs": []
    },
    {
      "cell_type": "code",
      "source": [
        "share_ppi_df = ppi_df[['Unnamed: 1', 'Unnamed: 2']]\n",
        "share_ppi_df"
      ],
      "metadata": {
        "id": "MPTZ6wiCwHFZ"
      },
      "execution_count": null,
      "outputs": []
    },
    {
      "cell_type": "code",
      "source": [
        "display(ppi_df.loc[5:10])"
      ],
      "metadata": {
        "id": "PZ3go0AI1Tbo"
      },
      "execution_count": null,
      "outputs": []
    },
    {
      "cell_type": "code",
      "source": [
        "ppi_df.loc[ppi_df['Unnamed: 10'] == 'Brasil']"
      ],
      "metadata": {
        "id": "4WMIe6-O17k5"
      },
      "execution_count": null,
      "outputs": []
    },
    {
      "cell_type": "code",
      "source": [
        "ppi_df.loc[ppi_df['Unnamed: 10'] == 'Brasil', ['Unnamed: 2', 'Unnamed: 9', 'Unnamed: 17']]"
      ],
      "metadata": {
        "id": "7kejJYO46eIR"
      },
      "execution_count": null,
      "outputs": []
    },
    {
      "cell_type": "code",
      "source": [
        ""
      ],
      "metadata": {
        "id": "6p17qPL00szP"
      },
      "execution_count": null,
      "outputs": []
    },
    {
      "cell_type": "markdown",
      "source": [
        "### Data processing\n",
        "\n",
        "Site of search"
      ],
      "metadata": {
        "id": "pIqa68bI9A70"
      }
    },
    {
      "cell_type": "code",
      "source": [
        "url = '...'"
      ],
      "metadata": {
        "id": "DBDxnEdiEjpd"
      },
      "execution_count": null,
      "outputs": []
    },
    {
      "cell_type": "markdown",
      "source": [
        "Read the spreadsheet: the format can be different, in this case html "
      ],
      "metadata": {
        "id": "EVTn6l70Ih7V"
      }
    },
    {
      "cell_type": "code",
      "source": [
        "html = pd.read_html(url, match='nome') "
      ],
      "metadata": {
        "id": "UY7TVCl9E2DU"
      },
      "execution_count": null,
      "outputs": []
    },
    {
      "cell_type": "markdown",
      "source": [
        "bulding local spreadsheet"
      ],
      "metadata": {
        "id": "8RW9Z4_YJ94M"
      }
    },
    {
      "cell_type": "code",
      "source": [
        "areas_leitura = {'coll': [1,2], 'coll': [3,4]}"
      ],
      "metadata": {
        "id": "SFppJ1sj7Mzt"
      },
      "execution_count": null,
      "outputs": []
    },
    {
      "cell_type": "code",
      "source": [
        "areas_leitura = pd.DataFrame() "
      ],
      "metadata": {
        "id": "cTHnkC476KUN"
      },
      "execution_count": null,
      "outputs": []
    },
    {
      "cell_type": "markdown",
      "source": [
        "## Plot map with data"
      ],
      "metadata": {
        "id": "4GxnUZmnK8uN"
      }
    },
    {
      "cell_type": "code",
      "source": [
        "mapaBrasil = gdf.read_file('/content/brazil_states/BRUFE250GC_SIR.shp')\n",
        "mapaBrasil.plot(figsize=(20, 20))"
      ],
      "metadata": {
        "id": "dOolhf2mK8Jt"
      },
      "execution_count": null,
      "outputs": []
    }
  ]
}