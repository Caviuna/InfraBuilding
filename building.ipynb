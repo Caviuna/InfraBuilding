{
  "nbformat": 4,
  "nbformat_minor": 0,
  "metadata": {
    "colab": {
      "name": "building.ipynb",
      "provenance": [],
      "authorship_tag": "ABX9TyNajso3HWxuw8iu8lV3vGPW"
    },
    "kernelspec": {
      "name": "python3",
      "display_name": "Python 3"
    },
    "language_info": {
      "name": "python"
    }
  },
  "cells": [
    {
      "cell_type": "markdown",
      "source": [
        "# Install libs and config frameworks\n",
        "\n",
        "♟"
      ],
      "metadata": {
        "id": "pyA8HvvF72C1"
      }
    },
    {
      "cell_type": "code",
      "source": [
        "# import geopandas as gdf\n",
        "import matplotlib \n",
        "import pandas as pd"
      ],
      "metadata": {
        "id": "3JlQpCsBWvee"
      },
      "execution_count": 1,
      "outputs": []
    },
    {
      "cell_type": "markdown",
      "source": [
        "## Import data \n"
      ],
      "metadata": {
        "id": "gerW25C7813U"
      }
    },
    {
      "cell_type": "markdown",
      "source": [
        "### File: \n",
        "\n",
        "Read file from: \n",
        "https://sidra.ibge.gov.br/acervo#/S/IU/A/110/T/Q "
      ],
      "metadata": {
        "id": "EULkh2yorzgo"
      }
    },
    {
      "cell_type": "code",
      "source": [
        "# xlsx_file_link = '/content/Tabela de dados agregados.xlsx'\n",
        "# pd.read_excel(xlsx_file_link)"
      ],
      "metadata": {
        "id": "OCt9Tpvwrymg"
      },
      "execution_count": null,
      "outputs": []
    },
    {
      "cell_type": "markdown",
      "source": [
        "##  Ações necessárias para tratar o arquivo. -  Necessary action for make the file\n",
        "- Importa o aquivo no formato csv e define para ele uma variável < ppiread >\n",
        "- definido outra variável < pip_df > , 'read' lê arquivo definindo o separdador que por padrão é ' , ' porem no caso 'sep = ; ' \n",
        "- econding por padrão é o 'utf-8' mas no caso é ' econding = 'ISO-8859-1', o que é comum para arquivos dessa fonte de dados. \n",
        "- 'display' mostra o for aquivo 'head(10)' define a quantidade de linhas \n",
        "- print "
      ],
      "metadata": {
        "id": "WWErcidgFYaw"
      }
    },
    {
      "cell_type": "code",
      "source": [
        "ppiread = '/content/dados-abertos_ppi_31.08.18.csv'\n",
        "# df = pd.read_csv(ppiread, encoding='ISO-8859-1', error_bad_lines=False, engine='python')\n",
        "# ppi_df = pd.read_csv(ppiread, sep=';', delimiter=None, header='infer', names=None, index_col=None, usecols=None, squeeze=False, engine=None, encoding='ISO-8859-1')\n",
        "ppi_df = pd.read_csv(ppiread, sep = ';', delimiter=None, encoding='ISO-8859-1')\n",
        "# display(ppi_df.head(10))\n",
        "display(ppi_df.head(244))\n",
        "print(ppi_df.shape.index)"
      ],
      "metadata": {
        "id": "zvhAKFxvySJf"
      },
      "execution_count": null,
      "outputs": []
    },
    {
      "cell_type": "code",
      "source": [
        "# from google.colab import drive\n",
        "# drive.mount('/content/drive')"
      ],
      "metadata": {
        "id": "6bpeOB8o33mQ"
      },
      "execution_count": null,
      "outputs": []
    },
    {
      "cell_type": "markdown",
      "source": [
        "- Exiba de maneira crua, porém útil para se visualizar a quantidade de linha e colunas "
      ],
      "metadata": {
        "id": "P82tbAN6HczX"
      }
    },
    {
      "cell_type": "code",
      "source": [
        "ppi_df "
      ],
      "metadata": {
        "id": "HThFCqI2FOho"
      },
      "execution_count": null,
      "outputs": []
    },
    {
      "cell_type": "markdown",
      "source": [
        "- Excluir as linhas completamente vazias, < dropna(how = 'all') > \n",
        " - para o caso de excluir alguma que tenha pelo menos um  vazio < dropna() >\n",
        "- Para caso precise remover alguma coluna < .drop('name', axis = 1) >\n",
        " - Para remover linha < .drop(0) >\n",
        "- verificar se tem alguma cédula que esteja vazia < .notnull().all() >"
      ],
      "metadata": {
        "id": "yKcKpPyNHwTW"
      }
    },
    {
      "cell_type": "code",
      "source": [
        "ppi_df.dropna(how='all') "
      ],
      "metadata": {
        "id": "3Iz-JRAKmnC4"
      },
      "execution_count": null,
      "outputs": []
    },
    {
      "cell_type": "markdown",
      "source": [
        "- Definer a quantide de valore vazios nas linhas e colunas que sobraram "
      ],
      "metadata": {
        "id": "pbF3CLX9OUeD"
      }
    },
    {
      "cell_type": "markdown",
      "source": [
        ""
      ],
      "metadata": {
        "id": "CH4QVgjBN5C8"
      }
    },
    {
      "cell_type": "code",
      "source": [
        "ppi_df.columns"
      ],
      "metadata": {
        "id": "sgIQx4Os3EbJ"
      },
      "execution_count": null,
      "outputs": []
    },
    {
      "cell_type": "markdown",
      "source": [
        "- Checar possíveis colunas vazias:  "
      ],
      "metadata": {
        "id": "AKXoXYzSMrTD"
      }
    },
    {
      "cell_type": "code",
      "source": [
        "display(ppi_df['Unnamed: 43'].dropna(how=('all')))"
      ],
      "metadata": {
        "id": "bwlehRvDMsQT"
      },
      "execution_count": null,
      "outputs": []
    },
    {
      "cell_type": "code",
      "source": [
        "ppi_df.notna()"
      ],
      "metadata": {
        "id": "eOYdzeNyZIt5"
      },
      "execution_count": null,
      "outputs": []
    },
    {
      "cell_type": "markdown",
      "source": [
        "- Ler a linha especificada e excluir a leitura das vazias "
      ],
      "metadata": {
        "id": "-Fr3K4UZ9gnK"
      }
    },
    {
      "cell_type": "code",
      "source": [
        "display(ppi_df.loc[4].dropna(how=('all')))\n"
      ],
      "metadata": {
        "id": "0ve3Mr3X5fio"
      },
      "execution_count": null,
      "outputs": []
    },
    {
      "cell_type": "markdown",
      "source": [
        "- Removedo colunas\n",
        " "
      ],
      "metadata": {
        "id": "KjKZ62VUPCg4"
      }
    },
    {
      "cell_type": "code",
      "source": [
        "ppi_df_v2 = ppi_df.drop([ 'Unnamed: 37', 'Unnamed: 38', 'Unnamed: 39', 'Unnamed: 40',\n",
        "                          'Unnamed: 41', 'Unnamed: 42', 'Unnamed: 44',\n",
        "                          'Unnamed: 45', 'Unnamed: 46', 'Unnamed: 47', 'Unnamed: 48',\n",
        "                          'Unnamed: 49', 'Unnamed: 50', 'Unnamed: 51', 'Unnamed: 52',\n",
        "                          'Unnamed: 53', 'Unnamed: 54', 'Unnamed: 55', 'Unnamed: 56',\n",
        "                          'Unnamed: 57', 'Unnamed: 58', 'Unnamed: 59', 'Unnamed: 60',\n",
        "                          'Unnamed: 61', 'Unnamed: 62', 'Unnamed: 63', 'Unnamed: 64',\n",
        "                          'Unnamed: 65', 'Unnamed: 66', 'Unnamed: 67', 'Unnamed: 68',\n",
        "                          'Unnamed: 69', 'Unnamed: 70', 'Unnamed: 71', 'Unnamed: 72',\n",
        "                          'Unnamed: 73', 'Unnamed: 74', 'Unnamed: 75', 'Unnamed: 76',\n",
        "                          'Unnamed: 77', 'Unnamed: 78', 'Unnamed: 79', 'Unnamed: 80',\n",
        "                          'Unnamed: 81'], axis=1)"
      ],
      "metadata": {
        "id": "dBQ7jXFQMacH"
      },
      "execution_count": 7,
      "outputs": []
    },
    {
      "cell_type": "code",
      "source": [
        "ppi_df_v3 = ppi_df_v2.dropna(how='all') "
      ],
      "metadata": {
        "id": "BheiRKPrf0Po"
      },
      "execution_count": 8,
      "outputs": []
    },
    {
      "cell_type": "code",
      "source": [
        "ppi_df_v3"
      ],
      "metadata": {
        "id": "Spdgf4CQgOXZ"
      },
      "execution_count": null,
      "outputs": []
    },
    {
      "cell_type": "markdown",
      "source": [
        "- Clear cvs file (Limpar arquivo) "
      ],
      "metadata": {
        "id": "fCdEB5Rv47Zv"
      }
    },
    {
      "cell_type": "code",
      "source": [
        "ppi_df_v3['Unnamed: 0'].head(15)"
      ],
      "metadata": {
        "id": "yH4jDrtv5F8U"
      },
      "execution_count": null,
      "outputs": []
    },
    {
      "cell_type": "markdown",
      "source": [
        "- Procurando valores vazios em cada coluna (missing empty value) "
      ],
      "metadata": {
        "id": "BUVW8PFsFQKU"
      }
    },
    {
      "cell_type": "code",
      "source": [
        "count = 0 \n",
        "for row in ppi_df_v3['Unnamed: 10']:\n",
        "    try:\n",
        "      int(row)\n",
        "      ppi_df_v3[count, 'Unnamed: 10'] = np.nan\n",
        "    except ValueError: \n",
        "      pass\n",
        "    count += 1 "
      ],
      "metadata": {
        "id": "WtAlVfzX86nG"
      },
      "execution_count": 10,
      "outputs": []
    },
    {
      "cell_type": "markdown",
      "source": [
        "- count number values cells (contando o numero de celulas vazias) "
      ],
      "metadata": {
        "id": "hF4Wft_uH2-D"
      }
    },
    {
      "cell_type": "code",
      "source": [
        "ppi_df_v3.isnull().sum()"
      ],
      "metadata": {
        "id": "ilLtOmzjDY2t"
      },
      "execution_count": null,
      "outputs": []
    },
    {
      "cell_type": "markdown",
      "source": [
        "- check info above, include empty columns in step above - code line 27 (checar a informação acima e incluir as as colunas  vazias na rotina da linha do cidigo 27) - ajust this after. "
      ],
      "metadata": {
        "id": "qf_KQde0I9Zx"
      }
    },
    {
      "cell_type": "code",
      "source": [
        "ppi_df_v3['Unnamed: 27'].head(200)"
      ],
      "metadata": {
        "id": "HsJYflYgIo4b"
      },
      "execution_count": null,
      "outputs": []
    },
    {
      "cell_type": "markdown",
      "source": [
        ""
      ],
      "metadata": {
        "id": "fy9TJFcQJzzT"
      }
    },
    {
      "cell_type": "code",
      "source": [
        "ppi_df_v4 = ppi_df_v3.drop([ 'Unnamed: 27', 'Unnamed: 28', 'Unnamed: 29',\n",
        "                          'Unnamed: 30', 'Unnamed: 31', 'Unnamed: 32', 'Unnamed: 33',\n",
        "                          'Unnamed: 34'], axis = 1) "
      ],
      "metadata": {
        "id": "FkK2EPqKPIGi"
      },
      "execution_count": 13,
      "outputs": []
    },
    {
      "cell_type": "code",
      "source": [
        "ppi_df_v4"
      ],
      "metadata": {
        "id": "MW5CQbPqPoQp"
      },
      "execution_count": null,
      "outputs": []
    },
    {
      "cell_type": "markdown",
      "source": [
        "- Dtype columns "
      ],
      "metadata": {
        "id": "WCmlxczeG3a1"
      }
    },
    {
      "cell_type": "code",
      "source": [
        "ppi_df_v4.info() # ppi_df_v4.info(verbose=True) "
      ],
      "metadata": {
        "id": "2eqpIp0Oo3Js"
      },
      "execution_count": null,
      "outputs": []
    },
    {
      "cell_type": "markdown",
      "source": [
        "- metodo < query >  "
      ],
      "metadata": {
        "id": "rvVE2OX-Mh_5"
      }
    },
    {
      "cell_type": "code",
      "source": [
        "# ppi_df_v4.map(lambda x: x.replace('', '_') if isinstance(x, (str))else x)\n",
        "# ppi_df_v4.query('Nation == \"Brasil\"').head(10)"
      ],
      "metadata": {
        "id": "N17_mROWMO1Q"
      },
      "execution_count": null,
      "outputs": []
    },
    {
      "cell_type": "code",
      "source": [
        "ppi_df_v4.index"
      ],
      "metadata": {
        "id": "TDIPo2g3MufO"
      },
      "execution_count": null,
      "outputs": []
    },
    {
      "cell_type": "code",
      "source": [
        "ppi_df_v4.columns"
      ],
      "metadata": {
        "id": "bbGuiKZ5MvNg"
      },
      "execution_count": null,
      "outputs": []
    },
    {
      "cell_type": "code",
      "source": [
        "# ppi_df_v4.set_index('Unnamed: 0', inplace=True)"
      ],
      "metadata": {
        "id": "z9YdNSUHMvkY"
      },
      "execution_count": null,
      "outputs": []
    },
    {
      "cell_type": "markdown",
      "source": [
        "- set index for column 01 - (reindexando a primeira coluna, que por padrão é gerada pelo pandas) "
      ],
      "metadata": {
        "id": "k9e2gJ9lv5aE"
      }
    },
    {
      "cell_type": "code",
      "source": [
        "# ppi_df_v4.set_index('Unnamed: 0', inplace=True)"
      ],
      "metadata": {
        "id": "DuaBA1WIvE17"
      },
      "execution_count": null,
      "outputs": []
    },
    {
      "cell_type": "markdown",
      "source": [
        "- Use loc <.loc[row1, row2...['column1', 'column2',...]] for slace < : >  "
      ],
      "metadata": {
        "id": "0opsKPBz5P35"
      }
    },
    {
      "cell_type": "code",
      "source": [
        "pd.set_option('max_rows', 200)\n",
        "pd.set_option('max_columns', 100)"
      ],
      "metadata": {
        "id": "Wc79tTn3POvQ"
      },
      "execution_count": 14,
      "outputs": []
    },
    {
      "cell_type": "code",
      "source": [
        "ppi_df_v4.loc[4:]"
      ],
      "metadata": {
        "id": "vx7EpUhgys5a"
      },
      "execution_count": null,
      "outputs": []
    },
    {
      "cell_type": "markdown",
      "source": [
        "- Describe quantidades, particularidades, referência e frequência."
      ],
      "metadata": {
        "id": "qWNW_9u3FzVw"
      }
    },
    {
      "cell_type": "code",
      "source": [
        "ppi_df_v4.describe()"
      ],
      "metadata": {
        "id": "QAXSk0akLZGd"
      },
      "execution_count": null,
      "outputs": []
    },
    {
      "cell_type": "code",
      "source": [
        "ppi_df_v4.columns.values"
      ],
      "metadata": {
        "id": "CBNPFvQebV5H"
      },
      "execution_count": null,
      "outputs": []
    },
    {
      "cell_type": "markdown",
      "source": [
        "# Create a new dataframe - Criação de um novo dataframe "
      ],
      "metadata": {
        "id": "a_5OGCeuHu12"
      }
    },
    {
      "cell_type": "markdown",
      "source": [
        "- Criação de nova dataframe if new colunas e linhas. \n",
        " - (create new dataframe) "
      ],
      "metadata": {
        "id": "l9b2x5qXnhGf"
      }
    },
    {
      "cell_type": "code",
      "source": [
        "df_pip_new = ppi_df_v4"
      ],
      "metadata": {
        "id": "rXwYS-fwbwpG"
      },
      "execution_count": 18,
      "outputs": []
    },
    {
      "cell_type": "code",
      "source": [
        "df_pip_new.columns = [' #', 'Empreendimento', 'UF', 'Previsão de Conclusão', 'Investimentos\\nEstimados',\n",
        "                       'Outorga Efetiva', '% Excedente Partilha Mínimo (média das áreas)', '% Excedente Partilha', 'Nº Empresas participantes Leilões', 'Empresas Participantes',\n",
        "                       'Nacionalidade', 'Publicação do Edital * Termo Aditivo', ' Sessão Pública (Leilão)', 'Licitante\\nVencedora',\n",
        "                       'Nacionalidade', 'Ministério', 'Setor', 'Subsetor',\n",
        "                       'Modalidade\\nOperacional', 'Qualificação', 'ESTUDO - MARCOS DO PROJETO', 'CONSULTA PÚBLICA',\n",
        "                       'ACÓRDÃO TCU', 'EDITAL', 'LEILÃO', 'CONTRATO', 'ESTÁGIO ATUAL DO PROCESSO',\n",
        "                       'MODALIDADE CONCESSÃO', 'MODALIDADE PRORROGAÇÃO', 'NA']\n"
      ],
      "metadata": {
        "id": "dbp1UvMQ9olW"
      },
      "execution_count": 19,
      "outputs": []
    },
    {
      "cell_type": "code",
      "source": [
        "df_pip_new"
      ],
      "metadata": {
        "id": "Ui5O5kA0b9xW"
      },
      "execution_count": null,
      "outputs": []
    },
    {
      "cell_type": "code",
      "source": [
        "df_pip_new['MODALIDADE CONCESSÃO']"
      ],
      "metadata": {
        "id": "Jp8z1326ef8F"
      },
      "execution_count": null,
      "outputs": []
    },
    {
      "cell_type": "code",
      "source": [
        "print(df_pip_new.loc[:, ['Outorga Efetiva', 'NA']])"
      ],
      "metadata": {
        "id": "5O5XysWa-s8r"
      },
      "execution_count": null,
      "outputs": []
    },
    {
      "cell_type": "code",
      "source": [
        "display(ppi_df['MODALIDADE CONCESSÃO'].dropna(how=('all')))"
      ],
      "metadata": {
        "id": "Iz_8Di2VbVa3"
      },
      "execution_count": null,
      "outputs": []
    },
    {
      "cell_type": "markdown",
      "source": [
        " - Create a subdata - Criar uma subtabela Modallidade de concessão  "
      ],
      "metadata": {
        "id": "lL0HwEX0fwOF"
      }
    },
    {
      "cell_type": "code",
      "source": [
        "df_modal_concessao = pd.DataFrame({'MODALIDADE CONCESSÃO': ['1. Estudo', '2. Consulta Pública ',\n",
        "                                                            '3. Análise TCU', '4. Edital publicado',\n",
        "                                                            '5. Leilão realizado', '6. Contrato assinado']},\n",
        "                                   index=[0,1,2,3,4,5])\n",
        "df_modal_concessao"
      ],
      "metadata": {
        "id": "kel2ZvQlcbre"
      },
      "execution_count": null,
      "outputs": []
    },
    {
      "cell_type": "code",
      "source": [
        "df_pip_new['MODALIDADE PRORROGAÇÃO']"
      ],
      "metadata": {
        "id": "5LxpmegVf-gU"
      },
      "execution_count": null,
      "outputs": []
    },
    {
      "cell_type": "markdown",
      "source": [
        "- Remove row and columns. Remover linas e colunas  "
      ],
      "metadata": {
        "id": "uwkuYAQyg8IM"
      }
    },
    {
      "cell_type": "code",
      "source": [
        "df_pip_new_01 = df_pip_new.drop(columns = [' #', 'MODALIDADE CONCESSÃO', 'MODALIDADE PRORROGAÇÃO'])"
      ],
      "metadata": {
        "id": "iD3lchK6g6EE"
      },
      "execution_count": 26,
      "outputs": []
    },
    {
      "cell_type": "code",
      "source": [
        "df_pip_new_02 = df_pip_new_01.drop([0,1,2,3,4])"
      ],
      "metadata": {
        "id": "Nv0fC9GIqGPX"
      },
      "execution_count": 27,
      "outputs": []
    },
    {
      "cell_type": "code",
      "source": [
        "df_pip_new_02.head()"
      ],
      "metadata": {
        "id": "xMdl1SiKlB2i"
      },
      "execution_count": null,
      "outputs": []
    },
    {
      "cell_type": "markdown",
      "source": [
        "- Apply changes in index and ajust first rows - Ajustando a primeira linha do df para gerar um novo index. "
      ],
      "metadata": {
        "id": "VU64S84O8uSZ"
      }
    },
    {
      "cell_type": "code",
      "source": [
        "df_pip_new_03 = df_pip_new_02.reset_index(drop=True)"
      ],
      "metadata": {
        "id": "DzZYTs9M617C"
      },
      "execution_count": 29,
      "outputs": []
    },
    {
      "cell_type": "code",
      "source": [
        "df_pip_new_03.head(200)"
      ],
      "metadata": {
        "id": "EdkKgHa19fAo"
      },
      "execution_count": null,
      "outputs": []
    },
    {
      "cell_type": "markdown",
      "source": [
        "## Isolate Dataframes - classificar base de dados"
      ],
      "metadata": {
        "id": "QApMMqNUbMWD"
      }
    },
    {
      "cell_type": "code",
      "source": [
        "df_emprLocal = df_pip_new_03.loc[:, ['Empreendimento', 'UF']]"
      ],
      "metadata": {
        "id": "gvT2e4JKbowr"
      },
      "execution_count": 31,
      "outputs": []
    },
    {
      "cell_type": "code",
      "source": [
        "display(df_emprLocal)"
      ],
      "metadata": {
        "id": "na7km4ogd1oy"
      },
      "execution_count": null,
      "outputs": []
    },
    {
      "cell_type": "code",
      "source": [
        "df_emprLocal_00 = df_emprLocal.drop(index = [191, 192, 193, 194])"
      ],
      "metadata": {
        "id": "RSpTnDmfeZSq"
      },
      "execution_count": 33,
      "outputs": []
    },
    {
      "cell_type": "code",
      "source": [
        "df_emprLocal_00"
      ],
      "metadata": {
        "id": "cSYOvJwlgrO5"
      },
      "execution_count": null,
      "outputs": []
    },
    {
      "cell_type": "markdown",
      "source": [
        "# Local buidings. - Localização das obras "
      ],
      "metadata": {
        "id": "HRzLOQ-ZZjzk"
      }
    },
    {
      "cell_type": "markdown",
      "source": [
        "- install frameworks "
      ],
      "metadata": {
        "id": "KscIDKetaWGj"
      }
    },
    {
      "cell_type": "code",
      "source": [
        "!pip install geopandas"
      ],
      "metadata": {
        "id": "SLHCoqx8aEec"
      },
      "execution_count": null,
      "outputs": []
    },
    {
      "cell_type": "code",
      "source": [
        "!pip install geopy "
      ],
      "metadata": {
        "id": "sunyC5YAaQSU",
        "colab": {
          "base_uri": "https://localhost:8080/"
        },
        "outputId": "af7454bb-0507-4cec-eeee-f2d6579aef77"
      },
      "execution_count": 36,
      "outputs": [
        {
          "output_type": "stream",
          "name": "stdout",
          "text": [
            "Requirement already satisfied: geopy in /usr/local/lib/python3.7/dist-packages (1.17.0)\n",
            "Requirement already satisfied: geographiclib<2,>=1.49 in /usr/local/lib/python3.7/dist-packages (from geopy) (1.52)\n"
          ]
        }
      ]
    },
    {
      "cell_type": "markdown",
      "source": [
        "- import libs "
      ],
      "metadata": {
        "id": "d2_jzbNPaa3D"
      }
    },
    {
      "cell_type": "code",
      "source": [
        "import geopandas as gpds "
      ],
      "metadata": {
        "id": "oW2icWYoad0D"
      },
      "execution_count": 37,
      "outputs": []
    },
    {
      "cell_type": "markdown",
      "source": [
        "- treat location "
      ],
      "metadata": {
        "id": "zPx7IKPsi5vP"
      }
    },
    {
      "cell_type": "code",
      "source": [
        "gpds.tools.geocode(df_emprLocal_00['Empreendimento'], provider = 'nominatim', user_agent='UF Builds', country_bias = 'brazil_states')"
      ],
      "metadata": {
        "id": "NoHWoJ7ubJ8U"
      },
      "execution_count": null,
      "outputs": []
    },
    {
      "cell_type": "code",
      "source": [
        "df_emprLocal_01 = gpds.tools.geocode(df_emprLocal_00['Empreendimento'], provider = 'nominatim', user_agent='UF Builds', country_bias = 'brazil_states')['geometry']"
      ],
      "metadata": {
        "id": "vKY_z32Mlbs3"
      },
      "execution_count": 39,
      "outputs": []
    },
    {
      "cell_type": "code",
      "source": [
        "# df_emprLocal_01 = df_emprLocal_00['Empreendimento'].dropna(how=('all'))\n",
        "df_emprLocal_01"
      ],
      "metadata": {
        "id": "HMjlI-zHjSDX",
        "colab": {
          "base_uri": "https://localhost:8080/"
        },
        "outputId": "b5d3c424-29e3-4c47-889f-fd800b068eeb"
      },
      "execution_count": 40,
      "outputs": [
        {
          "output_type": "execute_result",
          "data": {
            "text/plain": [
              "0      POINT (-38.34109 -12.90422)\n",
              "1      POINT (-48.53533 -27.68058)\n",
              "2       POINT (-38.53549 -3.77626)\n",
              "3      POINT (-51.18287 -29.98773)\n",
              "4       POINT (-35.71050 -9.66392)\n",
              "5       POINT (-34.94622 -7.15926)\n",
              "6      POINT (-37.07603 -10.98281)\n",
              "7       POINT (-39.26783 -7.21970)\n",
              "8       POINT (-35.89610 -7.27016)\n",
              "9       POINT (-34.91461 -8.13418)\n",
              "10     POINT (-56.10938 -15.65949)\n",
              "11     POINT (-54.72482 -16.58343)\n",
              "12     POINT (-54.20920 -11.26335)\n",
              "13      POINT (-56.10604 -9.86616)\n",
              "14     POINT (-52.39007 -15.86067)\n",
              "15     POINT (-40.28136 -20.25609)\n",
              "16     POINT (-41.76577 -22.34317)\n",
              "17     POINT (-47.90483 -15.77169)\n",
              "18     POINT (-43.96837 -19.63340)\n",
              "19     POINT (-43.25862 -22.81122)\n",
              "20     POINT (-46.48132 -23.43779)\n",
              "21        GEOMETRYCOLLECTION EMPTY\n",
              "22        GEOMETRYCOLLECTION EMPTY\n",
              "23        GEOMETRYCOLLECTION EMPTY\n",
              "24        GEOMETRYCOLLECTION EMPTY\n",
              "25        GEOMETRYCOLLECTION EMPTY\n",
              "26        GEOMETRYCOLLECTION EMPTY\n",
              "27        GEOMETRYCOLLECTION EMPTY\n",
              "28        GEOMETRYCOLLECTION EMPTY\n",
              "29        GEOMETRYCOLLECTION EMPTY\n",
              "30        GEOMETRYCOLLECTION EMPTY\n",
              "31        GEOMETRYCOLLECTION EMPTY\n",
              "32        GEOMETRYCOLLECTION EMPTY\n",
              "33        GEOMETRYCOLLECTION EMPTY\n",
              "34        GEOMETRYCOLLECTION EMPTY\n",
              "35        GEOMETRYCOLLECTION EMPTY\n",
              "36        GEOMETRYCOLLECTION EMPTY\n",
              "37        GEOMETRYCOLLECTION EMPTY\n",
              "38        GEOMETRYCOLLECTION EMPTY\n",
              "39        GEOMETRYCOLLECTION EMPTY\n",
              "40        GEOMETRYCOLLECTION EMPTY\n",
              "41        GEOMETRYCOLLECTION EMPTY\n",
              "42        GEOMETRYCOLLECTION EMPTY\n",
              "43        GEOMETRYCOLLECTION EMPTY\n",
              "44        GEOMETRYCOLLECTION EMPTY\n",
              "45        GEOMETRYCOLLECTION EMPTY\n",
              "46        GEOMETRYCOLLECTION EMPTY\n",
              "47        GEOMETRYCOLLECTION EMPTY\n",
              "48        GEOMETRYCOLLECTION EMPTY\n",
              "49        GEOMETRYCOLLECTION EMPTY\n",
              "50        GEOMETRYCOLLECTION EMPTY\n",
              "51        GEOMETRYCOLLECTION EMPTY\n",
              "52        GEOMETRYCOLLECTION EMPTY\n",
              "53        GEOMETRYCOLLECTION EMPTY\n",
              "54        GEOMETRYCOLLECTION EMPTY\n",
              "55        GEOMETRYCOLLECTION EMPTY\n",
              "56        GEOMETRYCOLLECTION EMPTY\n",
              "57        GEOMETRYCOLLECTION EMPTY\n",
              "58        GEOMETRYCOLLECTION EMPTY\n",
              "59        GEOMETRYCOLLECTION EMPTY\n",
              "60        GEOMETRYCOLLECTION EMPTY\n",
              "61     POINT (-50.50056 -19.04419)\n",
              "62     POINT (-48.88310 -26.29660)\n",
              "63        GEOMETRYCOLLECTION EMPTY\n",
              "64     POINT (-43.18706 -22.64757)\n",
              "65     POINT (-43.26644 -22.01128)\n",
              "66     POINT (-49.12143 -12.91521)\n",
              "67     POINT (-60.06599 -12.86027)\n",
              "68     POINT (-50.29751 -18.69330)\n",
              "69        GEOMETRYCOLLECTION EMPTY\n",
              "70        GEOMETRYCOLLECTION EMPTY\n",
              "71     POINT (-50.64205 -27.45632)\n",
              "72        GEOMETRYCOLLECTION EMPTY\n",
              "73        GEOMETRYCOLLECTION EMPTY\n",
              "74        GEOMETRYCOLLECTION EMPTY\n",
              "75        GEOMETRYCOLLECTION EMPTY\n",
              "76        GEOMETRYCOLLECTION EMPTY\n",
              "77        GEOMETRYCOLLECTION EMPTY\n",
              "78        GEOMETRYCOLLECTION EMPTY\n",
              "79        GEOMETRYCOLLECTION EMPTY\n",
              "80        GEOMETRYCOLLECTION EMPTY\n",
              "81        GEOMETRYCOLLECTION EMPTY\n",
              "82        GEOMETRYCOLLECTION EMPTY\n",
              "83        GEOMETRYCOLLECTION EMPTY\n",
              "84        GEOMETRYCOLLECTION EMPTY\n",
              "85        GEOMETRYCOLLECTION EMPTY\n",
              "86        GEOMETRYCOLLECTION EMPTY\n",
              "87        GEOMETRYCOLLECTION EMPTY\n",
              "88        GEOMETRYCOLLECTION EMPTY\n",
              "89        GEOMETRYCOLLECTION EMPTY\n",
              "90        GEOMETRYCOLLECTION EMPTY\n",
              "91        GEOMETRYCOLLECTION EMPTY\n",
              "92        GEOMETRYCOLLECTION EMPTY\n",
              "93        GEOMETRYCOLLECTION EMPTY\n",
              "94        GEOMETRYCOLLECTION EMPTY\n",
              "95        GEOMETRYCOLLECTION EMPTY\n",
              "96        GEOMETRYCOLLECTION EMPTY\n",
              "97        GEOMETRYCOLLECTION EMPTY\n",
              "98        GEOMETRYCOLLECTION EMPTY\n",
              "99        GEOMETRYCOLLECTION EMPTY\n",
              "100       GEOMETRYCOLLECTION EMPTY\n",
              "101       GEOMETRYCOLLECTION EMPTY\n",
              "102       GEOMETRYCOLLECTION EMPTY\n",
              "103       GEOMETRYCOLLECTION EMPTY\n",
              "104       GEOMETRYCOLLECTION EMPTY\n",
              "105       GEOMETRYCOLLECTION EMPTY\n",
              "106       GEOMETRYCOLLECTION EMPTY\n",
              "107       GEOMETRYCOLLECTION EMPTY\n",
              "108       GEOMETRYCOLLECTION EMPTY\n",
              "109       GEOMETRYCOLLECTION EMPTY\n",
              "110       GEOMETRYCOLLECTION EMPTY\n",
              "111       GEOMETRYCOLLECTION EMPTY\n",
              "112       GEOMETRYCOLLECTION EMPTY\n",
              "113       GEOMETRYCOLLECTION EMPTY\n",
              "114       GEOMETRYCOLLECTION EMPTY\n",
              "115       GEOMETRYCOLLECTION EMPTY\n",
              "116       GEOMETRYCOLLECTION EMPTY\n",
              "117       GEOMETRYCOLLECTION EMPTY\n",
              "118       GEOMETRYCOLLECTION EMPTY\n",
              "119       GEOMETRYCOLLECTION EMPTY\n",
              "120       GEOMETRYCOLLECTION EMPTY\n",
              "121       GEOMETRYCOLLECTION EMPTY\n",
              "122       GEOMETRYCOLLECTION EMPTY\n",
              "123       GEOMETRYCOLLECTION EMPTY\n",
              "124       GEOMETRYCOLLECTION EMPTY\n",
              "125       GEOMETRYCOLLECTION EMPTY\n",
              "126       GEOMETRYCOLLECTION EMPTY\n",
              "127       GEOMETRYCOLLECTION EMPTY\n",
              "128       GEOMETRYCOLLECTION EMPTY\n",
              "129       GEOMETRYCOLLECTION EMPTY\n",
              "130       GEOMETRYCOLLECTION EMPTY\n",
              "131       GEOMETRYCOLLECTION EMPTY\n",
              "132       GEOMETRYCOLLECTION EMPTY\n",
              "133       GEOMETRYCOLLECTION EMPTY\n",
              "134       GEOMETRYCOLLECTION EMPTY\n",
              "135       GEOMETRYCOLLECTION EMPTY\n",
              "136       GEOMETRYCOLLECTION EMPTY\n",
              "137       GEOMETRYCOLLECTION EMPTY\n",
              "138       GEOMETRYCOLLECTION EMPTY\n",
              "139       GEOMETRYCOLLECTION EMPTY\n",
              "140       GEOMETRYCOLLECTION EMPTY\n",
              "141       GEOMETRYCOLLECTION EMPTY\n",
              "142    POINT (-44.04578 -19.89558)\n",
              "143       GEOMETRYCOLLECTION EMPTY\n",
              "144       GEOMETRYCOLLECTION EMPTY\n",
              "145       GEOMETRYCOLLECTION EMPTY\n",
              "146       GEOMETRYCOLLECTION EMPTY\n",
              "147       GEOMETRYCOLLECTION EMPTY\n",
              "148       GEOMETRYCOLLECTION EMPTY\n",
              "149       GEOMETRYCOLLECTION EMPTY\n",
              "150       GEOMETRYCOLLECTION EMPTY\n",
              "151       GEOMETRYCOLLECTION EMPTY\n",
              "152       GEOMETRYCOLLECTION EMPTY\n",
              "153       GEOMETRYCOLLECTION EMPTY\n",
              "154       GEOMETRYCOLLECTION EMPTY\n",
              "155       GEOMETRYCOLLECTION EMPTY\n",
              "156       GEOMETRYCOLLECTION EMPTY\n",
              "157       GEOMETRYCOLLECTION EMPTY\n",
              "158       GEOMETRYCOLLECTION EMPTY\n",
              "159       GEOMETRYCOLLECTION EMPTY\n",
              "160       GEOMETRYCOLLECTION EMPTY\n",
              "161       GEOMETRYCOLLECTION EMPTY\n",
              "162       GEOMETRYCOLLECTION EMPTY\n",
              "163       GEOMETRYCOLLECTION EMPTY\n",
              "164       GEOMETRYCOLLECTION EMPTY\n",
              "165       GEOMETRYCOLLECTION EMPTY\n",
              "166       GEOMETRYCOLLECTION EMPTY\n",
              "167       GEOMETRYCOLLECTION EMPTY\n",
              "168       GEOMETRYCOLLECTION EMPTY\n",
              "169       GEOMETRYCOLLECTION EMPTY\n",
              "170       GEOMETRYCOLLECTION EMPTY\n",
              "171       GEOMETRYCOLLECTION EMPTY\n",
              "172       GEOMETRYCOLLECTION EMPTY\n",
              "173       GEOMETRYCOLLECTION EMPTY\n",
              "174       GEOMETRYCOLLECTION EMPTY\n",
              "175       GEOMETRYCOLLECTION EMPTY\n",
              "176       GEOMETRYCOLLECTION EMPTY\n",
              "177       GEOMETRYCOLLECTION EMPTY\n",
              "178       GEOMETRYCOLLECTION EMPTY\n",
              "179       GEOMETRYCOLLECTION EMPTY\n",
              "180       GEOMETRYCOLLECTION EMPTY\n",
              "181       GEOMETRYCOLLECTION EMPTY\n",
              "182       GEOMETRYCOLLECTION EMPTY\n",
              "183       GEOMETRYCOLLECTION EMPTY\n",
              "184       GEOMETRYCOLLECTION EMPTY\n",
              "185       GEOMETRYCOLLECTION EMPTY\n",
              "186       GEOMETRYCOLLECTION EMPTY\n",
              "187       GEOMETRYCOLLECTION EMPTY\n",
              "188       GEOMETRYCOLLECTION EMPTY\n",
              "189       GEOMETRYCOLLECTION EMPTY\n",
              "190       GEOMETRYCOLLECTION EMPTY\n",
              "Name: geometry, dtype: geometry"
            ]
          },
          "metadata": {},
          "execution_count": 40
        }
      ]
    },
    {
      "cell_type": "code",
      "source": [
        "df_emprLocal_01.index.values"
      ],
      "metadata": {
        "colab": {
          "base_uri": "https://localhost:8080/"
        },
        "id": "yPSfTysPBJlu",
        "outputId": "cd7b6b98-abea-42c0-a50c-7f9ed19513a3"
      },
      "execution_count": 41,
      "outputs": [
        {
          "output_type": "execute_result",
          "data": {
            "text/plain": [
              "array([  0,   1,   2,   3,   4,   5,   6,   7,   8,   9,  10,  11,  12,\n",
              "        13,  14,  15,  16,  17,  18,  19,  20,  21,  22,  23,  24,  25,\n",
              "        26,  27,  28,  29,  30,  31,  32,  33,  34,  35,  36,  37,  38,\n",
              "        39,  40,  41,  42,  43,  44,  45,  46,  47,  48,  49,  50,  51,\n",
              "        52,  53,  54,  55,  56,  57,  58,  59,  60,  61,  62,  63,  64,\n",
              "        65,  66,  67,  68,  69,  70,  71,  72,  73,  74,  75,  76,  77,\n",
              "        78,  79,  80,  81,  82,  83,  84,  85,  86,  87,  88,  89,  90,\n",
              "        91,  92,  93,  94,  95,  96,  97,  98,  99, 100, 101, 102, 103,\n",
              "       104, 105, 106, 107, 108, 109, 110, 111, 112, 113, 114, 115, 116,\n",
              "       117, 118, 119, 120, 121, 122, 123, 124, 125, 126, 127, 128, 129,\n",
              "       130, 131, 132, 133, 134, 135, 136, 137, 138, 139, 140, 141, 142,\n",
              "       143, 144, 145, 146, 147, 148, 149, 150, 151, 152, 153, 154, 155,\n",
              "       156, 157, 158, 159, 160, 161, 162, 163, 164, 165, 166, 167, 168,\n",
              "       169, 170, 171, 172, 173, 174, 175, 176, 177, 178, 179, 180, 181,\n",
              "       182, 183, 184, 185, 186, 187, 188, 189, 190])"
            ]
          },
          "metadata": {},
          "execution_count": 41
        }
      ]
    },
    {
      "cell_type": "code",
      "source": [
        "ppi_map_00 = df_emprLocal_01.drop(index=[ 21,  22,  23,  24,  25,\n",
        "        26,  27,  28,  29,  30,  31,  32,  33,  34,  35,  36,  37,  38,\n",
        "        39,  40,  41,  42,  43,  44,  45,  46,  47,  48,  49,  50,  51,\n",
        "        52,  53,  54,  55,  56,  57,  58,  59,  60, 63, 69, 70, 72,  73,  74,  75,  76,  77,\n",
        "        78,  79,  80,  81,  82,  83,  84,  85,  86,  87,  88,  89,  90,\n",
        "        91,  92,  93,  94,  95,  96,  97,  98,  99, 100, 101, 102, 103,\n",
        "       104, 105, 106, 107, 108, 109, 110, 111, 112, 113, 114, 115, 116,\n",
        "       117, 118, 119, 120, 121, 122, 123, 124, 125, 126, 127, 128, 129,\n",
        "       130, 131, 132, 133, 134, 135, 136, 137, 138, 139, 140, 141, 143, 144, 145, 146, 147, 148, 149, 150, 151, 152, 153, 154, 155,\n",
        "       156, 157, 158, 159, 160, 161, 162, 163, 164, 165, 166, 167, 168,\n",
        "       169, 170, 171, 172, 173, 174, 175, 176, 177, 178, 179, 180, 181,\n",
        "       182, 183, 184, 185, 186, 187, 188, 189, 190])"
      ],
      "metadata": {
        "id": "Oi981FG1Ezts"
      },
      "execution_count": 42,
      "outputs": []
    },
    {
      "cell_type": "code",
      "source": [
        "ppi_map_00"
      ],
      "metadata": {
        "id": "83nkPVixTw0k",
        "outputId": "484e4a78-3f9f-4357-e1a5-5efddae519d8",
        "colab": {
          "base_uri": "https://localhost:8080/"
        }
      },
      "execution_count": 43,
      "outputs": [
        {
          "output_type": "execute_result",
          "data": {
            "text/plain": [
              "0      POINT (-38.34109 -12.90422)\n",
              "1      POINT (-48.53533 -27.68058)\n",
              "2       POINT (-38.53549 -3.77626)\n",
              "3      POINT (-51.18287 -29.98773)\n",
              "4       POINT (-35.71050 -9.66392)\n",
              "5       POINT (-34.94622 -7.15926)\n",
              "6      POINT (-37.07603 -10.98281)\n",
              "7       POINT (-39.26783 -7.21970)\n",
              "8       POINT (-35.89610 -7.27016)\n",
              "9       POINT (-34.91461 -8.13418)\n",
              "10     POINT (-56.10938 -15.65949)\n",
              "11     POINT (-54.72482 -16.58343)\n",
              "12     POINT (-54.20920 -11.26335)\n",
              "13      POINT (-56.10604 -9.86616)\n",
              "14     POINT (-52.39007 -15.86067)\n",
              "15     POINT (-40.28136 -20.25609)\n",
              "16     POINT (-41.76577 -22.34317)\n",
              "17     POINT (-47.90483 -15.77169)\n",
              "18     POINT (-43.96837 -19.63340)\n",
              "19     POINT (-43.25862 -22.81122)\n",
              "20     POINT (-46.48132 -23.43779)\n",
              "61     POINT (-50.50056 -19.04419)\n",
              "62     POINT (-48.88310 -26.29660)\n",
              "64     POINT (-43.18706 -22.64757)\n",
              "65     POINT (-43.26644 -22.01128)\n",
              "66     POINT (-49.12143 -12.91521)\n",
              "67     POINT (-60.06599 -12.86027)\n",
              "68     POINT (-50.29751 -18.69330)\n",
              "71     POINT (-50.64205 -27.45632)\n",
              "142    POINT (-44.04578 -19.89558)\n",
              "Name: geometry, dtype: geometry"
            ]
          },
          "metadata": {},
          "execution_count": 43
        }
      ]
    },
    {
      "cell_type": "markdown",
      "source": [
        "# Plot map with data"
      ],
      "metadata": {
        "id": "4GxnUZmnK8uN"
      }
    },
    {
      "cell_type": "code",
      "source": [
        "mapaBrasil = gpds.read_file('/content/brazil_states/BRUFE250GC_SIR.shp')\n",
        "mapaBrasil.plot(figsize=(20, 20))"
      ],
      "metadata": {
        "id": "dOolhf2mK8Jt",
        "colab": {
          "base_uri": "https://localhost:8080/",
          "height": 583
        },
        "outputId": "cc6d481d-45ee-4e12-e845-af776b081213"
      },
      "execution_count": 45,
      "outputs": [
        {
          "output_type": "error",
          "ename": "DriverError",
          "evalue": "ignored",
          "traceback": [
            "\u001b[0;31m---------------------------------------------------------------------------\u001b[0m",
            "\u001b[0;31mCPLE_OpenFailedError\u001b[0m                      Traceback (most recent call last)",
            "\u001b[0;32mfiona/_shim.pyx\u001b[0m in \u001b[0;36mfiona._shim.gdal_open_vector\u001b[0;34m()\u001b[0m\n",
            "\u001b[0;32mfiona/_err.pyx\u001b[0m in \u001b[0;36mfiona._err.exc_wrap_pointer\u001b[0;34m()\u001b[0m\n",
            "\u001b[0;31mCPLE_OpenFailedError\u001b[0m: /content/brazil_states/BRUFE250GC_SIR.shp: No such file or directory",
            "\nDuring handling of the above exception, another exception occurred:\n",
            "\u001b[0;31mDriverError\u001b[0m                               Traceback (most recent call last)",
            "\u001b[0;32m<ipython-input-45-00bf25a4ce33>\u001b[0m in \u001b[0;36m<module>\u001b[0;34m()\u001b[0m\n\u001b[0;32m----> 1\u001b[0;31m \u001b[0mmapaBrasil\u001b[0m \u001b[0;34m=\u001b[0m \u001b[0mgpds\u001b[0m\u001b[0;34m.\u001b[0m\u001b[0mread_file\u001b[0m\u001b[0;34m(\u001b[0m\u001b[0;34m'/content/brazil_states/BRUFE250GC_SIR.shp'\u001b[0m\u001b[0;34m)\u001b[0m\u001b[0;34m\u001b[0m\u001b[0;34m\u001b[0m\u001b[0m\n\u001b[0m\u001b[1;32m      2\u001b[0m \u001b[0mmapaBrasil\u001b[0m\u001b[0;34m.\u001b[0m\u001b[0mplot\u001b[0m\u001b[0;34m(\u001b[0m\u001b[0mfigsize\u001b[0m\u001b[0;34m=\u001b[0m\u001b[0;34m(\u001b[0m\u001b[0;36m20\u001b[0m\u001b[0;34m,\u001b[0m \u001b[0;36m20\u001b[0m\u001b[0;34m)\u001b[0m\u001b[0;34m)\u001b[0m\u001b[0;34m\u001b[0m\u001b[0;34m\u001b[0m\u001b[0m\n",
            "\u001b[0;32m/usr/local/lib/python3.7/dist-packages/geopandas/io/file.py\u001b[0m in \u001b[0;36m_read_file\u001b[0;34m(filename, bbox, mask, rows, **kwargs)\u001b[0m\n\u001b[1;32m    199\u001b[0m \u001b[0;34m\u001b[0m\u001b[0m\n\u001b[1;32m    200\u001b[0m     \u001b[0;32mwith\u001b[0m \u001b[0mfiona_env\u001b[0m\u001b[0;34m(\u001b[0m\u001b[0;34m)\u001b[0m\u001b[0;34m:\u001b[0m\u001b[0;34m\u001b[0m\u001b[0;34m\u001b[0m\u001b[0m\n\u001b[0;32m--> 201\u001b[0;31m         \u001b[0;32mwith\u001b[0m \u001b[0mreader\u001b[0m\u001b[0;34m(\u001b[0m\u001b[0mpath_or_bytes\u001b[0m\u001b[0;34m,\u001b[0m \u001b[0;34m**\u001b[0m\u001b[0mkwargs\u001b[0m\u001b[0;34m)\u001b[0m \u001b[0;32mas\u001b[0m \u001b[0mfeatures\u001b[0m\u001b[0;34m:\u001b[0m\u001b[0;34m\u001b[0m\u001b[0;34m\u001b[0m\u001b[0m\n\u001b[0m\u001b[1;32m    202\u001b[0m \u001b[0;34m\u001b[0m\u001b[0m\n\u001b[1;32m    203\u001b[0m             \u001b[0;31m# In a future Fiona release the crs attribute of features will\u001b[0m\u001b[0;34m\u001b[0m\u001b[0;34m\u001b[0m\u001b[0;34m\u001b[0m\u001b[0m\n",
            "\u001b[0;32m/usr/local/lib/python3.7/dist-packages/fiona/env.py\u001b[0m in \u001b[0;36mwrapper\u001b[0;34m(*args, **kwargs)\u001b[0m\n\u001b[1;32m    406\u001b[0m     \u001b[0;32mdef\u001b[0m \u001b[0mwrapper\u001b[0m\u001b[0;34m(\u001b[0m\u001b[0;34m*\u001b[0m\u001b[0margs\u001b[0m\u001b[0;34m,\u001b[0m \u001b[0;34m**\u001b[0m\u001b[0mkwargs\u001b[0m\u001b[0;34m)\u001b[0m\u001b[0;34m:\u001b[0m\u001b[0;34m\u001b[0m\u001b[0;34m\u001b[0m\u001b[0m\n\u001b[1;32m    407\u001b[0m         \u001b[0;32mif\u001b[0m \u001b[0mlocal\u001b[0m\u001b[0;34m.\u001b[0m\u001b[0m_env\u001b[0m\u001b[0;34m:\u001b[0m\u001b[0;34m\u001b[0m\u001b[0;34m\u001b[0m\u001b[0m\n\u001b[0;32m--> 408\u001b[0;31m             \u001b[0;32mreturn\u001b[0m \u001b[0mf\u001b[0m\u001b[0;34m(\u001b[0m\u001b[0;34m*\u001b[0m\u001b[0margs\u001b[0m\u001b[0;34m,\u001b[0m \u001b[0;34m**\u001b[0m\u001b[0mkwargs\u001b[0m\u001b[0;34m)\u001b[0m\u001b[0;34m\u001b[0m\u001b[0;34m\u001b[0m\u001b[0m\n\u001b[0m\u001b[1;32m    409\u001b[0m         \u001b[0;32melse\u001b[0m\u001b[0;34m:\u001b[0m\u001b[0;34m\u001b[0m\u001b[0;34m\u001b[0m\u001b[0m\n\u001b[1;32m    410\u001b[0m             \u001b[0;32mif\u001b[0m \u001b[0misinstance\u001b[0m\u001b[0;34m(\u001b[0m\u001b[0margs\u001b[0m\u001b[0;34m[\u001b[0m\u001b[0;36m0\u001b[0m\u001b[0;34m]\u001b[0m\u001b[0;34m,\u001b[0m \u001b[0mstr\u001b[0m\u001b[0;34m)\u001b[0m\u001b[0;34m:\u001b[0m\u001b[0;34m\u001b[0m\u001b[0;34m\u001b[0m\u001b[0m\n",
            "\u001b[0;32m/usr/local/lib/python3.7/dist-packages/fiona/__init__.py\u001b[0m in \u001b[0;36mopen\u001b[0;34m(fp, mode, driver, schema, crs, encoding, layer, vfs, enabled_drivers, crs_wkt, **kwargs)\u001b[0m\n\u001b[1;32m    263\u001b[0m         \u001b[0;32mif\u001b[0m \u001b[0mmode\u001b[0m \u001b[0;32min\u001b[0m \u001b[0;34m(\u001b[0m\u001b[0;34m'a'\u001b[0m\u001b[0;34m,\u001b[0m \u001b[0;34m'r'\u001b[0m\u001b[0;34m)\u001b[0m\u001b[0;34m:\u001b[0m\u001b[0;34m\u001b[0m\u001b[0;34m\u001b[0m\u001b[0m\n\u001b[1;32m    264\u001b[0m             c = Collection(path, mode, driver=driver, encoding=encoding,\n\u001b[0;32m--> 265\u001b[0;31m                            layer=layer, enabled_drivers=enabled_drivers, **kwargs)\n\u001b[0m\u001b[1;32m    266\u001b[0m         \u001b[0;32melif\u001b[0m \u001b[0mmode\u001b[0m \u001b[0;34m==\u001b[0m \u001b[0;34m'w'\u001b[0m\u001b[0;34m:\u001b[0m\u001b[0;34m\u001b[0m\u001b[0;34m\u001b[0m\u001b[0m\n\u001b[1;32m    267\u001b[0m             \u001b[0;32mif\u001b[0m \u001b[0mschema\u001b[0m\u001b[0;34m:\u001b[0m\u001b[0;34m\u001b[0m\u001b[0;34m\u001b[0m\u001b[0m\n",
            "\u001b[0;32m/usr/local/lib/python3.7/dist-packages/fiona/collection.py\u001b[0m in \u001b[0;36m__init__\u001b[0;34m(self, path, mode, driver, schema, crs, encoding, layer, vsi, archive, enabled_drivers, crs_wkt, ignore_fields, ignore_geometry, **kwargs)\u001b[0m\n\u001b[1;32m    160\u001b[0m             \u001b[0;32mif\u001b[0m \u001b[0mself\u001b[0m\u001b[0;34m.\u001b[0m\u001b[0mmode\u001b[0m \u001b[0;34m==\u001b[0m \u001b[0;34m'r'\u001b[0m\u001b[0;34m:\u001b[0m\u001b[0;34m\u001b[0m\u001b[0;34m\u001b[0m\u001b[0m\n\u001b[1;32m    161\u001b[0m                 \u001b[0mself\u001b[0m\u001b[0;34m.\u001b[0m\u001b[0msession\u001b[0m \u001b[0;34m=\u001b[0m \u001b[0mSession\u001b[0m\u001b[0;34m(\u001b[0m\u001b[0;34m)\u001b[0m\u001b[0;34m\u001b[0m\u001b[0;34m\u001b[0m\u001b[0m\n\u001b[0;32m--> 162\u001b[0;31m                 \u001b[0mself\u001b[0m\u001b[0;34m.\u001b[0m\u001b[0msession\u001b[0m\u001b[0;34m.\u001b[0m\u001b[0mstart\u001b[0m\u001b[0;34m(\u001b[0m\u001b[0mself\u001b[0m\u001b[0;34m,\u001b[0m \u001b[0;34m**\u001b[0m\u001b[0mkwargs\u001b[0m\u001b[0;34m)\u001b[0m\u001b[0;34m\u001b[0m\u001b[0;34m\u001b[0m\u001b[0m\n\u001b[0m\u001b[1;32m    163\u001b[0m             \u001b[0;32melif\u001b[0m \u001b[0mself\u001b[0m\u001b[0;34m.\u001b[0m\u001b[0mmode\u001b[0m \u001b[0;32min\u001b[0m \u001b[0;34m(\u001b[0m\u001b[0;34m'a'\u001b[0m\u001b[0;34m,\u001b[0m \u001b[0;34m'w'\u001b[0m\u001b[0;34m)\u001b[0m\u001b[0;34m:\u001b[0m\u001b[0;34m\u001b[0m\u001b[0;34m\u001b[0m\u001b[0m\n\u001b[1;32m    164\u001b[0m                 \u001b[0mself\u001b[0m\u001b[0;34m.\u001b[0m\u001b[0msession\u001b[0m \u001b[0;34m=\u001b[0m \u001b[0mWritingSession\u001b[0m\u001b[0;34m(\u001b[0m\u001b[0;34m)\u001b[0m\u001b[0;34m\u001b[0m\u001b[0;34m\u001b[0m\u001b[0m\n",
            "\u001b[0;32mfiona/ogrext.pyx\u001b[0m in \u001b[0;36mfiona.ogrext.Session.start\u001b[0;34m()\u001b[0m\n",
            "\u001b[0;32mfiona/_shim.pyx\u001b[0m in \u001b[0;36mfiona._shim.gdal_open_vector\u001b[0;34m()\u001b[0m\n",
            "\u001b[0;31mDriverError\u001b[0m: /content/brazil_states/BRUFE250GC_SIR.shp: No such file or directory"
          ]
        }
      ]
    },
    {
      "cell_type": "markdown",
      "source": [
        "# Formatting - FORMATAÇÃO "
      ],
      "metadata": {
        "id": "r63chO9mm-Vh"
      }
    },
    {
      "cell_type": "markdown",
      "source": [
        "- Export file to csv "
      ],
      "metadata": {
        "id": "7oC-4E7OwXVH"
      }
    },
    {
      "cell_type": "code",
      "source": [
        "# new_data_ppi.to_csv('easy_read_data_ppi.csv')"
      ],
      "metadata": {
        "id": "gTjz_xuiwVlA"
      },
      "execution_count": null,
      "outputs": []
    },
    {
      "cell_type": "markdown",
      "source": [
        "# Categorical variable \n"
      ],
      "metadata": {
        "id": "tge8-BStNBpw"
      }
    },
    {
      "cell_type": "markdown",
      "source": [
        "- Describe quantidades, particularidades, referência e frequência. "
      ],
      "metadata": {
        "id": "eSy8NINzNlYn"
      }
    },
    {
      "cell_type": "code",
      "source": [
        "df_pip_cats = ppi_df_v4.select_dtypes(include=object)"
      ],
      "metadata": {
        "id": "yom91m0xNm3n"
      },
      "execution_count": null,
      "outputs": []
    },
    {
      "cell_type": "code",
      "source": [
        "df_pip_cats.describe()"
      ],
      "metadata": {
        "id": "iNurmW6mRB92"
      },
      "execution_count": null,
      "outputs": []
    },
    {
      "cell_type": "code",
      "source": [
        "df_pip_cats.rename(columns={'Unnamed: 15' : 'Setor'}, inplace=True)"
      ],
      "metadata": {
        "id": "rk1iS00dRf6d"
      },
      "execution_count": null,
      "outputs": []
    },
    {
      "cell_type": "markdown",
      "source": [
        "## One-hot enconder - tratamentode variáveis categoricas nominais."
      ],
      "metadata": {
        "id": "3cSAbvrlN_Yn"
      }
    },
    {
      "cell_type": "markdown",
      "source": [
        "- Category Encoders / Scikit Learn\n",
        " - Docs:\n",
        "  -  https://contrib.scikit-learn.org/category_encoders/index.html\n",
        "  - https://scikit-learn.org/stable/modules/preprocessing.html#preprocessing-categorical-features\n"
      ],
      "metadata": {
        "id": "9ihkniaXOPmv"
      }
    },
    {
      "cell_type": "code",
      "source": [
        "!pip install category_encoders"
      ],
      "metadata": {
        "id": "YIVLMVN9OorH"
      },
      "execution_count": null,
      "outputs": []
    },
    {
      "cell_type": "code",
      "source": [
        "import category_encoders as ce"
      ],
      "metadata": {
        "id": "tHbZOdPaPJSG",
        "colab": {
          "base_uri": "https://localhost:8080/"
        },
        "outputId": "05996d82-981d-4ca8-e736-38a92442cf43"
      },
      "execution_count": null,
      "outputs": [
        {
          "output_type": "stream",
          "name": "stderr",
          "text": [
            "/usr/local/lib/python3.7/dist-packages/statsmodels/tools/_testing.py:19: FutureWarning: pandas.util.testing is deprecated. Use the functions in the public API at pandas.testing instead.\n",
            "  import pandas.util.testing as tm\n"
          ]
        }
      ]
    },
    {
      "cell_type": "code",
      "source": [
        "from category_encoders.one_hot import OneHotEncoder"
      ],
      "metadata": {
        "id": "W_LUp-drPZxW"
      },
      "execution_count": null,
      "outputs": []
    },
    {
      "cell_type": "code",
      "source": [
        "df_pip_cats['Setor'].head(15)"
      ],
      "metadata": {
        "id": "zhvN9clLPaJO"
      },
      "execution_count": null,
      "outputs": []
    },
    {
      "cell_type": "code",
      "source": [
        "one_hot_enc = OneHotEncoder(cols=['Setor'])"
      ],
      "metadata": {
        "id": "inyxTEirQn_N"
      },
      "execution_count": null,
      "outputs": []
    },
    {
      "cell_type": "code",
      "source": [
        "one_hot_enc.fit_transform(df_pip_cats)"
      ],
      "metadata": {
        "id": "2Fvmy14KThvb",
        "colab": {
          "base_uri": "https://localhost:8080/",
          "height": 713
        },
        "outputId": "24b10a71-065e-4930-f664-c95968d72134"
      },
      "execution_count": null,
      "outputs": [
        {
          "output_type": "execute_result",
          "data": {
            "text/html": [
              "\n",
              "  <div id=\"df-5befec23-0d4f-463c-962f-4436c2673562\">\n",
              "    <div class=\"colab-df-container\">\n",
              "      <div>\n",
              "<style scoped>\n",
              "    .dataframe tbody tr th:only-of-type {\n",
              "        vertical-align: middle;\n",
              "    }\n",
              "\n",
              "    .dataframe tbody tr th {\n",
              "        vertical-align: top;\n",
              "    }\n",
              "\n",
              "    .dataframe thead th {\n",
              "        text-align: right;\n",
              "    }\n",
              "</style>\n",
              "<table border=\"1\" class=\"dataframe\">\n",
              "  <thead>\n",
              "    <tr style=\"text-align: right;\">\n",
              "      <th></th>\n",
              "      <th>Unnamed: 0</th>\n",
              "      <th>Unnamed: 1</th>\n",
              "      <th>Unnamed: 2</th>\n",
              "      <th>Unnamed: 3</th>\n",
              "      <th>Unnamed: 4</th>\n",
              "      <th>Unnamed: 5</th>\n",
              "      <th>Unnamed: 6</th>\n",
              "      <th>Unnamed: 7</th>\n",
              "      <th>Unnamed: 8</th>\n",
              "      <th>Unnamed: 9</th>\n",
              "      <th>Unnamed: 10</th>\n",
              "      <th>Unnamed: 11</th>\n",
              "      <th>Unnamed: 12</th>\n",
              "      <th>Unnamed: 13</th>\n",
              "      <th>Unnamed: 14</th>\n",
              "      <th>Setor_1</th>\n",
              "      <th>Setor_2</th>\n",
              "      <th>Setor_3</th>\n",
              "      <th>Setor_4</th>\n",
              "      <th>Setor_5</th>\n",
              "      <th>Setor_6</th>\n",
              "      <th>Setor_7</th>\n",
              "      <th>Unnamed: 16</th>\n",
              "      <th>Unnamed: 17</th>\n",
              "      <th>Unnamed: 18</th>\n",
              "      <th>Unnamed: 19</th>\n",
              "      <th>Unnamed: 20</th>\n",
              "      <th>Unnamed: 21</th>\n",
              "      <th>Unnamed: 22</th>\n",
              "      <th>Unnamed: 23</th>\n",
              "      <th>Unnamed: 24</th>\n",
              "      <th>Unnamed: 25</th>\n",
              "      <th>Unnamed: 26</th>\n",
              "      <th>MODALIDADE CONCESSÃO</th>\n",
              "      <th>MODALIDADE PRORROGAÇÃO</th>\n",
              "      <th>Unnamed: 43</th>\n",
              "    </tr>\n",
              "  </thead>\n",
              "  <tbody>\n",
              "    <tr>\n",
              "      <th>0</th>\n",
              "      <td>NaN</td>\n",
              "      <td>NaN</td>\n",
              "      <td>NaN</td>\n",
              "      <td>NaN</td>\n",
              "      <td>NaN</td>\n",
              "      <td>NaN</td>\n",
              "      <td>NaN</td>\n",
              "      <td>NaN</td>\n",
              "      <td>NaN</td>\n",
              "      <td>NaN</td>\n",
              "      <td>NaN</td>\n",
              "      <td>NaN</td>\n",
              "      <td>NaN</td>\n",
              "      <td>NaN</td>\n",
              "      <td>NaN</td>\n",
              "      <td>1</td>\n",
              "      <td>0</td>\n",
              "      <td>0</td>\n",
              "      <td>0</td>\n",
              "      <td>0</td>\n",
              "      <td>0</td>\n",
              "      <td>0</td>\n",
              "      <td>NaN</td>\n",
              "      <td>NaN</td>\n",
              "      <td>NaN</td>\n",
              "      <td>NaN</td>\n",
              "      <td>NaN</td>\n",
              "      <td>NaN</td>\n",
              "      <td>NaN</td>\n",
              "      <td>NaN</td>\n",
              "      <td>NaN</td>\n",
              "      <td>NaN</td>\n",
              "      <td>NaN</td>\n",
              "      <td>1. Estudo</td>\n",
              "      <td>1. Estudo</td>\n",
              "      <td>NaN</td>\n",
              "    </tr>\n",
              "    <tr>\n",
              "      <th>1</th>\n",
              "      <td>NaN</td>\n",
              "      <td>NaN</td>\n",
              "      <td>NaN</td>\n",
              "      <td>NaN</td>\n",
              "      <td>NaN</td>\n",
              "      <td>NaN</td>\n",
              "      <td>NaN</td>\n",
              "      <td>NaN</td>\n",
              "      <td>NaN</td>\n",
              "      <td>NaN</td>\n",
              "      <td>NaN</td>\n",
              "      <td>NaN</td>\n",
              "      <td>NaN</td>\n",
              "      <td>NaN</td>\n",
              "      <td>NaN</td>\n",
              "      <td>1</td>\n",
              "      <td>0</td>\n",
              "      <td>0</td>\n",
              "      <td>0</td>\n",
              "      <td>0</td>\n",
              "      <td>0</td>\n",
              "      <td>0</td>\n",
              "      <td>NaN</td>\n",
              "      <td>NaN</td>\n",
              "      <td>NaN</td>\n",
              "      <td>NaN</td>\n",
              "      <td>NaN</td>\n",
              "      <td>NaN</td>\n",
              "      <td>NaN</td>\n",
              "      <td>NaN</td>\n",
              "      <td>NaN</td>\n",
              "      <td>NaN</td>\n",
              "      <td>NaN</td>\n",
              "      <td>2. Consulta Pública</td>\n",
              "      <td>NaN</td>\n",
              "      <td>NaN</td>\n",
              "    </tr>\n",
              "    <tr>\n",
              "      <th>2</th>\n",
              "      <td>NaN</td>\n",
              "      <td>NaN</td>\n",
              "      <td>NaN</td>\n",
              "      <td>NaN</td>\n",
              "      <td>NaN</td>\n",
              "      <td>NaN</td>\n",
              "      <td>NaN</td>\n",
              "      <td>NaN</td>\n",
              "      <td>NaN</td>\n",
              "      <td>NaN</td>\n",
              "      <td>NaN</td>\n",
              "      <td>NaN</td>\n",
              "      <td>NaN</td>\n",
              "      <td>NaN</td>\n",
              "      <td>NaN</td>\n",
              "      <td>1</td>\n",
              "      <td>0</td>\n",
              "      <td>0</td>\n",
              "      <td>0</td>\n",
              "      <td>0</td>\n",
              "      <td>0</td>\n",
              "      <td>0</td>\n",
              "      <td>NaN</td>\n",
              "      <td>NaN</td>\n",
              "      <td>NaN</td>\n",
              "      <td>NaN</td>\n",
              "      <td>NaN</td>\n",
              "      <td>NaN</td>\n",
              "      <td>NaN</td>\n",
              "      <td>NaN</td>\n",
              "      <td>NaN</td>\n",
              "      <td>NaN</td>\n",
              "      <td>NaN</td>\n",
              "      <td>3. Análise TCU</td>\n",
              "      <td>NaN</td>\n",
              "      <td>NaN</td>\n",
              "    </tr>\n",
              "    <tr>\n",
              "      <th>3</th>\n",
              "      <td>NaN</td>\n",
              "      <td>NaN</td>\n",
              "      <td>NaN</td>\n",
              "      <td>NaN</td>\n",
              "      <td>NaN</td>\n",
              "      <td>NaN</td>\n",
              "      <td>NaN</td>\n",
              "      <td>NaN</td>\n",
              "      <td>NaN</td>\n",
              "      <td>NaN</td>\n",
              "      <td>NaN</td>\n",
              "      <td>NaN</td>\n",
              "      <td>NaN</td>\n",
              "      <td>NaN</td>\n",
              "      <td>NaN</td>\n",
              "      <td>1</td>\n",
              "      <td>0</td>\n",
              "      <td>0</td>\n",
              "      <td>0</td>\n",
              "      <td>0</td>\n",
              "      <td>0</td>\n",
              "      <td>0</td>\n",
              "      <td>NaN</td>\n",
              "      <td>NaN</td>\n",
              "      <td>NaN</td>\n",
              "      <td>NaN</td>\n",
              "      <td>MARCOS DO PROJETO</td>\n",
              "      <td>NaN</td>\n",
              "      <td>NaN</td>\n",
              "      <td>NaN</td>\n",
              "      <td>NaN</td>\n",
              "      <td>NaN</td>\n",
              "      <td>NaN</td>\n",
              "      <td>4. Edital publicado</td>\n",
              "      <td>NaN</td>\n",
              "      <td>NaN</td>\n",
              "    </tr>\n",
              "    <tr>\n",
              "      <th>4</th>\n",
              "      <td>#</td>\n",
              "      <td>Empreendimento</td>\n",
              "      <td>UF</td>\n",
              "      <td>Previsão de Conclusão</td>\n",
              "      <td>Investimentos\\nEstimados</td>\n",
              "      <td>Outorga Efetiva</td>\n",
              "      <td>% Excedente Partilha Mínimo (média das áreas)</td>\n",
              "      <td>% Excedente Partilha</td>\n",
              "      <td>Nº Empresas participantes Leilões</td>\n",
              "      <td>Empresas Participantes</td>\n",
              "      <td>Nacionalidade</td>\n",
              "      <td>Publicação do Edital/\\nTermo Aditivo</td>\n",
              "      <td>Sessão Pública (Leilão)</td>\n",
              "      <td>Licitante\\nVencedora</td>\n",
              "      <td>Nacionalidade</td>\n",
              "      <td>0</td>\n",
              "      <td>1</td>\n",
              "      <td>0</td>\n",
              "      <td>0</td>\n",
              "      <td>0</td>\n",
              "      <td>0</td>\n",
              "      <td>0</td>\n",
              "      <td>Setor</td>\n",
              "      <td>Subsetor</td>\n",
              "      <td>Modalidade\\nOperacional</td>\n",
              "      <td>Qualificação</td>\n",
              "      <td>ESTUDO</td>\n",
              "      <td>CONSULTA PÚBLICA</td>\n",
              "      <td>ACÓRDÃO TCU</td>\n",
              "      <td>EDITAL</td>\n",
              "      <td>LEILÃO</td>\n",
              "      <td>CONTRATO</td>\n",
              "      <td>ESTÁGIO ATUAL DO PROCESSO</td>\n",
              "      <td>5. Leilão realizado</td>\n",
              "      <td>NaN</td>\n",
              "      <td>NaN</td>\n",
              "    </tr>\n",
              "    <tr>\n",
              "      <th>...</th>\n",
              "      <td>...</td>\n",
              "      <td>...</td>\n",
              "      <td>...</td>\n",
              "      <td>...</td>\n",
              "      <td>...</td>\n",
              "      <td>...</td>\n",
              "      <td>...</td>\n",
              "      <td>...</td>\n",
              "      <td>...</td>\n",
              "      <td>...</td>\n",
              "      <td>...</td>\n",
              "      <td>...</td>\n",
              "      <td>...</td>\n",
              "      <td>...</td>\n",
              "      <td>...</td>\n",
              "      <td>...</td>\n",
              "      <td>...</td>\n",
              "      <td>...</td>\n",
              "      <td>...</td>\n",
              "      <td>...</td>\n",
              "      <td>...</td>\n",
              "      <td>...</td>\n",
              "      <td>...</td>\n",
              "      <td>...</td>\n",
              "      <td>...</td>\n",
              "      <td>...</td>\n",
              "      <td>...</td>\n",
              "      <td>...</td>\n",
              "      <td>...</td>\n",
              "      <td>...</td>\n",
              "      <td>...</td>\n",
              "      <td>...</td>\n",
              "      <td>...</td>\n",
              "      <td>...</td>\n",
              "      <td>...</td>\n",
              "      <td>...</td>\n",
              "    </tr>\n",
              "    <tr>\n",
              "      <th>195</th>\n",
              "      <td>191</td>\n",
              "      <td>EF-151 Ferrovia Norte-Sul (Trecho de Açailândi...</td>\n",
              "      <td>MA/PA</td>\n",
              "      <td>2019</td>\n",
              "      <td>-</td>\n",
              "      <td>NaN</td>\n",
              "      <td>NaN</td>\n",
              "      <td>NaN</td>\n",
              "      <td>NaN</td>\n",
              "      <td>NaN</td>\n",
              "      <td>NaN</td>\n",
              "      <td>NaN</td>\n",
              "      <td>NaN</td>\n",
              "      <td>NaN</td>\n",
              "      <td>NaN</td>\n",
              "      <td>0</td>\n",
              "      <td>0</td>\n",
              "      <td>1</td>\n",
              "      <td>0</td>\n",
              "      <td>0</td>\n",
              "      <td>0</td>\n",
              "      <td>0</td>\n",
              "      <td>Transportes</td>\n",
              "      <td>Ferroviário</td>\n",
              "      <td>Investimento Cruzado</td>\n",
              "      <td>8ª REUNIÃO</td>\n",
              "      <td>ANDAMENTO</td>\n",
              "      <td>NÃO SE APLICA</td>\n",
              "      <td>NÃO SE APLICA</td>\n",
              "      <td>NÃO SE APLICA</td>\n",
              "      <td>NÃO SE APLICA</td>\n",
              "      <td>NÃO SE APLICA</td>\n",
              "      <td>1. Estudo</td>\n",
              "      <td>NaN</td>\n",
              "      <td>NaN</td>\n",
              "      <td>NaN</td>\n",
              "    </tr>\n",
              "    <tr>\n",
              "      <th>196</th>\n",
              "      <td>NaN</td>\n",
              "      <td>NaN</td>\n",
              "      <td>NaN</td>\n",
              "      <td>NaN</td>\n",
              "      <td>R$ 379.771.265.330,64</td>\n",
              "      <td>R$ 42.403.891.886,53</td>\n",
              "      <td>NaN</td>\n",
              "      <td>NaN</td>\n",
              "      <td>NaN</td>\n",
              "      <td>NaN</td>\n",
              "      <td>NaN</td>\n",
              "      <td>NaN</td>\n",
              "      <td>NaN</td>\n",
              "      <td>NaN</td>\n",
              "      <td>NaN</td>\n",
              "      <td>1</td>\n",
              "      <td>0</td>\n",
              "      <td>0</td>\n",
              "      <td>0</td>\n",
              "      <td>0</td>\n",
              "      <td>0</td>\n",
              "      <td>0</td>\n",
              "      <td>NaN</td>\n",
              "      <td>NaN</td>\n",
              "      <td>NaN</td>\n",
              "      <td>NaN</td>\n",
              "      <td>NaN</td>\n",
              "      <td>NaN</td>\n",
              "      <td>NaN</td>\n",
              "      <td>NaN</td>\n",
              "      <td>NaN</td>\n",
              "      <td>NaN</td>\n",
              "      <td>NaN</td>\n",
              "      <td>NaN</td>\n",
              "      <td>NaN</td>\n",
              "      <td>NaN</td>\n",
              "    </tr>\n",
              "    <tr>\n",
              "      <th>197</th>\n",
              "      <td>NaN</td>\n",
              "      <td>NaN</td>\n",
              "      <td>NaN</td>\n",
              "      <td>NaN</td>\n",
              "      <td>NaN</td>\n",
              "      <td>NaN</td>\n",
              "      <td>NaN</td>\n",
              "      <td>NaN</td>\n",
              "      <td>NaN</td>\n",
              "      <td>NaN</td>\n",
              "      <td>NaN</td>\n",
              "      <td>NaN</td>\n",
              "      <td>NaN</td>\n",
              "      <td>NaN</td>\n",
              "      <td>NaN</td>\n",
              "      <td>1</td>\n",
              "      <td>0</td>\n",
              "      <td>0</td>\n",
              "      <td>0</td>\n",
              "      <td>0</td>\n",
              "      <td>0</td>\n",
              "      <td>0</td>\n",
              "      <td>NaN</td>\n",
              "      <td>NaN</td>\n",
              "      <td>NaN</td>\n",
              "      <td>NaN</td>\n",
              "      <td>NaN</td>\n",
              "      <td>NaN</td>\n",
              "      <td>NaN</td>\n",
              "      <td>NaN</td>\n",
              "      <td>NaN</td>\n",
              "      <td>NaN</td>\n",
              "      <td>NaN</td>\n",
              "      <td>NaN</td>\n",
              "      <td>NaN</td>\n",
              "      <td>0,00</td>\n",
              "    </tr>\n",
              "    <tr>\n",
              "      <th>198</th>\n",
              "      <td>NaN</td>\n",
              "      <td>NaN</td>\n",
              "      <td>NaN</td>\n",
              "      <td>NaN</td>\n",
              "      <td>R$ 229.471.265.330,64</td>\n",
              "      <td>NaN</td>\n",
              "      <td>NaN</td>\n",
              "      <td>NaN</td>\n",
              "      <td>NaN</td>\n",
              "      <td>NaN</td>\n",
              "      <td>NaN</td>\n",
              "      <td>NaN</td>\n",
              "      <td>NaN</td>\n",
              "      <td>NaN</td>\n",
              "      <td>NaN</td>\n",
              "      <td>1</td>\n",
              "      <td>0</td>\n",
              "      <td>0</td>\n",
              "      <td>0</td>\n",
              "      <td>0</td>\n",
              "      <td>0</td>\n",
              "      <td>0</td>\n",
              "      <td>NaN</td>\n",
              "      <td>NaN</td>\n",
              "      <td>NaN</td>\n",
              "      <td>NaN</td>\n",
              "      <td>NaN</td>\n",
              "      <td>NaN</td>\n",
              "      <td>NaN</td>\n",
              "      <td>NaN</td>\n",
              "      <td>NaN</td>\n",
              "      <td>NaN</td>\n",
              "      <td>NaN</td>\n",
              "      <td>NaN</td>\n",
              "      <td>NaN</td>\n",
              "      <td>NaN</td>\n",
              "    </tr>\n",
              "    <tr>\n",
              "      <th>199</th>\n",
              "      <td>NaN</td>\n",
              "      <td>NaN</td>\n",
              "      <td>NaN</td>\n",
              "      <td>NaN</td>\n",
              "      <td>NaN</td>\n",
              "      <td>NaN</td>\n",
              "      <td>NaN</td>\n",
              "      <td>NaN</td>\n",
              "      <td>NaN</td>\n",
              "      <td>NaN</td>\n",
              "      <td>NaN</td>\n",
              "      <td>NaN</td>\n",
              "      <td>NaN</td>\n",
              "      <td>NaN</td>\n",
              "      <td>NaN</td>\n",
              "      <td>1</td>\n",
              "      <td>0</td>\n",
              "      <td>0</td>\n",
              "      <td>0</td>\n",
              "      <td>0</td>\n",
              "      <td>0</td>\n",
              "      <td>0</td>\n",
              "      <td>NaN</td>\n",
              "      <td>NaN</td>\n",
              "      <td>NaN</td>\n",
              "      <td>NaN</td>\n",
              "      <td>NaN</td>\n",
              "      <td>NaN</td>\n",
              "      <td>NaN</td>\n",
              "      <td>NaN</td>\n",
              "      <td>NaN</td>\n",
              "      <td>NaN</td>\n",
              "      <td>NaN</td>\n",
              "      <td>NaN</td>\n",
              "      <td>NaN</td>\n",
              "      <td>30.673.364.977,72</td>\n",
              "    </tr>\n",
              "  </tbody>\n",
              "</table>\n",
              "<p>200 rows × 36 columns</p>\n",
              "</div>\n",
              "      <button class=\"colab-df-convert\" onclick=\"convertToInteractive('df-5befec23-0d4f-463c-962f-4436c2673562')\"\n",
              "              title=\"Convert this dataframe to an interactive table.\"\n",
              "              style=\"display:none;\">\n",
              "        \n",
              "  <svg xmlns=\"http://www.w3.org/2000/svg\" height=\"24px\"viewBox=\"0 0 24 24\"\n",
              "       width=\"24px\">\n",
              "    <path d=\"M0 0h24v24H0V0z\" fill=\"none\"/>\n",
              "    <path d=\"M18.56 5.44l.94 2.06.94-2.06 2.06-.94-2.06-.94-.94-2.06-.94 2.06-2.06.94zm-11 1L8.5 8.5l.94-2.06 2.06-.94-2.06-.94L8.5 2.5l-.94 2.06-2.06.94zm10 10l.94 2.06.94-2.06 2.06-.94-2.06-.94-.94-2.06-.94 2.06-2.06.94z\"/><path d=\"M17.41 7.96l-1.37-1.37c-.4-.4-.92-.59-1.43-.59-.52 0-1.04.2-1.43.59L10.3 9.45l-7.72 7.72c-.78.78-.78 2.05 0 2.83L4 21.41c.39.39.9.59 1.41.59.51 0 1.02-.2 1.41-.59l7.78-7.78 2.81-2.81c.8-.78.8-2.07 0-2.86zM5.41 20L4 18.59l7.72-7.72 1.47 1.35L5.41 20z\"/>\n",
              "  </svg>\n",
              "      </button>\n",
              "      \n",
              "  <style>\n",
              "    .colab-df-container {\n",
              "      display:flex;\n",
              "      flex-wrap:wrap;\n",
              "      gap: 12px;\n",
              "    }\n",
              "\n",
              "    .colab-df-convert {\n",
              "      background-color: #E8F0FE;\n",
              "      border: none;\n",
              "      border-radius: 50%;\n",
              "      cursor: pointer;\n",
              "      display: none;\n",
              "      fill: #1967D2;\n",
              "      height: 32px;\n",
              "      padding: 0 0 0 0;\n",
              "      width: 32px;\n",
              "    }\n",
              "\n",
              "    .colab-df-convert:hover {\n",
              "      background-color: #E2EBFA;\n",
              "      box-shadow: 0px 1px 2px rgba(60, 64, 67, 0.3), 0px 1px 3px 1px rgba(60, 64, 67, 0.15);\n",
              "      fill: #174EA6;\n",
              "    }\n",
              "\n",
              "    [theme=dark] .colab-df-convert {\n",
              "      background-color: #3B4455;\n",
              "      fill: #D2E3FC;\n",
              "    }\n",
              "\n",
              "    [theme=dark] .colab-df-convert:hover {\n",
              "      background-color: #434B5C;\n",
              "      box-shadow: 0px 1px 3px 1px rgba(0, 0, 0, 0.15);\n",
              "      filter: drop-shadow(0px 1px 2px rgba(0, 0, 0, 0.3));\n",
              "      fill: #FFFFFF;\n",
              "    }\n",
              "  </style>\n",
              "\n",
              "      <script>\n",
              "        const buttonEl =\n",
              "          document.querySelector('#df-5befec23-0d4f-463c-962f-4436c2673562 button.colab-df-convert');\n",
              "        buttonEl.style.display =\n",
              "          google.colab.kernel.accessAllowed ? 'block' : 'none';\n",
              "\n",
              "        async function convertToInteractive(key) {\n",
              "          const element = document.querySelector('#df-5befec23-0d4f-463c-962f-4436c2673562');\n",
              "          const dataTable =\n",
              "            await google.colab.kernel.invokeFunction('convertToInteractive',\n",
              "                                                     [key], {});\n",
              "          if (!dataTable) return;\n",
              "\n",
              "          const docLinkHtml = 'Like what you see? Visit the ' +\n",
              "            '<a target=\"_blank\" href=https://colab.research.google.com/notebooks/data_table.ipynb>data table notebook</a>'\n",
              "            + ' to learn more about interactive tables.';\n",
              "          element.innerHTML = '';\n",
              "          dataTable['output_type'] = 'display_data';\n",
              "          await google.colab.output.renderOutput(dataTable, element);\n",
              "          const docLink = document.createElement('div');\n",
              "          docLink.innerHTML = docLinkHtml;\n",
              "          element.appendChild(docLink);\n",
              "        }\n",
              "      </script>\n",
              "    </div>\n",
              "  </div>\n",
              "  "
            ],
            "text/plain": [
              "    Unnamed: 0  ...        Unnamed: 43\n",
              "0          NaN  ...                NaN\n",
              "1          NaN  ...                NaN\n",
              "2          NaN  ...                NaN\n",
              "3          NaN  ...                NaN\n",
              "4            #  ...                NaN\n",
              "..         ...  ...                ...\n",
              "195        191  ...                NaN\n",
              "196        NaN  ...                NaN\n",
              "197        NaN  ...               0,00\n",
              "198        NaN  ...                NaN\n",
              "199        NaN  ...  30.673.364.977,72\n",
              "\n",
              "[200 rows x 36 columns]"
            ]
          },
          "metadata": {},
          "execution_count": 26
        }
      ]
    },
    {
      "cell_type": "code",
      "source": [
        "df_pip_cats.loc[4]"
      ],
      "metadata": {
        "id": "PO0w3WgGg38_"
      },
      "execution_count": null,
      "outputs": []
    },
    {
      "cell_type": "markdown",
      "source": [
        "- create dateframe reduced "
      ],
      "metadata": {
        "id": "dTp-mGohgJKR"
      }
    },
    {
      "cell_type": "code",
      "source": [
        "df_pip_cats.columns"
      ],
      "metadata": {
        "colab": {
          "base_uri": "https://localhost:8080/"
        },
        "id": "PIaVKDKvl2ar",
        "outputId": "9172397e-8199-4fb9-e642-a1f2bf0ca0a6"
      },
      "execution_count": null,
      "outputs": [
        {
          "output_type": "execute_result",
          "data": {
            "text/plain": [
              "Index(['Unnamed: 0', 'Unnamed: 1', 'Unnamed: 2', 'Unnamed: 3', 'Unnamed: 4',\n",
              "       'Unnamed: 5', 'Unnamed: 6', 'Unnamed: 7', 'Unnamed: 8', 'Unnamed: 9',\n",
              "       'Unnamed: 10', 'Unnamed: 11', 'Unnamed: 12', 'Unnamed: 13',\n",
              "       'Unnamed: 14', 'Setor', 'Unnamed: 16', 'Unnamed: 17', 'Unnamed: 18',\n",
              "       'Unnamed: 19', 'Unnamed: 20', 'Unnamed: 21', 'Unnamed: 22',\n",
              "       'Unnamed: 23', 'Unnamed: 24', 'Unnamed: 25', 'Unnamed: 26',\n",
              "       'MODALIDADE CONCESSÃO', 'MODALIDADE PRORROGAÇÃO', 'Unnamed: 43'],\n",
              "      dtype='object')"
            ]
          },
          "metadata": {},
          "execution_count": 35
        }
      ]
    },
    {
      "cell_type": "code",
      "source": [
        "df_pip_cats.columns = [' #', 'Empreendimento', 'UF', 'Previsão de Conclusão', 'Investimentos\\nEstimados',\n",
        "                       'Outorga Efetiva', '% Excedente Partilha Mínimo (média das áreas)', '% Excedente Partilha', 'Nº Empresas participantes Leilões', 'Empresas Participantes',\n",
        "                       'Nacionalidade', 'Publicação do Edital/\\nTermo Aditivo', ' Sessão Pública (Leilão)', 'Licitante\\nVencedora',\n",
        "                       'Nacionalidade', 'Ministério', 'Setor', 'Subsetor',\n",
        "                       'Modalidade\\nOperacional', 'Qualificação', 'ESTUDO', 'CONSULTA PÚBLICA',\n",
        "                       'ACÓRDÃO TCU', 'EDITAL', 'LEILÃO', 'CONTRATO', 'ESTÁGIO ATUAL DO PROCESSO',\n",
        "                       'MODALIDADE CONCESSÃO', 'MODALIDADE PRORROGAÇÃO', 'NA']\n",
        "\n"
      ],
      "metadata": {
        "id": "ghFne47BovbB"
      },
      "execution_count": null,
      "outputs": []
    },
    {
      "cell_type": "code",
      "source": [
        ""
      ],
      "metadata": {
        "id": "qxJ5Ifn2v6_T"
      },
      "execution_count": null,
      "outputs": []
    },
    {
      "cell_type": "code",
      "source": [
        "# df_pip_cats.raname(columns=lambda )\n",
        "#    5544             return type(self).from_tuples(items, names=self.names)\n",
        "#    5545         else:\n",
        "# -> 5546             items = [func(x) for x in self]\n",
        "#    5547             return Index(items, name=self.name, tupleize_cols=False)"
      ],
      "metadata": {
        "id": "Ibk1BVjRgYo_"
      },
      "execution_count": null,
      "outputs": []
    },
    {
      "cell_type": "markdown",
      "source": [
        "# LabelEncoder\n",
        "\n",
        "- Docs: \n",
        " - https://scikit-learn.org/stable/modules/generated/sklearn.preprocessing.LabelEncoder.html"
      ],
      "metadata": {
        "id": "RMXLcJPWbRY-"
      }
    },
    {
      "cell_type": "markdown",
      "source": [
        "# Data processing\n",
        "\n",
        "Site of search"
      ],
      "metadata": {
        "id": "pIqa68bI9A70"
      }
    },
    {
      "cell_type": "code",
      "source": [
        "url = '...'"
      ],
      "metadata": {
        "id": "DBDxnEdiEjpd"
      },
      "execution_count": null,
      "outputs": []
    },
    {
      "cell_type": "markdown",
      "source": [
        "Read the spreadsheet: the format can be different, in this case html "
      ],
      "metadata": {
        "id": "EVTn6l70Ih7V"
      }
    },
    {
      "cell_type": "code",
      "source": [
        "html = pd.read_html(url, match='nome') "
      ],
      "metadata": {
        "id": "UY7TVCl9E2DU"
      },
      "execution_count": null,
      "outputs": []
    },
    {
      "cell_type": "markdown",
      "source": [
        "bulding local spreadsheet"
      ],
      "metadata": {
        "id": "8RW9Z4_YJ94M"
      }
    },
    {
      "cell_type": "code",
      "source": [
        "areas_leitura = {'coll': [1,2], 'coll': [3,4]}"
      ],
      "metadata": {
        "id": "SFppJ1sj7Mzt"
      },
      "execution_count": null,
      "outputs": []
    },
    {
      "cell_type": "code",
      "source": [
        "areas_leitura = pd.DataFrame() "
      ],
      "metadata": {
        "id": "cTHnkC476KUN"
      },
      "execution_count": null,
      "outputs": []
    },
    {
      "cell_type": "markdown",
      "source": [
        "# data command apply "
      ],
      "metadata": {
        "id": "k3r4S1PkCK7L"
      }
    },
    {
      "cell_type": "markdown",
      "source": [
        "- necessario para realizar a conversão e formatação de algum valor que esteja em uma formatação incoerente ao Pandas. "
      ],
      "metadata": {
        "id": "R1_H9YKWCnez"
      }
    },
    {
      "cell_type": "code",
      "source": [
        "# exemplo: modificar strings = type = object\n",
        "\n",
        "# df_name['column_name'] = df_name['column_name'].apply(lambda x: str(x).replace(\",\", \".\"))\n",
        "\n",
        "# exemplo: converter de type = object to type = float \n",
        "\n",
        "# df_name['column_name'] = df_name['column_name'].astype('float64') ## para que seja dado o inplace = true \n",
        "\n",
        "## realizar ações para calcular, por exemplo a média: \n",
        "\n",
        "# df_name['column_name'].mean()\n",
        "\n",
        "## ou plotar \n",
        "# df_name['column_name'].plot()\n",
        "\n",
        "\n",
        "################ CRiar DATAFRAMES \n",
        "\n",
        "#new_data_ppi = pd.DataFrame({'col00':[0,1,2],'col01':[0,1,2],'col02':[0,1,2]}, index=['row_00', 'row_01', 'row_02'])\n",
        "\n",
        "# SERIES \n",
        "\n",
        "# variable = pd.Series(['0', '1', '2', '3'], index=['00', '01', '02', '03'], name='series_name')"
      ],
      "metadata": {
        "id": "CJSJPqA0CVVo"
      },
      "execution_count": null,
      "outputs": []
    },
    {
      "cell_type": "markdown",
      "source": [
        " - modificando o tamanho de leitura do pandas, que por padrão virá: 50 caracteres "
      ],
      "metadata": {
        "id": "V7ds-DJKIUtu"
      }
    },
    {
      "cell_type": "code",
      "source": [
        "# pd.get_option('max_colwidht') # mostra o tamanho máximo das colunas \n",
        "# df_name['column_name'].str.len().max() # mostra o tamenho máximo do conjunto de caractérias apresentado nessa column \n",
        "# pd.set_option('max_colwidth', 100) # atribui um valor desejado para o conjunto de caractéres apresentado, porém pode-se usar o < None > caso queira deixar ilimitado. \n",
        "\n",
        "## o mesmo serve para exibir todas as linhas ou colunas \n",
        "\n",
        "# pd.get_option('max_columns')\n",
        "# pd.set_option('max_columns' 100)"
      ],
      "metadata": {
        "id": "yTbSTy1ZDqJ5"
      },
      "execution_count": null,
      "outputs": []
    },
    {
      "cell_type": "markdown",
      "source": [
        "# links úteis\n",
        "\n",
        "- documentação pandas: \n",
        " - https://pandas.pydata.org/\n",
        "\n",
        "- Geopandas \n",
        "  - https://geopandas.org/en/stable/  \n",
        "\n",
        "- OpenStreetMap\n",
        "  - https://www.openstreetmap.org/ \n",
        "\n",
        "- settings pandas: \n",
        " - https://pandas.pydata.org/pandas-docs/stable/user_guide/options.html "
      ],
      "metadata": {
        "id": "XH8GvIN7HaW-"
      }
    }
  ]
}