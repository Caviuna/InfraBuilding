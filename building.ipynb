{
  "nbformat": 4,
  "nbformat_minor": 0,
  "metadata": {
    "colab": {
      "name": "building.ipynb",
      "provenance": [],
      "collapsed_sections": [
        "r63chO9mm-Vh",
        "tge8-BStNBpw",
        "3cSAbvrlN_Yn",
        "RMXLcJPWbRY-",
        "k3r4S1PkCK7L",
        "XH8GvIN7HaW-",
        "qYzjc2eZt_w7"
      ],
      "authorship_tag": "ABX9TyO5iKJ8cPi6myV3tlfc7APd"
    },
    "kernelspec": {
      "name": "python3",
      "display_name": "Python 3"
    },
    "language_info": {
      "name": "python"
    }
  },
  "cells": [
    {
      "cell_type": "markdown",
      "source": [
        "# Install libs and config frameworks\n",
        "\n",
        "♟"
      ],
      "metadata": {
        "id": "pyA8HvvF72C1"
      }
    },
    {
      "cell_type": "markdown",
      "source": [
        "#Research project for the understanding of actions in urban infrastructure and mapping of flood areas and landslides on slopes with the use of AI.\n",
        "- Projeto pesquisa para o entendimento das ações em infraestrutura urbana e mapeamentos de áreas de enchente e deslizamentos de enconstas com o uso de IA."
      ],
      "metadata": {
        "id": "IFoBEyMLrYZq"
      }
    },
    {
      "cell_type": "markdown",
      "source": [
        ""
      ],
      "metadata": {
        "id": "vSVNJjjIrXoY"
      }
    },
    {
      "cell_type": "code",
      "source": [
        "# import geopandas as gdf\n",
        "import matplotlib \n",
        "import pandas as pd"
      ],
      "metadata": {
        "id": "3JlQpCsBWvee"
      },
      "execution_count": null,
      "outputs": []
    },
    {
      "cell_type": "markdown",
      "source": [
        "## Import data \n"
      ],
      "metadata": {
        "id": "gerW25C7813U"
      }
    },
    {
      "cell_type": "markdown",
      "source": [
        "### File: \n",
        "\n",
        "Read files from: \n",
        "\n",
        "SIDRA\n",
        "\n",
        "https://sidra.ibge.gov.br/acervo#/S/IU/A/110/T/Q \n",
        "\n",
        "\n",
        "IBGE \n",
        "\n",
        "https://www.ibge.gov.br/geociencias/organizacao-do-territorio/estrutura-territorial.html "
      ],
      "metadata": {
        "id": "EULkh2yorzgo"
      }
    },
    {
      "cell_type": "code",
      "source": [
        "# xlsx_file_link = '/content/Tabela de dados agregados.xlsx'\n",
        "# pd.read_excel(xlsx_file_link)"
      ],
      "metadata": {
        "id": "OCt9Tpvwrymg"
      },
      "execution_count": null,
      "outputs": []
    },
    {
      "cell_type": "markdown",
      "source": [
        "##  Ações necessárias para tratar o arquivo. -  Necessary action for make the file\n",
        "- Importa o aquivo no formato csv e define para ele uma variável < ppiread >\n",
        "- definido outra variável < pip_df > , 'read' lê arquivo definindo o separdador que por padrão é ' , ' porem no caso 'sep = ; ' \n",
        "- econding por padrão é o 'utf-8' mas no caso é ' econding = 'ISO-8859-1', o que é comum para arquivos dessa fonte de dados. \n",
        "- 'display' mostra o for aquivo 'head(10)' define a quantidade de linhas \n",
        "- print "
      ],
      "metadata": {
        "id": "WWErcidgFYaw"
      }
    },
    {
      "cell_type": "code",
      "source": [
        "ppiread = '/content/dados-abertos_ppi_31.08.18.csv'\n",
        "# df = pd.read_csv(ppiread, encoding='ISO-8859-1', error_bad_lines=False, engine='python')\n",
        "# ppi_df = pd.read_csv(ppiread, sep=';', delimiter=None, header='infer', names=None, index_col=None, usecols=None, squeeze=False, engine=None, encoding='ISO-8859-1')\n",
        "ppi_df = pd.read_csv(ppiread, sep = ';', delimiter=None, encoding='ISO-8859-1')\n",
        "# display(ppi_df.head(10))\n",
        "display(ppi_df.head(244))\n",
        "print(ppi_df.shape.index)"
      ],
      "metadata": {
        "id": "zvhAKFxvySJf"
      },
      "execution_count": null,
      "outputs": []
    },
    {
      "cell_type": "code",
      "source": [
        "# from google.colab import drive\n",
        "# drive.mount('/content/drive')"
      ],
      "metadata": {
        "id": "6bpeOB8o33mQ"
      },
      "execution_count": null,
      "outputs": []
    },
    {
      "cell_type": "markdown",
      "source": [
        "- Exiba de maneira crua, porém útil para se visualizar a quantidade de linha e colunas "
      ],
      "metadata": {
        "id": "P82tbAN6HczX"
      }
    },
    {
      "cell_type": "code",
      "source": [
        "# ppi_df "
      ],
      "metadata": {
        "id": "HThFCqI2FOho"
      },
      "execution_count": null,
      "outputs": []
    },
    {
      "cell_type": "markdown",
      "source": [
        "- Excluir as linhas completamente vazias, < dropna(how = 'all') > \n",
        " - para o caso de excluir alguma que tenha pelo menos um  vazio < dropna() >\n",
        "- Para caso precise remover alguma coluna < .drop('name', axis = 1) >\n",
        " - Para remover linha < .drop(0) >\n",
        "- verificar se tem alguma cédula que esteja vazia < .notnull().all() >"
      ],
      "metadata": {
        "id": "yKcKpPyNHwTW"
      }
    },
    {
      "cell_type": "code",
      "source": [
        "# ppi_df.dropna(how='all') "
      ],
      "metadata": {
        "id": "3Iz-JRAKmnC4"
      },
      "execution_count": null,
      "outputs": []
    },
    {
      "cell_type": "markdown",
      "source": [
        "- Definer a quantide de valore vazios nas linhas e colunas que sobraram "
      ],
      "metadata": {
        "id": "pbF3CLX9OUeD"
      }
    },
    {
      "cell_type": "markdown",
      "source": [
        ""
      ],
      "metadata": {
        "id": "CH4QVgjBN5C8"
      }
    },
    {
      "cell_type": "code",
      "source": [
        "# ppi_df.columns"
      ],
      "metadata": {
        "id": "sgIQx4Os3EbJ"
      },
      "execution_count": null,
      "outputs": []
    },
    {
      "cell_type": "markdown",
      "source": [
        "- Checar possíveis colunas vazias:  "
      ],
      "metadata": {
        "id": "AKXoXYzSMrTD"
      }
    },
    {
      "cell_type": "code",
      "source": [
        "# display(ppi_df['Unnamed: 43'].dropna(how=('all')))"
      ],
      "metadata": {
        "id": "bwlehRvDMsQT"
      },
      "execution_count": null,
      "outputs": []
    },
    {
      "cell_type": "code",
      "source": [
        "# ppi_df.notna()"
      ],
      "metadata": {
        "id": "eOYdzeNyZIt5"
      },
      "execution_count": null,
      "outputs": []
    },
    {
      "cell_type": "markdown",
      "source": [
        "- Ler a linha especificada e excluir a leitura das vazias "
      ],
      "metadata": {
        "id": "-Fr3K4UZ9gnK"
      }
    },
    {
      "cell_type": "code",
      "source": [
        "# display(ppi_df.loc[4].dropna(how=('all')))\n"
      ],
      "metadata": {
        "id": "0ve3Mr3X5fio"
      },
      "execution_count": null,
      "outputs": []
    },
    {
      "cell_type": "markdown",
      "source": [
        "- Removedo colunas\n",
        " "
      ],
      "metadata": {
        "id": "KjKZ62VUPCg4"
      }
    },
    {
      "cell_type": "code",
      "source": [
        "ppi_df_v2 = ppi_df.drop([ 'Unnamed: 37', 'Unnamed: 38', 'Unnamed: 39', 'Unnamed: 40',\n",
        "                          'Unnamed: 41', 'Unnamed: 42', 'Unnamed: 44',\n",
        "                          'Unnamed: 45', 'Unnamed: 46', 'Unnamed: 47', 'Unnamed: 48',\n",
        "                          'Unnamed: 49', 'Unnamed: 50', 'Unnamed: 51', 'Unnamed: 52',\n",
        "                          'Unnamed: 53', 'Unnamed: 54', 'Unnamed: 55', 'Unnamed: 56',\n",
        "                          'Unnamed: 57', 'Unnamed: 58', 'Unnamed: 59', 'Unnamed: 60',\n",
        "                          'Unnamed: 61', 'Unnamed: 62', 'Unnamed: 63', 'Unnamed: 64',\n",
        "                          'Unnamed: 65', 'Unnamed: 66', 'Unnamed: 67', 'Unnamed: 68',\n",
        "                          'Unnamed: 69', 'Unnamed: 70', 'Unnamed: 71', 'Unnamed: 72',\n",
        "                          'Unnamed: 73', 'Unnamed: 74', 'Unnamed: 75', 'Unnamed: 76',\n",
        "                          'Unnamed: 77', 'Unnamed: 78', 'Unnamed: 79', 'Unnamed: 80',\n",
        "                          'Unnamed: 81'], axis=1)"
      ],
      "metadata": {
        "id": "dBQ7jXFQMacH"
      },
      "execution_count": null,
      "outputs": []
    },
    {
      "cell_type": "code",
      "source": [
        "ppi_df_v3 = ppi_df_v2.dropna(how='all') "
      ],
      "metadata": {
        "id": "BheiRKPrf0Po"
      },
      "execution_count": null,
      "outputs": []
    },
    {
      "cell_type": "code",
      "source": [
        "# ppi_df_v3"
      ],
      "metadata": {
        "id": "Spdgf4CQgOXZ"
      },
      "execution_count": null,
      "outputs": []
    },
    {
      "cell_type": "markdown",
      "source": [
        "- Clear cvs file (Limpar arquivo) "
      ],
      "metadata": {
        "id": "fCdEB5Rv47Zv"
      }
    },
    {
      "cell_type": "code",
      "source": [
        "# ppi_df_v3['Unnamed: 0'].head(15)"
      ],
      "metadata": {
        "id": "yH4jDrtv5F8U"
      },
      "execution_count": null,
      "outputs": []
    },
    {
      "cell_type": "markdown",
      "source": [
        "- Procurando valores vazios em cada coluna (missing empty value) "
      ],
      "metadata": {
        "id": "BUVW8PFsFQKU"
      }
    },
    {
      "cell_type": "code",
      "source": [
        "# count = 0 \n",
        "# for row in ppi_df_v3['Unnamed: 10']:\n",
        "#     try:\n",
        "#       int(row)\n",
        "#       ppi_df_v3[count, 'Unnamed: 10'] = np.nan\n",
        "#     except ValueError: \n",
        "#       pass\n",
        "#     count += 1 "
      ],
      "metadata": {
        "id": "WtAlVfzX86nG"
      },
      "execution_count": null,
      "outputs": []
    },
    {
      "cell_type": "markdown",
      "source": [
        "- count number values cells (contando o numero de celulas vazias) "
      ],
      "metadata": {
        "id": "hF4Wft_uH2-D"
      }
    },
    {
      "cell_type": "code",
      "source": [
        "# ppi_df_v3.isnull().sum()"
      ],
      "metadata": {
        "id": "ilLtOmzjDY2t"
      },
      "execution_count": null,
      "outputs": []
    },
    {
      "cell_type": "markdown",
      "source": [
        "- check info above, include empty columns in step above - code line 27 (checar a informação acima e incluir as as colunas  vazias na rotina da linha do cidigo 27) - ajust this after. "
      ],
      "metadata": {
        "id": "qf_KQde0I9Zx"
      }
    },
    {
      "cell_type": "code",
      "source": [
        "# ppi_df_v3['Unnamed: 27'].head(200)"
      ],
      "metadata": {
        "id": "HsJYflYgIo4b"
      },
      "execution_count": null,
      "outputs": []
    },
    {
      "cell_type": "markdown",
      "source": [
        ""
      ],
      "metadata": {
        "id": "fy9TJFcQJzzT"
      }
    },
    {
      "cell_type": "code",
      "source": [
        "ppi_df_v4 = ppi_df_v3.drop([ 'Unnamed: 27', 'Unnamed: 28', 'Unnamed: 29',\n",
        "                          'Unnamed: 30', 'Unnamed: 31', 'Unnamed: 32', 'Unnamed: 33',\n",
        "                          'Unnamed: 34'], axis = 1) "
      ],
      "metadata": {
        "id": "FkK2EPqKPIGi"
      },
      "execution_count": null,
      "outputs": []
    },
    {
      "cell_type": "code",
      "source": [
        "# ppi_df_v4"
      ],
      "metadata": {
        "id": "MW5CQbPqPoQp"
      },
      "execution_count": null,
      "outputs": []
    },
    {
      "cell_type": "markdown",
      "source": [
        "- Dtype columns "
      ],
      "metadata": {
        "id": "WCmlxczeG3a1"
      }
    },
    {
      "cell_type": "code",
      "source": [
        "# ppi_df_v4.info() # ppi_df_v4.info(verbose=True) "
      ],
      "metadata": {
        "id": "2eqpIp0Oo3Js"
      },
      "execution_count": null,
      "outputs": []
    },
    {
      "cell_type": "markdown",
      "source": [
        "- metodo < query >  "
      ],
      "metadata": {
        "id": "rvVE2OX-Mh_5"
      }
    },
    {
      "cell_type": "code",
      "source": [
        "# ppi_df_v4.map(lambda x: x.replace('', '_') if isinstance(x, (str))else x)\n",
        "# ppi_df_v4.query('Nation == \"Brasil\"').head(10)"
      ],
      "metadata": {
        "id": "N17_mROWMO1Q"
      },
      "execution_count": null,
      "outputs": []
    },
    {
      "cell_type": "code",
      "source": [
        "# ppi_df_v4.index"
      ],
      "metadata": {
        "id": "TDIPo2g3MufO"
      },
      "execution_count": null,
      "outputs": []
    },
    {
      "cell_type": "code",
      "source": [
        "# ppi_df_v4.columns"
      ],
      "metadata": {
        "id": "bbGuiKZ5MvNg"
      },
      "execution_count": null,
      "outputs": []
    },
    {
      "cell_type": "code",
      "source": [
        "# ppi_df_v4.set_index('Unnamed: 0', inplace=True)"
      ],
      "metadata": {
        "id": "z9YdNSUHMvkY"
      },
      "execution_count": null,
      "outputs": []
    },
    {
      "cell_type": "markdown",
      "source": [
        "- set index for column 01 - (reindexando a primeira coluna, que por padrão é gerada pelo pandas) "
      ],
      "metadata": {
        "id": "k9e2gJ9lv5aE"
      }
    },
    {
      "cell_type": "code",
      "source": [
        "# ppi_df_v4.set_index('Unnamed: 0', inplace=True)"
      ],
      "metadata": {
        "id": "DuaBA1WIvE17"
      },
      "execution_count": null,
      "outputs": []
    },
    {
      "cell_type": "markdown",
      "source": [
        "- Use loc <.loc[row1, row2...['column1', 'column2',...]] for slace < : >  "
      ],
      "metadata": {
        "id": "0opsKPBz5P35"
      }
    },
    {
      "cell_type": "code",
      "source": [
        "pd.set_option('max_rows', 200)\n",
        "pd.set_option('max_columns', 100)"
      ],
      "metadata": {
        "id": "Wc79tTn3POvQ"
      },
      "execution_count": null,
      "outputs": []
    },
    {
      "cell_type": "code",
      "source": [
        "# ppi_df_v4.loc[4:]"
      ],
      "metadata": {
        "id": "vx7EpUhgys5a"
      },
      "execution_count": null,
      "outputs": []
    },
    {
      "cell_type": "markdown",
      "source": [
        "- Describe quantidades, particularidades, referência e frequência."
      ],
      "metadata": {
        "id": "qWNW_9u3FzVw"
      }
    },
    {
      "cell_type": "code",
      "source": [
        "# ppi_df_v4.describe()"
      ],
      "metadata": {
        "id": "QAXSk0akLZGd"
      },
      "execution_count": null,
      "outputs": []
    },
    {
      "cell_type": "code",
      "source": [
        "# ppi_df_v4.columns.values"
      ],
      "metadata": {
        "id": "CBNPFvQebV5H"
      },
      "execution_count": null,
      "outputs": []
    },
    {
      "cell_type": "markdown",
      "source": [
        "# Create a new dataframe - Criação de um novo dataframe "
      ],
      "metadata": {
        "id": "a_5OGCeuHu12"
      }
    },
    {
      "cell_type": "markdown",
      "source": [
        "- Criação de nova dataframe if new colunas e linhas. \n",
        " - (create new dataframe) "
      ],
      "metadata": {
        "id": "l9b2x5qXnhGf"
      }
    },
    {
      "cell_type": "code",
      "source": [
        "df_pip_new = ppi_df_v4"
      ],
      "metadata": {
        "id": "rXwYS-fwbwpG"
      },
      "execution_count": null,
      "outputs": []
    },
    {
      "cell_type": "code",
      "source": [
        "df_pip_new.columns = [' #', 'Empreendimento', 'UF', 'Previsão de Conclusão', 'Investimentos\\nEstimados',\n",
        "                       'Outorga Efetiva', '% Excedente Partilha Mínimo (média das áreas)', '% Excedente Partilha', 'Nº Empresas participantes Leilões', 'Empresas Participantes',\n",
        "                       'Nacionalidade', 'Publicação do Edital * Termo Aditivo', ' Sessão Pública (Leilão)', 'Licitante\\nVencedora',\n",
        "                       'Nacionalidade', 'Ministério', 'Setor', 'Subsetor',\n",
        "                       'Modalidade\\nOperacional', 'Qualificação', 'ESTUDO - MARCOS DO PROJETO', 'CONSULTA PÚBLICA',\n",
        "                       'ACÓRDÃO TCU', 'EDITAL', 'LEILÃO', 'CONTRATO', 'ESTÁGIO ATUAL DO PROCESSO',\n",
        "                       'MODALIDADE CONCESSÃO', 'MODALIDADE PRORROGAÇÃO', 'NA']\n"
      ],
      "metadata": {
        "id": "dbp1UvMQ9olW"
      },
      "execution_count": null,
      "outputs": []
    },
    {
      "cell_type": "code",
      "source": [
        "# df_pip_new"
      ],
      "metadata": {
        "id": "Ui5O5kA0b9xW"
      },
      "execution_count": null,
      "outputs": []
    },
    {
      "cell_type": "code",
      "source": [
        "# df_pip_new['MODALIDADE CONCESSÃO']"
      ],
      "metadata": {
        "id": "Jp8z1326ef8F"
      },
      "execution_count": null,
      "outputs": []
    },
    {
      "cell_type": "code",
      "source": [
        "# print(df_pip_new.loc[:, ['Outorga Efetiva', 'NA']])"
      ],
      "metadata": {
        "id": "5O5XysWa-s8r"
      },
      "execution_count": null,
      "outputs": []
    },
    {
      "cell_type": "code",
      "source": [
        "# display(ppi_df['MODALIDADE CONCESSÃO'].dropna(how=('all')))"
      ],
      "metadata": {
        "id": "Iz_8Di2VbVa3"
      },
      "execution_count": null,
      "outputs": []
    },
    {
      "cell_type": "markdown",
      "source": [
        " - Create a subdata - Criar uma subtabela Modallidade de concessão  "
      ],
      "metadata": {
        "id": "lL0HwEX0fwOF"
      }
    },
    {
      "cell_type": "code",
      "source": [
        "df_modal_concessao = pd.DataFrame({'MODALIDADE CONCESSÃO': ['1. Estudo', '2. Consulta Pública ',\n",
        "                                                            '3. Análise TCU', '4. Edital publicado',\n",
        "                                                            '5. Leilão realizado', '6. Contrato assinado']},\n",
        "                                   index=[0,1,2,3,4,5])\n",
        "df_modal_concessao"
      ],
      "metadata": {
        "id": "kel2ZvQlcbre"
      },
      "execution_count": null,
      "outputs": []
    },
    {
      "cell_type": "code",
      "source": [
        "# df_pip_new['MODALIDADE PRORROGAÇÃO']"
      ],
      "metadata": {
        "id": "5LxpmegVf-gU"
      },
      "execution_count": null,
      "outputs": []
    },
    {
      "cell_type": "markdown",
      "source": [
        "- Remove row and columns. Remover linas e colunas  "
      ],
      "metadata": {
        "id": "uwkuYAQyg8IM"
      }
    },
    {
      "cell_type": "code",
      "source": [
        "df_pip_new_01 = df_pip_new.drop(columns = [' #', 'MODALIDADE CONCESSÃO', 'MODALIDADE PRORROGAÇÃO'])"
      ],
      "metadata": {
        "id": "iD3lchK6g6EE"
      },
      "execution_count": null,
      "outputs": []
    },
    {
      "cell_type": "code",
      "source": [
        "df_pip_new_02 = df_pip_new_01.drop([0,1,2,3,4])"
      ],
      "metadata": {
        "id": "Nv0fC9GIqGPX"
      },
      "execution_count": null,
      "outputs": []
    },
    {
      "cell_type": "code",
      "source": [
        "# df_pip_new_02.head()"
      ],
      "metadata": {
        "id": "xMdl1SiKlB2i"
      },
      "execution_count": null,
      "outputs": []
    },
    {
      "cell_type": "markdown",
      "source": [
        "- Apply changes in index and ajust first rows - Ajustando a primeira linha do df para gerar um novo index. "
      ],
      "metadata": {
        "id": "VU64S84O8uSZ"
      }
    },
    {
      "cell_type": "code",
      "source": [
        "df_pip_new_03 = df_pip_new_02.reset_index(drop=True)"
      ],
      "metadata": {
        "id": "DzZYTs9M617C"
      },
      "execution_count": null,
      "outputs": []
    },
    {
      "cell_type": "code",
      "source": [
        "df_pip_new_03.head(200)"
      ],
      "metadata": {
        "id": "EdkKgHa19fAo"
      },
      "execution_count": null,
      "outputs": []
    },
    {
      "cell_type": "markdown",
      "source": [
        "## Isolate Dataframes - classificar base de dados"
      ],
      "metadata": {
        "id": "QApMMqNUbMWD"
      }
    },
    {
      "cell_type": "code",
      "source": [
        "df_emprLocal = df_pip_new_03.loc[:, ['Empreendimento', 'UF']]"
      ],
      "metadata": {
        "id": "gvT2e4JKbowr"
      },
      "execution_count": null,
      "outputs": []
    },
    {
      "cell_type": "code",
      "source": [
        "# display(df_emprLocal)"
      ],
      "metadata": {
        "id": "na7km4ogd1oy"
      },
      "execution_count": null,
      "outputs": []
    },
    {
      "cell_type": "code",
      "source": [
        "df_emprLocal_00 = df_emprLocal.drop(index = [191, 192, 193, 194])"
      ],
      "metadata": {
        "id": "RSpTnDmfeZSq"
      },
      "execution_count": null,
      "outputs": []
    },
    {
      "cell_type": "code",
      "source": [
        "df_emprLocal_00"
      ],
      "metadata": {
        "id": "cSYOvJwlgrO5"
      },
      "execution_count": null,
      "outputs": []
    },
    {
      "cell_type": "code",
      "source": [
        "df_emprLocal_00.to_csv('address_ppi.csv', encoding='ISO-8859-1')"
      ],
      "metadata": {
        "id": "B-Gc-JQGAHAh"
      },
      "execution_count": null,
      "outputs": []
    },
    {
      "cell_type": "code",
      "source": [
        "ppi_address_ajust = '/content/address_ppi.csv'\n",
        "ppi_address_ajust = pd.read_csv(ppi_address_ajust, encoding='ISO-8859-1')\n",
        "ppi_address_ajust.head()"
      ],
      "metadata": {
        "id": "WrLYK89jAjgJ"
      },
      "execution_count": null,
      "outputs": []
    },
    {
      "cell_type": "markdown",
      "source": [
        "# Local buidings. - Localização das obras "
      ],
      "metadata": {
        "id": "HRzLOQ-ZZjzk"
      }
    },
    {
      "cell_type": "markdown",
      "source": [
        "- install frameworks "
      ],
      "metadata": {
        "id": "KscIDKetaWGj"
      }
    },
    {
      "cell_type": "code",
      "source": [
        "!pip install geopandas"
      ],
      "metadata": {
        "id": "SLHCoqx8aEec"
      },
      "execution_count": null,
      "outputs": []
    },
    {
      "cell_type": "code",
      "source": [
        "!pip install geopy "
      ],
      "metadata": {
        "id": "sunyC5YAaQSU",
        "colab": {
          "base_uri": "https://localhost:8080/"
        },
        "outputId": "9882d36a-14fd-4491-f238-4744ec30bd0f"
      },
      "execution_count": null,
      "outputs": [
        {
          "output_type": "stream",
          "name": "stdout",
          "text": [
            "Requirement already satisfied: geopy in /usr/local/lib/python3.7/dist-packages (1.17.0)\n",
            "Requirement already satisfied: geographiclib<2,>=1.49 in /usr/local/lib/python3.7/dist-packages (from geopy) (1.52)\n"
          ]
        }
      ]
    },
    {
      "cell_type": "markdown",
      "source": [
        "- import libs "
      ],
      "metadata": {
        "id": "d2_jzbNPaa3D"
      }
    },
    {
      "cell_type": "code",
      "source": [
        "import geopandas as gpd"
      ],
      "metadata": {
        "id": "oW2icWYoad0D"
      },
      "execution_count": null,
      "outputs": []
    },
    {
      "cell_type": "code",
      "source": [
        ""
      ],
      "metadata": {
        "id": "IiF7gtsMUEt2"
      },
      "execution_count": null,
      "outputs": []
    },
    {
      "cell_type": "markdown",
      "source": [
        "- treat location - tools.geocode. "
      ],
      "metadata": {
        "id": "zPx7IKPsi5vP"
      }
    },
    {
      "cell_type": "code",
      "source": [
        "gpd.tools.geocode(df_emprLocal_00['Empreendimento'], provider = 'nominatim', user_agent='UF Builds', country_bias = 'brazil_states')"
      ],
      "metadata": {
        "id": "NoHWoJ7ubJ8U"
      },
      "execution_count": null,
      "outputs": []
    },
    {
      "cell_type": "code",
      "source": [
        "df_emprLocal_01 = gpd.tools.geocode(df_emprLocal_00['Empreendimento'], provider = 'nominatim', user_agent='UF Builds', country_bias = 'brazil_states')['geometry']"
      ],
      "metadata": {
        "id": "vKY_z32Mlbs3"
      },
      "execution_count": null,
      "outputs": []
    },
    {
      "cell_type": "code",
      "source": [
        "df_emprLocal_01.type"
      ],
      "metadata": {
        "id": "aIooTOu0z8e_"
      },
      "execution_count": null,
      "outputs": []
    },
    {
      "cell_type": "markdown",
      "source": [
        "- Is necessary apply -sort_index and drop null values, \n",
        "\n",
        "- The activit crafted in < explore_address.ipynb > "
      ],
      "metadata": {
        "id": "giJJIZJScLRb"
      }
    },
    {
      "cell_type": "code",
      "source": [
        "# df_emprLocal_01 = df_emprLocal_00['Empreendimento'].dropna(how=('all'))\n",
        "# df_emprLocal_01"
      ],
      "metadata": {
        "id": "HMjlI-zHjSDX"
      },
      "execution_count": null,
      "outputs": []
    },
    {
      "cell_type": "code",
      "source": [
        "df_emprLocal_01.index.values"
      ],
      "metadata": {
        "id": "yPSfTysPBJlu"
      },
      "execution_count": null,
      "outputs": []
    },
    {
      "cell_type": "markdown",
      "source": [
        "- convert geometry for data to read in projetc  "
      ],
      "metadata": {
        "id": "P9X82XCKn3j_"
      }
    },
    {
      "cell_type": "code",
      "source": [
        "# from shapely import geometry\n",
        "# ppi_map_01 = gpd.GeoDataFrame(geometry = gpd.points_from_xy)"
      ],
      "metadata": {
        "id": "9knE7QeSn-g1"
      },
      "execution_count": null,
      "outputs": []
    },
    {
      "cell_type": "markdown",
      "source": [
        "# Plot map with data"
      ],
      "metadata": {
        "id": "4GxnUZmnK8uN"
      }
    },
    {
      "cell_type": "markdown",
      "source": [
        "- install libs"
      ],
      "metadata": {
        "id": "UHEtHgfKdJnk"
      }
    },
    {
      "cell_type": "code",
      "source": [
        "import matplotlib.pyplot as plt"
      ],
      "metadata": {
        "id": "1vLBK8WTaWob"
      },
      "execution_count": null,
      "outputs": []
    },
    {
      "cell_type": "code",
      "source": [
        "from matplotlib import colors as mcolors"
      ],
      "metadata": {
        "id": "ZHveUOw7ahY7"
      },
      "execution_count": null,
      "outputs": []
    },
    {
      "cell_type": "code",
      "source": [
        "!pip install cartopy"
      ],
      "metadata": {
        "id": "7K5uhiRcxWhf"
      },
      "execution_count": null,
      "outputs": []
    },
    {
      "cell_type": "code",
      "source": [
        "import cartopy.crs as ccrs "
      ],
      "metadata": {
        "id": "KTNvts-L5TiM"
      },
      "execution_count": null,
      "outputs": []
    },
    {
      "cell_type": "code",
      "source": [
        "import fiona"
      ],
      "metadata": {
        "id": "eZvUioRDyPt3"
      },
      "execution_count": null,
      "outputs": []
    },
    {
      "cell_type": "code",
      "source": [
        "fiona.supported_drivers"
      ],
      "metadata": {
        "id": "CkAnqiG_yTO-"
      },
      "execution_count": null,
      "outputs": []
    },
    {
      "cell_type": "code",
      "source": [
        "mapaBrasil = gpd.read_file('/content/brazil_states/BRUFE250GC_SIR.shp')\n",
        "mapaBrasil.plot(column = 'NM_REGIAO', figsize=(20, 20))"
      ],
      "metadata": {
        "id": "dOolhf2mK8Jt"
      },
      "execution_count": null,
      "outputs": []
    },
    {
      "cell_type": "code",
      "source": [
        "# print(mapaBrasil.area)"
      ],
      "metadata": {
        "id": "yqiPjL6s1L78"
      },
      "execution_count": null,
      "outputs": []
    },
    {
      "cell_type": "code",
      "source": [
        "mapaBrasil.shape"
      ],
      "metadata": {
        "colab": {
          "base_uri": "https://localhost:8080/"
        },
        "id": "5E04VHDNvjzB",
        "outputId": "a8edd891-c223-49e4-f746-c0677eb4855b"
      },
      "execution_count": null,
      "outputs": [
        {
          "output_type": "execute_result",
          "data": {
            "text/plain": [
              "(27, 4)"
            ]
          },
          "metadata": {},
          "execution_count": 82
        }
      ]
    },
    {
      "cell_type": "code",
      "source": [
        "mapaBrasil.type"
      ],
      "metadata": {
        "id": "byUpAej5uhfi"
      },
      "execution_count": null,
      "outputs": []
    },
    {
      "cell_type": "markdown",
      "source": [
        "- overlay maps - Only points read"
      ],
      "metadata": {
        "id": "h2Q-v7Fa1nBu"
      }
    },
    {
      "cell_type": "code",
      "source": [
        "ax = ppi_map_00.plot(color='black', figsize=(20,  20)) \n",
        "mapaBrasil.plot(ax=ax, column = 'NM_REGIAO', alpha=0.5, figsize=(20,  20))"
      ],
      "metadata": {
        "colab": {
          "base_uri": "https://localhost:8080/",
          "height": 1000
        },
        "id": "5giqjga5xHcA",
        "outputId": "35013583-b223-4a56-aa59-2ea5d7788fac"
      },
      "execution_count": null,
      "outputs": [
        {
          "output_type": "execute_result",
          "data": {
            "text/plain": [
              "<matplotlib.axes._subplots.AxesSubplot at 0x7f36b656df50>"
            ]
          },
          "metadata": {},
          "execution_count": 102
        },
        {
          "output_type": "display_data",
          "data": {
            "image/png": "[encoded data removed]",
            "text/plain": [
              "<Figure size 1440x1440 with 1 Axes>"
            ]
          },
          "metadata": {
            "needs_background": "light"
          }
        }
      ]
    },
    {
      "cell_type": "code",
      "source": [
        "# fig, ax = plt.subplots(figsize= (20, 20))\n",
        "# mapaBrasil.plot(ax=ax, column = 'NM_REGIAO') \n",
        "# ppi_plot.plot(ax=ax, color='black')\n",
        "# for x, y, label in zip(ppi_plot.geometry.x, ppi_plot.geometry.y, ppi_plot.address): \n",
        "#   ax.annotate(label, xy=(x, y), xytext=(2, 2), textcoords = 'offset points', size = 12, color='black')\n",
        "\n"
      ],
      "metadata": {
        "id": "erdE2O_scmf6"
      },
      "execution_count": null,
      "outputs": []
    },
    {
      "cell_type": "markdown",
      "source": [
        "# Formatting - FORMATAÇÃO "
      ],
      "metadata": {
        "id": "r63chO9mm-Vh"
      }
    },
    {
      "cell_type": "markdown",
      "source": [
        "- Export file to csv "
      ],
      "metadata": {
        "id": "7oC-4E7OwXVH"
      }
    },
    {
      "cell_type": "code",
      "source": [
        "# new_data_ppi.to_csv('easy_read_data_ppi.csv')"
      ],
      "metadata": {
        "id": "gTjz_xuiwVlA"
      },
      "execution_count": null,
      "outputs": []
    },
    {
      "cell_type": "markdown",
      "source": [
        "# Categorical variable \n"
      ],
      "metadata": {
        "id": "tge8-BStNBpw"
      }
    },
    {
      "cell_type": "markdown",
      "source": [
        "- Describe quantidades, particularidades, referência e frequência. "
      ],
      "metadata": {
        "id": "eSy8NINzNlYn"
      }
    },
    {
      "cell_type": "code",
      "source": [
        "# df_pip_cats = ppi_df_v4.select_dtypes(include=object)"
      ],
      "metadata": {
        "id": "yom91m0xNm3n"
      },
      "execution_count": null,
      "outputs": []
    },
    {
      "cell_type": "code",
      "source": [
        "# df_pip_cats.describe()"
      ],
      "metadata": {
        "id": "iNurmW6mRB92"
      },
      "execution_count": null,
      "outputs": []
    },
    {
      "cell_type": "code",
      "source": [
        "# df_pip_cats.rename(columns={'Unnamed: 15' : 'Setor'}, inplace=True)"
      ],
      "metadata": {
        "id": "rk1iS00dRf6d"
      },
      "execution_count": null,
      "outputs": []
    },
    {
      "cell_type": "markdown",
      "source": [
        "## One-hot enconder - tratamentode variáveis categoricas nominais."
      ],
      "metadata": {
        "id": "3cSAbvrlN_Yn"
      }
    },
    {
      "cell_type": "markdown",
      "source": [
        "- Category Encoders / Scikit Learn\n",
        " - Docs:\n",
        "  -  https://contrib.scikit-learn.org/category_encoders/index.html\n",
        "  - https://scikit-learn.org/stable/modules/preprocessing.html#preprocessing-categorical-features\n"
      ],
      "metadata": {
        "id": "9ihkniaXOPmv"
      }
    },
    {
      "cell_type": "code",
      "source": [
        "# !pip install category_encoders"
      ],
      "metadata": {
        "id": "YIVLMVN9OorH"
      },
      "execution_count": null,
      "outputs": []
    },
    {
      "cell_type": "code",
      "source": [
        "# import category_encoders as ce"
      ],
      "metadata": {
        "id": "tHbZOdPaPJSG"
      },
      "execution_count": null,
      "outputs": []
    },
    {
      "cell_type": "code",
      "source": [
        "# from category_encoders.one_hot import OneHotEncoder"
      ],
      "metadata": {
        "id": "W_LUp-drPZxW"
      },
      "execution_count": null,
      "outputs": []
    },
    {
      "cell_type": "code",
      "source": [
        "# df_pip_cats['Setor'].head(15)"
      ],
      "metadata": {
        "id": "zhvN9clLPaJO"
      },
      "execution_count": null,
      "outputs": []
    },
    {
      "cell_type": "code",
      "source": [
        "# one_hot_enc = OneHotEncoder(cols=['Setor'])"
      ],
      "metadata": {
        "id": "inyxTEirQn_N"
      },
      "execution_count": null,
      "outputs": []
    },
    {
      "cell_type": "code",
      "source": [
        "# one_hot_enc.fit_transform(df_pip_cats)"
      ],
      "metadata": {
        "id": "2Fvmy14KThvb"
      },
      "execution_count": null,
      "outputs": []
    },
    {
      "cell_type": "code",
      "source": [
        "# df_pip_cats.loc[4]"
      ],
      "metadata": {
        "id": "PO0w3WgGg38_"
      },
      "execution_count": null,
      "outputs": []
    },
    {
      "cell_type": "markdown",
      "source": [
        "- create dateframe reduced "
      ],
      "metadata": {
        "id": "dTp-mGohgJKR"
      }
    },
    {
      "cell_type": "code",
      "source": [
        "# df_pip_cats.columns"
      ],
      "metadata": {
        "id": "PIaVKDKvl2ar"
      },
      "execution_count": null,
      "outputs": []
    },
    {
      "cell_type": "code",
      "source": [
        "# df_pip_cats.columns = [' #', 'Empreendimento', 'UF', 'Previsão de Conclusão', 'Investimentos\\nEstimados',\n",
        "#                        'Outorga Efetiva', '% Excedente Partilha Mínimo (média das áreas)', '% Excedente Partilha', 'Nº Empresas participantes Leilões', 'Empresas Participantes',\n",
        "#                        'Nacionalidade', 'Publicação do Edital/\\nTermo Aditivo', ' Sessão Pública (Leilão)', 'Licitante\\nVencedora',\n",
        "#                        'Nacionalidade', 'Ministério', 'Setor', 'Subsetor',\n",
        "#                        'Modalidade\\nOperacional', 'Qualificação', 'ESTUDO', 'CONSULTA PÚBLICA',\n",
        "#                        'ACÓRDÃO TCU', 'EDITAL', 'LEILÃO', 'CONTRATO', 'ESTÁGIO ATUAL DO PROCESSO',\n",
        "#                        'MODALIDADE CONCESSÃO', 'MODALIDADE PRORROGAÇÃO', 'NA']\n",
        "\n"
      ],
      "metadata": {
        "id": "ghFne47BovbB"
      },
      "execution_count": null,
      "outputs": []
    },
    {
      "cell_type": "code",
      "source": [
        "# df_pip_cats.raname(columns=lambda )\n",
        "#    5544             return type(self).from_tuples(items, names=self.names)\n",
        "#    5545         else:\n",
        "# -> 5546             items = [func(x) for x in self]\n",
        "#    5547             return Index(items, name=self.name, tupleize_cols=False)"
      ],
      "metadata": {
        "id": "Ibk1BVjRgYo_"
      },
      "execution_count": null,
      "outputs": []
    },
    {
      "cell_type": "markdown",
      "source": [
        "# LabelEncoder\n",
        "\n",
        "- Docs: \n",
        " - https://scikit-learn.org/stable/modules/generated/sklearn.preprocessing.LabelEncoder.html"
      ],
      "metadata": {
        "id": "RMXLcJPWbRY-"
      }
    },
    {
      "cell_type": "markdown",
      "source": [
        "# Data processing\n",
        "\n",
        "Site of search"
      ],
      "metadata": {
        "id": "pIqa68bI9A70"
      }
    },
    {
      "cell_type": "code",
      "source": [
        "# url = '...'"
      ],
      "metadata": {
        "id": "DBDxnEdiEjpd"
      },
      "execution_count": null,
      "outputs": []
    },
    {
      "cell_type": "markdown",
      "source": [
        "Read the spreadsheet: the format can be different, in this case html "
      ],
      "metadata": {
        "id": "EVTn6l70Ih7V"
      }
    },
    {
      "cell_type": "code",
      "source": [
        "# html = pd.read_html(url, match='nome') "
      ],
      "metadata": {
        "id": "UY7TVCl9E2DU"
      },
      "execution_count": null,
      "outputs": []
    },
    {
      "cell_type": "markdown",
      "source": [
        "bulding local spreadsheet"
      ],
      "metadata": {
        "id": "8RW9Z4_YJ94M"
      }
    },
    {
      "cell_type": "code",
      "source": [
        "# areas_leitura = {'coll': [1,2], 'coll': [3,4]}"
      ],
      "metadata": {
        "id": "SFppJ1sj7Mzt"
      },
      "execution_count": null,
      "outputs": []
    },
    {
      "cell_type": "code",
      "source": [
        "# areas_leitura = pd.DataFrame() "
      ],
      "metadata": {
        "id": "cTHnkC476KUN"
      },
      "execution_count": null,
      "outputs": []
    },
    {
      "cell_type": "markdown",
      "source": [
        "# data command apply "
      ],
      "metadata": {
        "id": "k3r4S1PkCK7L"
      }
    },
    {
      "cell_type": "markdown",
      "source": [
        "- necessario para realizar a conversão e formatação de algum valor que esteja em uma formatação incoerente ao Pandas. "
      ],
      "metadata": {
        "id": "R1_H9YKWCnez"
      }
    },
    {
      "cell_type": "code",
      "source": [
        "# exemplo: modificar strings = type = object\n",
        "\n",
        "# df_name['column_name'] = df_name['column_name'].apply(lambda x: str(x).replace(\",\", \".\"))\n",
        "\n",
        "# exemplo: converter de type = object to type = float \n",
        "\n",
        "# df_name['column_name'] = df_name['column_name'].astype('float64') ## para que seja dado o inplace = true \n",
        "\n",
        "## realizar ações para calcular, por exemplo a média: \n",
        "\n",
        "# df_name['column_name'].mean()\n",
        "\n",
        "## ou plotar \n",
        "# df_name['column_name'].plot()\n",
        "\n",
        "\n",
        "################ CRiar DATAFRAMES \n",
        "\n",
        "#new_data_ppi = pd.DataFrame({'col00':[0,1,2],'col01':[0,1,2],'col02':[0,1,2]}, index=['row_00', 'row_01', 'row_02'])\n",
        "\n",
        "# SERIES \n",
        "\n",
        "# variable = pd.Series(['0', '1', '2', '3'], index=['00', '01', '02', '03'], name='series_name')"
      ],
      "metadata": {
        "id": "CJSJPqA0CVVo"
      },
      "execution_count": null,
      "outputs": []
    },
    {
      "cell_type": "markdown",
      "source": [
        " - modificando o tamanho de leitura do pandas, que por padrão virá: 50 caracteres "
      ],
      "metadata": {
        "id": "V7ds-DJKIUtu"
      }
    },
    {
      "cell_type": "code",
      "source": [
        "# pd.get_option('max_colwidht') # mostra o tamanho máximo das colunas \n",
        "# df_name['column_name'].str.len().max() # mostra o tamenho máximo do conjunto de caractérias apresentado nessa column \n",
        "# pd.set_option('max_colwidth', 100) # atribui um valor desejado para o conjunto de caractéres apresentado, porém pode-se usar o < None > caso queira deixar ilimitado. \n",
        "\n",
        "## o mesmo serve para exibir todas as linhas ou colunas \n",
        "\n",
        "# pd.get_option('max_columns')\n",
        "# pd.set_option('max_columns' 100)"
      ],
      "metadata": {
        "id": "yTbSTy1ZDqJ5"
      },
      "execution_count": null,
      "outputs": []
    },
    {
      "cell_type": "markdown",
      "source": [
        "# links úteis\n",
        "\n",
        "- documentação pandas: \n",
        " - https://pandas.pydata.org/\n",
        "\n",
        "- Geopandas \n",
        "  - https://geopandas.org/en/stable/  \n",
        "\n",
        "- OpenStreetMap\n",
        "  - https://www.openstreetmap.org/ \n",
        "\n",
        "- settings pandas: \n",
        " - https://pandas.pydata.org/pandas-docs/stable/user_guide/options.html "
      ],
      "metadata": {
        "id": "XH8GvIN7HaW-"
      }
    },
    {
      "cell_type": "markdown",
      "source": [
        "# Padronização dos dados "
      ],
      "metadata": {
        "id": "qYzjc2eZt_w7"
      }
    },
    {
      "cell_type": "markdown",
      "source": [
        "- Para um grande conjunto de dados, quando necessário a padronização. "
      ],
      "metadata": {
        "id": "pgU0DrxkvxYi"
      }
    },
    {
      "cell_type": "code",
      "source": [
        "# !pip install unidecode"
      ],
      "metadata": {
        "id": "hmnQLnt0vfUS"
      },
      "execution_count": null,
      "outputs": []
    },
    {
      "cell_type": "code",
      "source": [
        "# import geopandas as gpd \n",
        "# import unidecode \n",
        "# import os "
      ],
      "metadata": {
        "id": "bcwMy379uEer"
      },
      "execution_count": null,
      "outputs": []
    },
    {
      "cell_type": "code",
      "source": [
        "# for file_directory, files in os.walk('file_name'): #entrada dos arquivos \n",
        "#   for i_file in files:\n",
        "#     geo_data_frame = unidecode.unidecode(i_file.lower().replace(' ', '_')) # tratando os nomes dos aquivos, letras minusculas e espaçoes vazios, e unificando os codigos em caso de acentos \n",
        "#     origin_file_name = gpd.read_file(f'file_name/{i_file}') # ler o aquivo original \n",
        "#     # tratando os sistemas de coordenadas \n",
        "#     print(geo_data_frame)\n",
        "#     # formato padronizado de para o padrao brasileiro \n",
        "#     if origin_file_name.crs != 5880:\n",
        "#       geo_data_frame = origin_file_name('epsg:5880')\n",
        "#       origin_file_name(f'./caminho_a_ser_salvo/{geo_data_frame}', driver='formato_arquivo') # caminho a ser salvo a nova versão padronizada / talves seja necessário: < driver='GPKG')\n",
        "#     else: \n",
        "#       origin_file_name(f'./caminho_a_ser_salvo/{geo_data_frame}', driver='formato_arquivo') # caso seja de padrao desconhecido salva mesmo assim\n",
        "#     print(origin_file_name.crs)\n",
        "\n",
        "    "
      ],
      "metadata": {
        "id": "e58UwmFRuaZr"
      },
      "execution_count": null,
      "outputs": []
    }
  ]
}