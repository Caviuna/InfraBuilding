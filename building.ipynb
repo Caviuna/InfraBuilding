{
  "nbformat": 4,
  "nbformat_minor": 0,
  "metadata": {
    "colab": {
      "name": "building.ipynb",
      "provenance": [],
      "authorship_tag": "ABX9TyNgwkqK6y4b8l4v+kYNIXc+"
    },
    "kernelspec": {
      "name": "python3",
      "display_name": "Python 3"
    },
    "language_info": {
      "name": "python"
    }
  },
  "cells": [
    {
      "cell_type": "code",
      "execution_count": null,
      "metadata": {
        "id": "Oi4yy02vOc-B"
      },
      "outputs": [],
      "source": [
        "!pip install geopandas"
      ]
    },
    {
      "cell_type": "code",
      "source": [
        "import geopandas as gdf"
      ],
      "metadata": {
        "id": "3JlQpCsBWvee"
      },
      "execution_count": 5,
      "outputs": []
    },
    {
      "cell_type": "code",
      "source": [
        "mapaBrasil = gdf.read_file('/content/brazil_states/BRUFE250GC_SIR.shp')"
      ],
      "metadata": {
        "id": "QHJ21PWvXCf1"
      },
      "execution_count": 11,
      "outputs": []
    },
    {
      "cell_type": "code",
      "source": [
        "mapaBrasil.plot(figsize=(20, 20))"
      ],
      "metadata": {
        "id": "9b8qHlrpZQ4V"
      },
      "execution_count": null,
      "outputs": []
    }
  ]
}