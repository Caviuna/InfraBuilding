{
  "nbformat": 4,
  "nbformat_minor": 0,
  "metadata": {
    "colab": {
      "name": "explore_address.ipynb",
      "provenance": [],
      "authorship_tag": "ABX9TyPMl4znW3ZlB5i3U4sq5bjP"
    },
    "kernelspec": {
      "name": "python3",
      "display_name": "Python 3"
    },
    "language_info": {
      "name": "python"
    }
  },
  "cells": [
    {
      "cell_type": "markdown",
      "source": [
        "# Clearing address from dataframe origin - Tratando base de dados dos endereços do dataframe original. "
      ],
      "metadata": {
        "id": "erIUv5xGEaeX"
      }
    },
    {
      "cell_type": "code",
      "source": [
        "!pip install geopandas"
      ],
      "metadata": {
        "id": "jQ6tC91wIv7J"
      },
      "execution_count": null,
      "outputs": []
    },
    {
      "cell_type": "code",
      "source": [
        "!pip install shapely"
      ],
      "metadata": {
        "id": "qm77pVuX6llo"
      },
      "execution_count": null,
      "outputs": []
    },
    {
      "cell_type": "code",
      "source": [
        "import matplotlib \n",
        "import pandas as pd\n",
        "import geopandas as gpd"
      ],
      "metadata": {
        "id": "6id4vOYdEMfA"
      },
      "execution_count": 3,
      "outputs": []
    },
    {
      "cell_type": "code",
      "source": [
        "from shapely.geometry import Point, Polygon  "
      ],
      "metadata": {
        "id": "gftQ2VBZ6rV4"
      },
      "execution_count": 4,
      "outputs": []
    },
    {
      "cell_type": "code",
      "source": [
        "from geopandas import geoseries "
      ],
      "metadata": {
        "id": "yomF-GQMN_7v"
      },
      "execution_count": 5,
      "outputs": []
    },
    {
      "cell_type": "markdown",
      "source": [
        "- csv file generated from building.ipynb notebook. -- Arquivo csv gerado a partir do notebook building.ipynb. "
      ],
      "metadata": {
        "id": "Qsb0msbEFgUM"
      }
    },
    {
      "cell_type": "code",
      "execution_count": null,
      "metadata": {
        "id": "Bn8kbe8TD64L"
      },
      "outputs": [],
      "source": [
        "ppi_address_ajust = '/content/address_ppi.csv'\n",
        "ppi_address_ajust = pd.read_csv(ppi_address_ajust, encoding='ISO-8859-1')\n",
        "ppi_address_ajust.head()"
      ]
    },
    {
      "cell_type": "code",
      "source": [
        "ppi_address_ajust.rename(columns= {'Unnamed: 0': 'Rows_place'}, inplace=True )"
      ],
      "metadata": {
        "id": "sM3MwtwOew_v"
      },
      "execution_count": 7,
      "outputs": []
    },
    {
      "cell_type": "code",
      "source": [
        "ppi_address_ajust"
      ],
      "metadata": {
        "id": "42XrZeMMIS85"
      },
      "execution_count": null,
      "outputs": []
    },
    {
      "cell_type": "code",
      "source": [
        "ppi_address_ajust.dtypes"
      ],
      "metadata": {
        "id": "g3gBNDAldQ4X"
      },
      "execution_count": null,
      "outputs": []
    },
    {
      "cell_type": "code",
      "source": [
        "ppi_address_ajust.values"
      ],
      "metadata": {
        "id": "vlwq8234dcgv"
      },
      "execution_count": null,
      "outputs": []
    },
    {
      "cell_type": "code",
      "source": [
        "ppi_address_ajust['ppi_ajust_cols'] = ppi_address_ajust['Empreendimento'] + ' ' + ppi_address_ajust['UF']"
      ],
      "metadata": {
        "id": "HBm26RmfMYuz"
      },
      "execution_count": 55,
      "outputs": []
    },
    {
      "cell_type": "code",
      "source": [
        "ppi_address_ajust"
      ],
      "metadata": {
        "id": "oTsVIvp8M8Oz"
      },
      "execution_count": null,
      "outputs": []
    },
    {
      "cell_type": "code",
      "source": [
        "pd.set_option('max_rows', 200)\n",
        "pd.set_option('max_columns', 100)"
      ],
      "metadata": {
        "id": "Qjm-9QD_MkTy"
      },
      "execution_count": null,
      "outputs": []
    },
    {
      "cell_type": "markdown",
      "source": [
        "- 'brazil_states' "
      ],
      "metadata": {
        "id": "yEm1Ol2UTk5g"
      }
    },
    {
      "cell_type": "markdown",
      "source": [
        "# Tools Geocode, for point location \n",
        " - return GeometryCollection empty"
      ],
      "metadata": {
        "id": "yEqR-Bi13-ua"
      }
    },
    {
      "cell_type": "code",
      "source": [
        "gpd.tools.geocode(ppi_address_ajust['Empreendimento'], provider = 'nominatim', user_agent='UF Builds', country_bias = 'Brazil')"
      ],
      "metadata": {
        "id": "fMnNiJHFSDDJ"
      },
      "execution_count": null,
      "outputs": []
    },
    {
      "cell_type": "code",
      "source": [
        "ppi_address_ajust['Geom'] = gpd.tools.geocode(ppi_address_ajust['Empreendimento'], provider = 'nominatim', user_agent='UF Builds', country_bias = 'brazil_states')['geometry']"
      ],
      "metadata": {
        "id": "wUzD2NPlJ0Ag"
      },
      "execution_count": null,
      "outputs": []
    },
    {
      "cell_type": "code",
      "source": [
        "ppi_address_ajust"
      ],
      "metadata": {
        "id": "rk51MiOXJePY"
      },
      "execution_count": null,
      "outputs": []
    },
    {
      "cell_type": "code",
      "source": [
        "ppi_address_ajust.loc[ppi_address_ajust['Geom'] == 'GEOMETRYCOLLECTION EMPTY', 'Geom'].head()"
      ],
      "metadata": {
        "id": "A3qX9kWbI83x"
      },
      "execution_count": null,
      "outputs": []
    },
    {
      "cell_type": "code",
      "source": [
        "ppi_address_ajust.drop_duplicates() # if have, < inplace = True > "
      ],
      "metadata": {
        "id": "NiQ_hNueZNzd"
      },
      "execution_count": null,
      "outputs": []
    },
    {
      "cell_type": "markdown",
      "source": [
        "# Geocoders implementation for locations acess - implementação de acesso das localizações usando o Geocoders \n",
        "- return None"
      ],
      "metadata": {
        "id": "QU4w-AV03Lxo"
      }
    },
    {
      "cell_type": "code",
      "source": [
        "import geopy.geocoders"
      ],
      "metadata": {
        "id": "OL1mj6sq1DQL"
      },
      "execution_count": 25,
      "outputs": []
    },
    {
      "cell_type": "code",
      "source": [
        "from geopy.geocoders import Nominatim"
      ],
      "metadata": {
        "id": "JBX02nX_eZuw"
      },
      "execution_count": 26,
      "outputs": []
    },
    {
      "cell_type": "code",
      "source": [
        "geopy.geocoders.options.default_user_agent = 'my_app/1'"
      ],
      "metadata": {
        "id": "O0SlsRuz1A2T"
      },
      "execution_count": 33,
      "outputs": []
    },
    {
      "cell_type": "code",
      "source": [
        "geopy.geocoders.options.default_timeout = 7"
      ],
      "metadata": {
        "id": "ih455ckT1aJi"
      },
      "execution_count": 34,
      "outputs": []
    },
    {
      "cell_type": "code",
      "source": [
        "geolocator = Nominatim()"
      ],
      "metadata": {
        "id": "coWBhjli1iTz"
      },
      "execution_count": 35,
      "outputs": []
    },
    {
      "cell_type": "code",
      "source": [
        "print(geolocator.headers)"
      ],
      "metadata": {
        "colab": {
          "base_uri": "https://localhost:8080/"
        },
        "id": "HQhYtO_p1qYr",
        "outputId": "f29ad72e-0620-42f7-8817-a22311ec416d"
      },
      "execution_count": 36,
      "outputs": [
        {
          "output_type": "stream",
          "name": "stdout",
          "text": [
            "{'User-Agent': 'my_app/1'}\n"
          ]
        }
      ]
    },
    {
      "cell_type": "code",
      "source": [
        "print(geolocator.timeout)"
      ],
      "metadata": {
        "colab": {
          "base_uri": "https://localhost:8080/"
        },
        "id": "t01WRkFp1w_S",
        "outputId": "260b6c32-ec98-4547-91d2-7b11839b9a0b"
      },
      "execution_count": 37,
      "outputs": [
        {
          "output_type": "stream",
          "name": "stdout",
          "text": [
            "7\n"
          ]
        }
      ]
    },
    {
      "cell_type": "code",
      "source": [
        "# locator = Nominatim(user_agent='myGeocoder')\n",
        "location = geolocator.geocode('Aeroporto de Salvador/ BA')"
      ],
      "metadata": {
        "id": "dNvPU_WAeSuQ"
      },
      "execution_count": 38,
      "outputs": []
    },
    {
      "cell_type": "code",
      "source": [
        "print(location)"
      ],
      "metadata": {
        "colab": {
          "base_uri": "https://localhost:8080/"
        },
        "id": "4P40AALJ27wT",
        "outputId": "2f702c84-d2d0-483f-8679-dc1417ee0ddb"
      },
      "execution_count": 39,
      "outputs": [
        {
          "output_type": "stream",
          "name": "stdout",
          "text": [
            "Aeroporto, Travessa Santos Dumont, Lauro de Freitas, Região Geográfica Imediata de Salvador, Região Metropolitana de Salvador, Região Geográfica Intermediária de Salvador, Bahia, Região Nordeste, 42700000, Brasil\n"
          ]
        }
      ]
    },
    {
      "cell_type": "code",
      "source": [
        "print(location.point)"
      ],
      "metadata": {
        "colab": {
          "base_uri": "https://localhost:8080/"
        },
        "id": "OgMi6d5c4Ocq",
        "outputId": "fce3baaa-17c5-44fb-eb6a-3d4a7b49c698"
      },
      "execution_count": 23,
      "outputs": [
        {
          "output_type": "stream",
          "name": "stdout",
          "text": [
            "12 54m 15.1844s S, 38 20m 27.9298s W\n"
          ]
        }
      ]
    },
    {
      "cell_type": "code",
      "source": [
        "location.point"
      ],
      "metadata": {
        "colab": {
          "base_uri": "https://localhost:8080/"
        },
        "id": "NxkjMcMr4bhy",
        "outputId": "d7a63480-67ae-4b84-ef75-3a48fe8bb89d"
      },
      "execution_count": 24,
      "outputs": [
        {
          "output_type": "execute_result",
          "data": {
            "text/plain": [
              "Point(-12.904217899999999, -38.341091608139536, 0.0)"
            ]
          },
          "metadata": {},
          "execution_count": 24
        }
      ]
    },
    {
      "cell_type": "code",
      "source": [
        "from geopy.extra.rate_limiter import RateLimiter"
      ],
      "metadata": {
        "id": "E_TGe5dNd0Mp"
      },
      "execution_count": 41,
      "outputs": []
    },
    {
      "cell_type": "code",
      "source": [
        "geocode = RateLimiter(geolocator.geocode, min_delay_seconds=1)"
      ],
      "metadata": {
        "id": "5WekEtrtCDTX"
      },
      "execution_count": 42,
      "outputs": []
    },
    {
      "cell_type": "code",
      "source": [
        "ppi_address_ajust['ppi_geocode'] = ppi_address_ajust['Empreendimento'].apply(geocode)"
      ],
      "metadata": {
        "id": "FDSJg_qe9b5h"
      },
      "execution_count": 43,
      "outputs": []
    },
    {
      "cell_type": "code",
      "source": [
        "ppi_address_ajust"
      ],
      "metadata": {
        "id": "Mx8C34LWJ92f"
      },
      "execution_count": null,
      "outputs": []
    },
    {
      "cell_type": "code",
      "source": [
        "ppi_address_ajust['point'] = ppi_address_ajust['ppi_geocode'].apply(lambda loc: tuple(loc.point) if loc else None)"
      ],
      "metadata": {
        "id": "jSzpmx5Fd9ep"
      },
      "execution_count": 46,
      "outputs": []
    },
    {
      "cell_type": "code",
      "source": [
        "ppi_address_ajust"
      ],
      "metadata": {
        "id": "EfUSzYmThnCn"
      },
      "execution_count": null,
      "outputs": []
    },
    {
      "cell_type": "code",
      "source": [
        "ppi_address_ajust.isnull"
      ],
      "metadata": {
        "id": "D6z9-Gf3LeKU"
      },
      "execution_count": null,
      "outputs": []
    },
    {
      "cell_type": "markdown",
      "source": [
        "- To remember codes: "
      ],
      "metadata": {
        "id": "_S5t37sZJD2u"
      }
    },
    {
      "cell_type": "code",
      "source": [
        "# ppi_address_ajust.index.values\n",
        "# ppi_address_ajust.Geom.values\n",
        "# type(ppi_address_ajust.Geom.values)"
      ],
      "metadata": {
        "id": "MSr_WvN1JQyh"
      },
      "execution_count": null,
      "outputs": []
    },
    {
      "cell_type": "markdown",
      "source": [
        ""
      ],
      "metadata": {
        "id": "uv3GDIWGknen"
      }
    },
    {
      "cell_type": "code",
      "source": [
        ""
      ],
      "metadata": {
        "id": "8Rd97LI9kmp3"
      },
      "execution_count": null,
      "outputs": []
    }
  ]
}