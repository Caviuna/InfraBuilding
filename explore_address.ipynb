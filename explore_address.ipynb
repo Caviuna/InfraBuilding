{
  "nbformat": 4,
  "nbformat_minor": 0,
  "metadata": {
    "colab": {
      "name": "explore_address.ipynb",
      "provenance": [],
      "authorship_tag": "ABX9TyPTD/N4xDIkoQiIautBIBjp"
    },
    "kernelspec": {
      "name": "python3",
      "display_name": "Python 3"
    },
    "language_info": {
      "name": "python"
    }
  },
  "cells": [
    {
      "cell_type": "markdown",
      "source": [
        "# Research project for the understanding of actions in urban infrastructure and mapping of flood areas and landslides on slopes with the use of AI. \n",
        " - Projeto pesquisa  para o entendimento das ações em infraestrutura urbana e mapeamentos de áreas de enchente e deslizamentos de enconstas com o uso de IA. "
      ],
      "metadata": {
        "id": "QpKmSwaLvaga"
      }
    },
    {
      "cell_type": "markdown",
      "source": [
        "# Clearing address from dataframe origin - Tratando base de dados dos endereços do dataframe original. "
      ],
      "metadata": {
        "id": "erIUv5xGEaeX"
      }
    },
    {
      "cell_type": "code",
      "source": [
        "!pip install geopandas  "
      ],
      "metadata": {
        "id": "jQ6tC91wIv7J"
      },
      "execution_count": null,
      "outputs": []
    },
    {
      "cell_type": "code",
      "source": [
        "!pip install shapely"
      ],
      "metadata": {
        "id": "qm77pVuX6llo",
        "colab": {
          "base_uri": "https://localhost:8080/"
        },
        "outputId": "988dab74-5628-4aff-8540-17a828c2ddc3"
      },
      "execution_count": null,
      "outputs": [
        {
          "output_type": "stream",
          "name": "stdout",
          "text": [
            "Requirement already satisfied: shapely in /usr/local/lib/python3.7/dist-packages (1.8.1.post1)\n"
          ]
        }
      ]
    },
    {
      "cell_type": "code",
      "source": [
        "import matplotlib \n",
        "import pandas as pd\n",
        "import geopandas as gpd"
      ],
      "metadata": {
        "id": "6id4vOYdEMfA"
      },
      "execution_count": null,
      "outputs": []
    },
    {
      "cell_type": "code",
      "source": [
        "from shapely.geometry import Point, Polygon  "
      ],
      "metadata": {
        "id": "gftQ2VBZ6rV4"
      },
      "execution_count": null,
      "outputs": []
    },
    {
      "cell_type": "code",
      "source": [
        "from geopandas import geoseries "
      ],
      "metadata": {
        "id": "yomF-GQMN_7v"
      },
      "execution_count": null,
      "outputs": []
    },
    {
      "cell_type": "markdown",
      "source": [
        "- csv file generated from building.ipynb notebook. -- Arquivo csv gerado a partir do notebook building.ipynb. "
      ],
      "metadata": {
        "id": "Qsb0msbEFgUM"
      }
    },
    {
      "cell_type": "code",
      "execution_count": null,
      "metadata": {
        "id": "Bn8kbe8TD64L"
      },
      "outputs": [],
      "source": [
        "ppi_address_ajust = '/content/address_ppi.csv'\n",
        "ppi_address_ajust = pd.read_csv(ppi_address_ajust, encoding='ISO-8859-1')\n",
        "ppi_address_ajust.head()"
      ]
    },
    {
      "cell_type": "code",
      "source": [
        "ppi_address_ajust.drop('Unnamed: 0', axis = 1)"
      ],
      "metadata": {
        "id": "sM3MwtwOew_v"
      },
      "execution_count": null,
      "outputs": []
    },
    {
      "cell_type": "code",
      "source": [
        "ppi_address_ajust.dtypes"
      ],
      "metadata": {
        "id": "g3gBNDAldQ4X"
      },
      "execution_count": null,
      "outputs": []
    },
    {
      "cell_type": "code",
      "source": [
        "ppi_address_ajust.values"
      ],
      "metadata": {
        "id": "vlwq8234dcgv"
      },
      "execution_count": null,
      "outputs": []
    },
    {
      "cell_type": "code",
      "source": [
        "ppi_address_ajust['ppi_ajust_cols'] = ppi_address_ajust['Empreendimento'] + '/' + ppi_address_ajust['UF']"
      ],
      "metadata": {
        "id": "HBm26RmfMYuz"
      },
      "execution_count": null,
      "outputs": []
    },
    {
      "cell_type": "code",
      "source": [
        "ppi_address_ajust"
      ],
      "metadata": {
        "id": "oTsVIvp8M8Oz"
      },
      "execution_count": null,
      "outputs": []
    },
    {
      "cell_type": "code",
      "source": [
        "pd.set_option('max_rows', 200)\n",
        "pd.set_option('max_columns', 100)"
      ],
      "metadata": {
        "id": "Qjm-9QD_MkTy"
      },
      "execution_count": null,
      "outputs": []
    },
    {
      "cell_type": "markdown",
      "source": [
        "- 'brazil_states' "
      ],
      "metadata": {
        "id": "yEm1Ol2UTk5g"
      }
    },
    {
      "cell_type": "markdown",
      "source": [
        "# Tools Geocode, for point location \n",
        " - return GeometryCollection empty"
      ],
      "metadata": {
        "id": "yEqR-Bi13-ua"
      }
    },
    {
      "cell_type": "code",
      "source": [
        "# gpd.tools.geocode(ppi_address_ajust['Empreendimento'], provider = 'nominatim', user_agent='UF Builds', country_bias = 'Brazil')"
      ],
      "metadata": {
        "id": "fMnNiJHFSDDJ"
      },
      "execution_count": null,
      "outputs": []
    },
    {
      "cell_type": "code",
      "source": [
        "# ppi_address_ajust['Geom'] = gpd.tools.geocode(ppi_address_ajust['Empreendimento'], provider = 'nominatim', user_agent='UF Builds', country_bias = 'brazil_states')['geometry']"
      ],
      "metadata": {
        "id": "wUzD2NPlJ0Ag"
      },
      "execution_count": null,
      "outputs": []
    },
    {
      "cell_type": "code",
      "source": [
        "# ppi_address_ajust"
      ],
      "metadata": {
        "id": "rk51MiOXJePY"
      },
      "execution_count": null,
      "outputs": []
    },
    {
      "cell_type": "code",
      "source": [
        "# ppi_address_ajust.loc[ppi_address_ajust['Geom'] == 'GEOMETRYCOLLECTION EMPTY', 'Geom'].head()"
      ],
      "metadata": {
        "id": "A3qX9kWbI83x"
      },
      "execution_count": null,
      "outputs": []
    },
    {
      "cell_type": "code",
      "source": [
        "# ppi_address_ajust.drop_duplicates() # if have, < inplace = True > "
      ],
      "metadata": {
        "id": "NiQ_hNueZNzd"
      },
      "execution_count": null,
      "outputs": []
    },
    {
      "cell_type": "markdown",
      "source": [
        "# Geocoders implementation for locations acess - implementação de acesso das localizações usando o Geocoders \n",
        "- return None"
      ],
      "metadata": {
        "id": "QU4w-AV03Lxo"
      }
    },
    {
      "cell_type": "code",
      "source": [
        "import geopy.geocoders"
      ],
      "metadata": {
        "id": "OL1mj6sq1DQL"
      },
      "execution_count": null,
      "outputs": []
    },
    {
      "cell_type": "code",
      "source": [
        "from geopy.geocoders import Nominatim"
      ],
      "metadata": {
        "id": "JBX02nX_eZuw"
      },
      "execution_count": null,
      "outputs": []
    },
    {
      "cell_type": "code",
      "source": [
        "geopy.geocoders.options.default_user_agent = 'my_app/1'"
      ],
      "metadata": {
        "id": "O0SlsRuz1A2T"
      },
      "execution_count": null,
      "outputs": []
    },
    {
      "cell_type": "code",
      "source": [
        "geopy.geocoders.options.default_timeout = 7"
      ],
      "metadata": {
        "id": "ih455ckT1aJi"
      },
      "execution_count": null,
      "outputs": []
    },
    {
      "cell_type": "code",
      "source": [
        "geolocator = Nominatim()"
      ],
      "metadata": {
        "id": "coWBhjli1iTz"
      },
      "execution_count": null,
      "outputs": []
    },
    {
      "cell_type": "code",
      "source": [
        "print(geolocator.headers)"
      ],
      "metadata": {
        "colab": {
          "base_uri": "https://localhost:8080/"
        },
        "id": "HQhYtO_p1qYr",
        "outputId": "0d58a102-9660-460b-8eab-ab9995fb88b2"
      },
      "execution_count": null,
      "outputs": [
        {
          "output_type": "stream",
          "name": "stdout",
          "text": [
            "{'User-Agent': 'my_app/1'}\n"
          ]
        }
      ]
    },
    {
      "cell_type": "code",
      "source": [
        "print(geolocator.timeout)"
      ],
      "metadata": {
        "colab": {
          "base_uri": "https://localhost:8080/"
        },
        "id": "t01WRkFp1w_S",
        "outputId": "4bfbf818-45e0-41d3-bcd6-54491459620f"
      },
      "execution_count": null,
      "outputs": [
        {
          "output_type": "stream",
          "name": "stdout",
          "text": [
            "7\n"
          ]
        }
      ]
    },
    {
      "cell_type": "markdown",
      "source": [
        "- Test aplication "
      ],
      "metadata": {
        "id": "m1_N0zk078zP"
      }
    },
    {
      "cell_type": "code",
      "source": [
        "# locator = Nominatim(user_agent='myGeocoder')\n",
        "location = geolocator.geocode('Aeroporto de Salvador/ BA')"
      ],
      "metadata": {
        "id": "dNvPU_WAeSuQ"
      },
      "execution_count": null,
      "outputs": []
    },
    {
      "cell_type": "code",
      "source": [
        "print(location)"
      ],
      "metadata": {
        "id": "4P40AALJ27wT",
        "colab": {
          "base_uri": "https://localhost:8080/"
        },
        "outputId": "66ca83bb-269b-4a7c-958c-3f8ac2f3b2cf"
      },
      "execution_count": null,
      "outputs": [
        {
          "output_type": "stream",
          "name": "stdout",
          "text": [
            "Aeroporto, Travessa Santos Dumont, Lauro de Freitas, Região Geográfica Imediata de Salvador, Região Metropolitana de Salvador, Região Geográfica Intermediária de Salvador, Bahia, Região Nordeste, 42700000, Brasil\n"
          ]
        }
      ]
    },
    {
      "cell_type": "code",
      "source": [
        "print(location.point)"
      ],
      "metadata": {
        "id": "OgMi6d5c4Ocq",
        "colab": {
          "base_uri": "https://localhost:8080/"
        },
        "outputId": "c40b31f0-1d9b-4125-a720-a0d95a26ce2e"
      },
      "execution_count": null,
      "outputs": [
        {
          "output_type": "stream",
          "name": "stdout",
          "text": [
            "12 54m 15.1844s S, 38 20m 27.9298s W\n"
          ]
        }
      ]
    },
    {
      "cell_type": "code",
      "source": [
        "location.point"
      ],
      "metadata": {
        "id": "NxkjMcMr4bhy",
        "colab": {
          "base_uri": "https://localhost:8080/"
        },
        "outputId": "1e570fe7-5182-4c80-8d03-01c6c5d4fec9"
      },
      "execution_count": null,
      "outputs": [
        {
          "output_type": "execute_result",
          "data": {
            "text/plain": [
              "Point(-12.904217899999999, -38.341091608139536, 0.0)"
            ]
          },
          "metadata": {},
          "execution_count": 28
        }
      ]
    },
    {
      "cell_type": "code",
      "source": [
        "from geopy.extra.rate_limiter import RateLimiter"
      ],
      "metadata": {
        "id": "E_TGe5dNd0Mp"
      },
      "execution_count": null,
      "outputs": []
    },
    {
      "cell_type": "markdown",
      "source": [
        "- Search all address from dataframe"
      ],
      "metadata": {
        "id": "n8MIisDo7peQ"
      }
    },
    {
      "cell_type": "code",
      "source": [
        "geocode = RateLimiter(geolocator.geocode, min_delay_seconds=1)"
      ],
      "metadata": {
        "id": "5WekEtrtCDTX"
      },
      "execution_count": null,
      "outputs": []
    },
    {
      "cell_type": "code",
      "source": [
        "ppi_address_ajust['ppi_geocode'] = ppi_address_ajust['Empreendimento'].apply(geocode)"
      ],
      "metadata": {
        "id": "FDSJg_qe9b5h"
      },
      "execution_count": null,
      "outputs": []
    },
    {
      "cell_type": "code",
      "source": [
        "ppi_address_ajust"
      ],
      "metadata": {
        "id": "Mx8C34LWJ92f"
      },
      "execution_count": null,
      "outputs": []
    },
    {
      "cell_type": "markdown",
      "source": [
        "- plot points of address "
      ],
      "metadata": {
        "id": "eKn-3p3k8B4v"
      }
    },
    {
      "cell_type": "code",
      "source": [
        "ppi_address_ajust['point'] = ppi_address_ajust['ppi_geocode'].apply(lambda loc: tuple(loc.point) if loc else None)"
      ],
      "metadata": {
        "id": "jSzpmx5Fd9ep"
      },
      "execution_count": null,
      "outputs": []
    },
    {
      "cell_type": "markdown",
      "source": [
        "- ajust None's"
      ],
      "metadata": {
        "id": "eWl6V10P8Kwv"
      }
    },
    {
      "cell_type": "code",
      "source": [
        "pd.set_option('max_rows', 200)\n",
        "pd.set_option('max_columns', 100)"
      ],
      "metadata": {
        "id": "WmXQhocF4cvw"
      },
      "execution_count": null,
      "outputs": []
    },
    {
      "cell_type": "code",
      "source": [
        "ppi_address_ajust"
      ],
      "metadata": {
        "id": "EfUSzYmThnCn"
      },
      "execution_count": null,
      "outputs": []
    },
    {
      "cell_type": "code",
      "source": [
        "ppi_address_ajust.isna()"
      ],
      "metadata": {
        "id": "D6z9-Gf3LeKU"
      },
      "execution_count": null,
      "outputs": []
    },
    {
      "cell_type": "markdown",
      "source": [
        "- New position from point values not null. "
      ],
      "metadata": {
        "id": "IaB4s4sUVzIg"
      }
    },
    {
      "cell_type": "code",
      "source": [
        "ppi_address_ajust.sort_values(by='point', ignore_index=True)"
      ],
      "metadata": {
        "id": "W-NhvyL0-PLY"
      },
      "execution_count": null,
      "outputs": []
    },
    {
      "cell_type": "code",
      "source": [
        "ppi_address_ajust.index"
      ],
      "metadata": {
        "colab": {
          "base_uri": "https://localhost:8080/"
        },
        "id": "yQTPk7o3UiDr",
        "outputId": "93549072-58b5-406d-82e1-5b5b3979d4a3"
      },
      "execution_count": null,
      "outputs": [
        {
          "output_type": "execute_result",
          "data": {
            "text/plain": [
              "RangeIndex(start=0, stop=191, step=1)"
            ]
          },
          "metadata": {},
          "execution_count": 38
        }
      ]
    },
    {
      "cell_type": "markdown",
      "source": [
        "# Trait DF "
      ],
      "metadata": {
        "id": "rgWyT83yT82N"
      }
    },
    {
      "cell_type": "code",
      "source": [
        "ppi_point = ppi_address_ajust"
      ],
      "metadata": {
        "id": "FDb0ZYpnQF4V"
      },
      "execution_count": null,
      "outputs": []
    },
    {
      "cell_type": "code",
      "source": [
        "ppi_point"
      ],
      "metadata": {
        "id": "hXtTsvEYQR7l"
      },
      "execution_count": null,
      "outputs": []
    },
    {
      "cell_type": "code",
      "source": [
        "ppi_point.sort_values(by='point', ignore_index=True)"
      ],
      "metadata": {
        "id": "lx_gdXEIQcod"
      },
      "execution_count": null,
      "outputs": []
    },
    {
      "cell_type": "code",
      "source": [
        "ppi_point = ppi_point.drop(['Unnamed: 0'], axis=1)"
      ],
      "metadata": {
        "id": "g7vRwbOZSuZW"
      },
      "execution_count": null,
      "outputs": []
    },
    {
      "cell_type": "code",
      "source": [
        "ppi_point_true = ppi_point.iloc[:30, :3]"
      ],
      "metadata": {
        "id": "UT-WlgngTQMd"
      },
      "execution_count": null,
      "outputs": []
    },
    {
      "cell_type": "code",
      "source": [
        "ppi_point_true"
      ],
      "metadata": {
        "id": "ChETfCChUNfk"
      },
      "execution_count": null,
      "outputs": []
    },
    {
      "cell_type": "code",
      "source": [
        "ppi_point_false = ppi_point.iloc[30:191, :3]"
      ],
      "metadata": {
        "id": "hpf_lqHUUWn9"
      },
      "execution_count": null,
      "outputs": []
    },
    {
      "cell_type": "code",
      "source": [
        "ppi_point_false"
      ],
      "metadata": {
        "id": "4fj5dTAMUzj8"
      },
      "execution_count": null,
      "outputs": []
    },
    {
      "cell_type": "code",
      "source": [
        "ppi_point_false.reset_index()"
      ],
      "metadata": {
        "id": "leMjfbOSWDyN"
      },
      "execution_count": null,
      "outputs": []
    },
    {
      "cell_type": "markdown",
      "source": [
        "# individual search by address \n",
        "- Observar o conjunto de caracteres e a forma que se adeque a busa pelo geocode \n",
        "\n",
        "  "
      ],
      "metadata": {
        "id": "oW84rH8DrwYE"
      }
    },
    {
      "cell_type": "code",
      "source": [
        "location_00 = geolocator.geocode('BR-116 - Presidente Dutra\t')"
      ],
      "metadata": {
        "id": "PreuJlxHVyWl"
      },
      "execution_count": null,
      "outputs": []
    },
    {
      "cell_type": "code",
      "source": [
        "print(location_00)"
      ],
      "metadata": {
        "id": "T52k1PN7V4Kt",
        "colab": {
          "base_uri": "https://localhost:8080/"
        },
        "outputId": "d5decad4-7209-4007-a088-8feea38114cb"
      },
      "execution_count": null,
      "outputs": [
        {
          "output_type": "stream",
          "name": "stdout",
          "text": [
            "Rodovia Presidente Dutra, Cumbica, Jardim Presidente Dutra, Guarulhos, Região Imediata de São Paulo, Região Metropolitana de São Paulo, Região Geográfica Intermediária de São Paulo, São Paulo, Região Sudeste, 07180041, Brasil\n"
          ]
        }
      ]
    },
    {
      "cell_type": "code",
      "source": [
        "# ppi_point = ppi_address_ajust.drop(['Unnamed: 0',\t'Empreendimento',\t'UF',\t'ppi_ajust_cols'], axis=1)"
      ],
      "metadata": {
        "id": "5tktKhjuPURF"
      },
      "execution_count": null,
      "outputs": []
    },
    {
      "cell_type": "markdown",
      "source": [
        "# Automate address lookup \n",
        "- Definir e selecionar uma forma de sanar os problemas que impedem a busca pela geoposição pelo Geocode por célula do dataframe para sanar as deficiências de preenchimento.\n",
        "\n",
        " - Softskill - string handlings"
      ],
      "metadata": {
        "id": "DSFM6NAIF8rG"
      }
    },
    {
      "cell_type": "code",
      "source": [
        "import re "
      ],
      "metadata": {
        "id": "pPSgDuFMTBaY"
      },
      "execution_count": null,
      "outputs": []
    },
    {
      "cell_type": "code",
      "source": [
        "ppi_address_search_00 = ppi_point_false.iloc[0:160, :1]"
      ],
      "metadata": {
        "id": "z6d0vPIKsAp0"
      },
      "execution_count": null,
      "outputs": []
    },
    {
      "cell_type": "markdown",
      "source": [
        "- For find  condition\n",
        ">>> \n",
        "- equivalent to applying < re.findall() > \n",
        " - Series.str.findall(pat. flags=0) \n",
        "\n"
      ],
      "metadata": {
        "id": "do2G2M-XUDO5"
      }
    },
    {
      "cell_type": "code",
      "source": [
        "ppi_address_search_00"
      ],
      "metadata": {
        "id": "GEjfstBO2B79"
      },
      "execution_count": null,
      "outputs": []
    },
    {
      "cell_type": "code",
      "source": [
        "len(ppi_address_search_00)"
      ],
      "metadata": {
        "colab": {
          "base_uri": "https://localhost:8080/"
        },
        "id": "A5ntNK4T_WgZ",
        "outputId": "83b6f7c5-744c-466d-cc2c-4f6bbf97c646"
      },
      "execution_count": null,
      "outputs": [
        {
          "output_type": "execute_result",
          "data": {
            "text/plain": [
              "160"
            ]
          },
          "metadata": {},
          "execution_count": 54
        }
      ]
    },
    {
      "cell_type": "code",
      "source": [
        "ppi_terminal = ppi_address_search_00[ppi_address_search_00['Empreendimento'].str.contains('Terminal')]"
      ],
      "metadata": {
        "id": "a8cnGfQW09Ah"
      },
      "execution_count": null,
      "outputs": []
    },
    {
      "cell_type": "code",
      "source": [
        "ppi_terminal"
      ],
      "metadata": {
        "id": "3jEtRP0h9Bs6"
      },
      "execution_count": null,
      "outputs": []
    },
    {
      "cell_type": "code",
      "source": [
        "len(ppi_terminal)"
      ],
      "metadata": {
        "colab": {
          "base_uri": "https://localhost:8080/"
        },
        "id": "X2Z3Kwc4_Ovy",
        "outputId": "d543f6f1-fb9d-4427-94e4-4634aa894b90"
      },
      "execution_count": null,
      "outputs": [
        {
          "output_type": "execute_result",
          "data": {
            "text/plain": [
              "29"
            ]
          },
          "metadata": {},
          "execution_count": 57
        }
      ]
    },
    {
      "cell_type": "code",
      "source": [
        "ppi_LT = ppi_address_search_00[ppi_address_search_00['Empreendimento'].str.contains('LT')]"
      ],
      "metadata": {
        "id": "2jD0-ggV-Xf6"
      },
      "execution_count": null,
      "outputs": []
    },
    {
      "cell_type": "code",
      "source": [
        "ppi_LT"
      ],
      "metadata": {
        "id": "63-S5uhK-eHa"
      },
      "execution_count": null,
      "outputs": []
    },
    {
      "cell_type": "code",
      "source": [
        "len(ppi_LT)"
      ],
      "metadata": {
        "colab": {
          "base_uri": "https://localhost:8080/"
        },
        "id": "2zeSFMn9_G6h",
        "outputId": "f7178fc3-049b-4633-ca25-9dbd2b93e4c5"
      },
      "execution_count": null,
      "outputs": [
        {
          "output_type": "execute_result",
          "data": {
            "text/plain": [
              "54"
            ]
          },
          "metadata": {},
          "execution_count": 60
        }
      ]
    },
    {
      "cell_type": "markdown",
      "source": [
        "- Comparar e identificar as culunas"
      ],
      "metadata": {
        "id": "3CPyCUPpgI7_"
      }
    },
    {
      "cell_type": "markdown",
      "source": [
        "# To remember codes: "
      ],
      "metadata": {
        "id": "_S5t37sZJD2u"
      }
    },
    {
      "cell_type": "code",
      "source": [
        "#show\n",
        "# ppi_address_ajust.index.values\n",
        "# ppi_address_ajust.Geom.values\n",
        "# type(ppi_address_ajust.Geom.values)\n",
        "\n",
        "# rename \n",
        "# ppi_address_ajust.rename(columns= {'Unnamed: 0': 'Rows_place'}, inplace=True )"
      ],
      "metadata": {
        "id": "MSr_WvN1JQyh"
      },
      "execution_count": null,
      "outputs": []
    },
    {
      "cell_type": "markdown",
      "source": [
        ""
      ],
      "metadata": {
        "id": "uv3GDIWGknen"
      }
    },
    {
      "cell_type": "code",
      "source": [
        ""
      ],
      "metadata": {
        "id": "8Rd97LI9kmp3"
      },
      "execution_count": null,
      "outputs": []
    }
  ]
}