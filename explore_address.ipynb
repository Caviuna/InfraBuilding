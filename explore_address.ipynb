{
  "nbformat": 4,
  "nbformat_minor": 0,
  "metadata": {
    "colab": {
      "name": "explore_address.ipynb",
      "provenance": [],
      "authorship_tag": "ABX9TyPDUEFvcjIH1xLR8hJGU6Nb"
    },
    "kernelspec": {
      "name": "python3",
      "display_name": "Python 3"
    },
    "language_info": {
      "name": "python"
    }
  },
  "cells": [
    {
      "cell_type": "markdown",
      "source": [
        "# Research project for the understanding of actions in urban infrastructure and mapping of flood areas and landslides on slopes with the use of AI. \n",
        " - Projeto pesquisa  para o entendimento das ações em infraestrutura urbana e mapeamentos de áreas de enchente e deslizamentos de enconstas com o uso de IA. "
      ],
      "metadata": {
        "id": "QpKmSwaLvaga"
      }
    },
    {
      "cell_type": "markdown",
      "source": [
        "# Clearing address from dataframe origin - Tratando base de dados dos endereços do dataframe original. "
      ],
      "metadata": {
        "id": "erIUv5xGEaeX"
      }
    },
    {
      "cell_type": "code",
      "source": [
        "!pip install geopandas  "
      ],
      "metadata": {
        "id": "jQ6tC91wIv7J"
      },
      "execution_count": null,
      "outputs": []
    },
    {
      "cell_type": "code",
      "source": [
        "!pip install shapely"
      ],
      "metadata": {
        "id": "qm77pVuX6llo",
        "colab": {
          "base_uri": "https://localhost:8080/"
        },
        "outputId": "4090a66d-36d4-41b4-b9c2-f2bc273766bb"
      },
      "execution_count": null,
      "outputs": [
        {
          "output_type": "stream",
          "name": "stdout",
          "text": [
            "Requirement already satisfied: shapely in /usr/local/lib/python3.7/dist-packages (1.8.1.post1)\n"
          ]
        }
      ]
    },
    {
      "cell_type": "code",
      "source": [
        "import matplotlib \n",
        "import pandas as pd\n",
        "import geopandas as gpd"
      ],
      "metadata": {
        "id": "6id4vOYdEMfA"
      },
      "execution_count": null,
      "outputs": []
    },
    {
      "cell_type": "code",
      "source": [
        "from shapely.geometry import Point, Polygon  "
      ],
      "metadata": {
        "id": "gftQ2VBZ6rV4"
      },
      "execution_count": null,
      "outputs": []
    },
    {
      "cell_type": "code",
      "source": [
        "from geopandas import geoseries "
      ],
      "metadata": {
        "id": "yomF-GQMN_7v"
      },
      "execution_count": null,
      "outputs": []
    },
    {
      "cell_type": "markdown",
      "source": [
        "- csv file generated from building.ipynb notebook. -- Arquivo csv gerado a partir do notebook building.ipynb. "
      ],
      "metadata": {
        "id": "Qsb0msbEFgUM"
      }
    },
    {
      "cell_type": "code",
      "execution_count": null,
      "metadata": {
        "id": "Bn8kbe8TD64L"
      },
      "outputs": [],
      "source": [
        "ppi_address_ajust = '/content/address_ppi.csv'\n",
        "ppi_address_ajust = pd.read_csv(ppi_address_ajust, encoding='ISO-8859-1')\n",
        "ppi_address_ajust.head()"
      ]
    },
    {
      "cell_type": "code",
      "source": [
        "ppi_address_ajust.drop('Unnamed: 0', axis = 1)"
      ],
      "metadata": {
        "id": "sM3MwtwOew_v"
      },
      "execution_count": null,
      "outputs": []
    },
    {
      "cell_type": "code",
      "source": [
        "ppi_address_ajust.dtypes"
      ],
      "metadata": {
        "id": "g3gBNDAldQ4X"
      },
      "execution_count": null,
      "outputs": []
    },
    {
      "cell_type": "code",
      "source": [
        "ppi_address_ajust.values"
      ],
      "metadata": {
        "id": "vlwq8234dcgv"
      },
      "execution_count": null,
      "outputs": []
    },
    {
      "cell_type": "code",
      "source": [
        "ppi_address_ajust['ppi_ajust_cols'] = ppi_address_ajust['Empreendimento'] + '/' + ppi_address_ajust['UF']"
      ],
      "metadata": {
        "id": "HBm26RmfMYuz"
      },
      "execution_count": null,
      "outputs": []
    },
    {
      "cell_type": "code",
      "source": [
        "ppi_address_ajust"
      ],
      "metadata": {
        "id": "oTsVIvp8M8Oz"
      },
      "execution_count": null,
      "outputs": []
    },
    {
      "cell_type": "code",
      "source": [
        "pd.set_option('max_rows', 200)\n",
        "pd.set_option('max_columns', 100)"
      ],
      "metadata": {
        "id": "Qjm-9QD_MkTy"
      },
      "execution_count": null,
      "outputs": []
    },
    {
      "cell_type": "markdown",
      "source": [
        "- 'brazil_states' "
      ],
      "metadata": {
        "id": "yEm1Ol2UTk5g"
      }
    },
    {
      "cell_type": "markdown",
      "source": [
        "# Tools Geocode, for point location \n",
        " - return GeometryCollection empty"
      ],
      "metadata": {
        "id": "yEqR-Bi13-ua"
      }
    },
    {
      "cell_type": "code",
      "source": [
        "# gpd.tools.geocode(ppi_address_ajust['Empreendimento'], provider = 'nominatim', user_agent='UF Builds', country_bias = 'Brazil')"
      ],
      "metadata": {
        "id": "fMnNiJHFSDDJ"
      },
      "execution_count": null,
      "outputs": []
    },
    {
      "cell_type": "code",
      "source": [
        "# ppi_address_ajust['Geom'] = gpd.tools.geocode(ppi_address_ajust['Empreendimento'], provider = 'nominatim', user_agent='UF Builds', country_bias = 'brazil_states')['geometry']"
      ],
      "metadata": {
        "id": "wUzD2NPlJ0Ag"
      },
      "execution_count": null,
      "outputs": []
    },
    {
      "cell_type": "code",
      "source": [
        "# ppi_address_ajust"
      ],
      "metadata": {
        "id": "rk51MiOXJePY"
      },
      "execution_count": null,
      "outputs": []
    },
    {
      "cell_type": "code",
      "source": [
        "# ppi_address_ajust.loc[ppi_address_ajust['Geom'] == 'GEOMETRYCOLLECTION EMPTY', 'Geom'].head()"
      ],
      "metadata": {
        "id": "A3qX9kWbI83x"
      },
      "execution_count": null,
      "outputs": []
    },
    {
      "cell_type": "code",
      "source": [
        "# ppi_address_ajust.drop_duplicates() # if have, < inplace = True > "
      ],
      "metadata": {
        "id": "NiQ_hNueZNzd"
      },
      "execution_count": null,
      "outputs": []
    },
    {
      "cell_type": "markdown",
      "source": [
        "# Geocoders implementation for locations acess - implementação de acesso das localizações usando o Geocoders \n",
        "- return None"
      ],
      "metadata": {
        "id": "QU4w-AV03Lxo"
      }
    },
    {
      "cell_type": "code",
      "source": [
        "import geopy.geocoders"
      ],
      "metadata": {
        "id": "OL1mj6sq1DQL"
      },
      "execution_count": null,
      "outputs": []
    },
    {
      "cell_type": "code",
      "source": [
        "from geopy.geocoders import Nominatim"
      ],
      "metadata": {
        "id": "JBX02nX_eZuw"
      },
      "execution_count": null,
      "outputs": []
    },
    {
      "cell_type": "code",
      "source": [
        "geopy.geocoders.options.default_user_agent = 'my_app/1'"
      ],
      "metadata": {
        "id": "O0SlsRuz1A2T"
      },
      "execution_count": null,
      "outputs": []
    },
    {
      "cell_type": "code",
      "source": [
        "geopy.geocoders.options.default_timeout = 7"
      ],
      "metadata": {
        "id": "ih455ckT1aJi"
      },
      "execution_count": null,
      "outputs": []
    },
    {
      "cell_type": "code",
      "source": [
        "geolocator = Nominatim()"
      ],
      "metadata": {
        "id": "coWBhjli1iTz"
      },
      "execution_count": null,
      "outputs": []
    },
    {
      "cell_type": "code",
      "source": [
        "print(geolocator.headers)"
      ],
      "metadata": {
        "colab": {
          "base_uri": "https://localhost:8080/"
        },
        "id": "HQhYtO_p1qYr",
        "outputId": "98bec547-5604-45c7-cbf5-aa9b5af052e3"
      },
      "execution_count": null,
      "outputs": [
        {
          "output_type": "stream",
          "name": "stdout",
          "text": [
            "{'User-Agent': 'my_app/1'}\n"
          ]
        }
      ]
    },
    {
      "cell_type": "code",
      "source": [
        "print(geolocator.timeout)"
      ],
      "metadata": {
        "colab": {
          "base_uri": "https://localhost:8080/"
        },
        "id": "t01WRkFp1w_S",
        "outputId": "e41332f4-2695-42d7-fafe-573605bb39b9"
      },
      "execution_count": null,
      "outputs": [
        {
          "output_type": "stream",
          "name": "stdout",
          "text": [
            "7\n"
          ]
        }
      ]
    },
    {
      "cell_type": "markdown",
      "source": [
        "- Test aplication "
      ],
      "metadata": {
        "id": "m1_N0zk078zP"
      }
    },
    {
      "cell_type": "code",
      "source": [
        "# locator = Nominatim(user_agent='myGeocoder')\n",
        "location = geolocator.geocode('Aeroporto de Salvador/ BA')"
      ],
      "metadata": {
        "id": "dNvPU_WAeSuQ"
      },
      "execution_count": null,
      "outputs": []
    },
    {
      "cell_type": "code",
      "source": [
        "print(location)"
      ],
      "metadata": {
        "id": "4P40AALJ27wT",
        "colab": {
          "base_uri": "https://localhost:8080/"
        },
        "outputId": "a277e4ab-1f5c-48ef-8bae-d4194b57918b"
      },
      "execution_count": null,
      "outputs": [
        {
          "output_type": "stream",
          "name": "stdout",
          "text": [
            "Aeroporto, Travessa Santos Dumont, Lauro de Freitas, Região Geográfica Imediata de Salvador, Região Metropolitana de Salvador, Região Geográfica Intermediária de Salvador, Bahia, Região Nordeste, 42700000, Brasil\n"
          ]
        }
      ]
    },
    {
      "cell_type": "code",
      "source": [
        "print(location.point)"
      ],
      "metadata": {
        "id": "OgMi6d5c4Ocq",
        "colab": {
          "base_uri": "https://localhost:8080/"
        },
        "outputId": "2eaa971f-f2de-47f7-a2a9-7cfad16e1f8e"
      },
      "execution_count": null,
      "outputs": [
        {
          "output_type": "stream",
          "name": "stdout",
          "text": [
            "12 54m 15.1844s S, 38 20m 27.9298s W\n"
          ]
        }
      ]
    },
    {
      "cell_type": "code",
      "source": [
        "location.point"
      ],
      "metadata": {
        "id": "NxkjMcMr4bhy",
        "colab": {
          "base_uri": "https://localhost:8080/"
        },
        "outputId": "013589b5-cd73-497f-9998-5b2c0911abba"
      },
      "execution_count": null,
      "outputs": [
        {
          "output_type": "execute_result",
          "data": {
            "text/plain": [
              "Point(-12.904217899999999, -38.341091608139536, 0.0)"
            ]
          },
          "metadata": {},
          "execution_count": 29
        }
      ]
    },
    {
      "cell_type": "code",
      "source": [
        "from geopy.extra.rate_limiter import RateLimiter"
      ],
      "metadata": {
        "id": "E_TGe5dNd0Mp"
      },
      "execution_count": null,
      "outputs": []
    },
    {
      "cell_type": "markdown",
      "source": [
        "- Search all address from dataframe"
      ],
      "metadata": {
        "id": "n8MIisDo7peQ"
      }
    },
    {
      "cell_type": "code",
      "source": [
        "geocode = RateLimiter(geolocator.geocode, min_delay_seconds=1)"
      ],
      "metadata": {
        "id": "5WekEtrtCDTX"
      },
      "execution_count": null,
      "outputs": []
    },
    {
      "cell_type": "code",
      "source": [
        "ppi_address_ajust['ppi_geocode'] = ppi_address_ajust['Empreendimento'].apply(geocode)"
      ],
      "metadata": {
        "id": "FDSJg_qe9b5h"
      },
      "execution_count": null,
      "outputs": []
    },
    {
      "cell_type": "code",
      "source": [
        "ppi_address_ajust"
      ],
      "metadata": {
        "id": "Mx8C34LWJ92f"
      },
      "execution_count": null,
      "outputs": []
    },
    {
      "cell_type": "markdown",
      "source": [
        "- plot points of address "
      ],
      "metadata": {
        "id": "eKn-3p3k8B4v"
      }
    },
    {
      "cell_type": "code",
      "source": [
        "ppi_address_ajust['point'] = ppi_address_ajust['ppi_geocode'].apply(lambda loc: tuple(loc.point) if loc else None)"
      ],
      "metadata": {
        "id": "jSzpmx5Fd9ep"
      },
      "execution_count": null,
      "outputs": []
    },
    {
      "cell_type": "markdown",
      "source": [
        "- ajust None's"
      ],
      "metadata": {
        "id": "eWl6V10P8Kwv"
      }
    },
    {
      "cell_type": "code",
      "source": [
        "pd.set_option('max_rows', 200)\n",
        "pd.set_option('max_columns', 100)"
      ],
      "metadata": {
        "id": "WmXQhocF4cvw"
      },
      "execution_count": null,
      "outputs": []
    },
    {
      "cell_type": "code",
      "source": [
        "ppi_address_ajust"
      ],
      "metadata": {
        "id": "EfUSzYmThnCn"
      },
      "execution_count": null,
      "outputs": []
    },
    {
      "cell_type": "code",
      "source": [
        "ppi_address_ajust.isna()"
      ],
      "metadata": {
        "id": "D6z9-Gf3LeKU"
      },
      "execution_count": null,
      "outputs": []
    },
    {
      "cell_type": "markdown",
      "source": [
        "- New position from point values not null. "
      ],
      "metadata": {
        "id": "IaB4s4sUVzIg"
      }
    },
    {
      "cell_type": "code",
      "source": [
        "ppi_address_ajust.sort_values(by='point', ignore_index=True)"
      ],
      "metadata": {
        "id": "W-NhvyL0-PLY"
      },
      "execution_count": null,
      "outputs": []
    },
    {
      "cell_type": "code",
      "source": [
        "ppi_address_ajust.index"
      ],
      "metadata": {
        "colab": {
          "base_uri": "https://localhost:8080/"
        },
        "id": "yQTPk7o3UiDr",
        "outputId": "f1a80143-db9b-4d44-ceb6-d6e40f6bcffe"
      },
      "execution_count": null,
      "outputs": [
        {
          "output_type": "execute_result",
          "data": {
            "text/plain": [
              "RangeIndex(start=0, stop=191, step=1)"
            ]
          },
          "metadata": {},
          "execution_count": 39
        }
      ]
    },
    {
      "cell_type": "markdown",
      "source": [
        "# Trait DF "
      ],
      "metadata": {
        "id": "rgWyT83yT82N"
      }
    },
    {
      "cell_type": "code",
      "source": [
        "ppi_point = ppi_address_ajust"
      ],
      "metadata": {
        "id": "FDb0ZYpnQF4V"
      },
      "execution_count": null,
      "outputs": []
    },
    {
      "cell_type": "code",
      "source": [
        "ppi_point"
      ],
      "metadata": {
        "id": "hXtTsvEYQR7l"
      },
      "execution_count": null,
      "outputs": []
    },
    {
      "cell_type": "code",
      "source": [
        "ppi_point.sort_values(by='point', ignore_index=True)"
      ],
      "metadata": {
        "id": "lx_gdXEIQcod"
      },
      "execution_count": null,
      "outputs": []
    },
    {
      "cell_type": "code",
      "source": [
        "ppi_point = ppi_point.drop(['Unnamed: 0'], axis=1)"
      ],
      "metadata": {
        "id": "g7vRwbOZSuZW"
      },
      "execution_count": null,
      "outputs": []
    },
    {
      "cell_type": "code",
      "source": [
        "ppi_point_true = ppi_point.iloc[:30, :3]"
      ],
      "metadata": {
        "id": "UT-WlgngTQMd"
      },
      "execution_count": null,
      "outputs": []
    },
    {
      "cell_type": "code",
      "source": [
        "ppi_point_true"
      ],
      "metadata": {
        "id": "ChETfCChUNfk"
      },
      "execution_count": null,
      "outputs": []
    },
    {
      "cell_type": "code",
      "source": [
        "ppi_point_false = ppi_point.iloc[30:191, :3]"
      ],
      "metadata": {
        "id": "hpf_lqHUUWn9"
      },
      "execution_count": null,
      "outputs": []
    },
    {
      "cell_type": "code",
      "source": [
        "ppi_point_false"
      ],
      "metadata": {
        "id": "4fj5dTAMUzj8"
      },
      "execution_count": null,
      "outputs": []
    },
    {
      "cell_type": "code",
      "source": [
        "ppi_point_false.reset_index()"
      ],
      "metadata": {
        "id": "leMjfbOSWDyN"
      },
      "execution_count": null,
      "outputs": []
    },
    {
      "cell_type": "markdown",
      "source": [
        "# individual search by address \n",
        "- Observar o conjunto de caracteres e a forma que se adeque a busa pelo geocode \n",
        "\n",
        "  "
      ],
      "metadata": {
        "id": "oW84rH8DrwYE"
      }
    },
    {
      "cell_type": "code",
      "source": [
        "location_00 = geolocator.geocode('BR-116 - Presidente Dutra\t')"
      ],
      "metadata": {
        "id": "PreuJlxHVyWl"
      },
      "execution_count": null,
      "outputs": []
    },
    {
      "cell_type": "code",
      "source": [
        "print(location_00)"
      ],
      "metadata": {
        "id": "T52k1PN7V4Kt",
        "colab": {
          "base_uri": "https://localhost:8080/"
        },
        "outputId": "5c3a95e3-15e2-43ab-bc93-02467165c289"
      },
      "execution_count": null,
      "outputs": [
        {
          "output_type": "stream",
          "name": "stdout",
          "text": [
            "Rodovia Presidente Dutra, Cumbica, Jardim Presidente Dutra, Guarulhos, Região Imediata de São Paulo, Região Metropolitana de São Paulo, Região Geográfica Intermediária de São Paulo, São Paulo, Região Sudeste, 07180041, Brasil\n"
          ]
        }
      ]
    },
    {
      "cell_type": "code",
      "source": [
        "# ppi_point = ppi_address_ajust.drop(['Unnamed: 0',\t'Empreendimento',\t'UF',\t'ppi_ajust_cols'], axis=1)"
      ],
      "metadata": {
        "id": "5tktKhjuPURF"
      },
      "execution_count": null,
      "outputs": []
    },
    {
      "cell_type": "markdown",
      "source": [
        "# Automate address lookup \n",
        "- Definir e selecionar uma forma de sanar os problemas que impedem a busca pela geoposição pelo Geocode por célula do dataframe para sanar as deficiências de preenchimento.\n",
        "\n",
        " - Softskill - string handlings"
      ],
      "metadata": {
        "id": "DSFM6NAIF8rG"
      }
    },
    {
      "cell_type": "code",
      "source": [
        "import re "
      ],
      "metadata": {
        "id": "pPSgDuFMTBaY"
      },
      "execution_count": null,
      "outputs": []
    },
    {
      "cell_type": "code",
      "source": [
        "ppi_address_search_00 = ppi_point_false.iloc[0:161, :1]"
      ],
      "metadata": {
        "id": "z6d0vPIKsAp0"
      },
      "execution_count": null,
      "outputs": []
    },
    {
      "cell_type": "markdown",
      "source": [
        "- For find  condition\n",
        ">>> \n",
        "- equivalent to applying < re.findall() > \n",
        " - Series.str.findall(pat. flags=0) \n",
        "\n"
      ],
      "metadata": {
        "id": "do2G2M-XUDO5"
      }
    },
    {
      "cell_type": "code",
      "source": [
        "ppi_address_search_00.reset_index(inplace=True)"
      ],
      "metadata": {
        "id": "GEjfstBO2B79"
      },
      "execution_count": null,
      "outputs": []
    },
    {
      "cell_type": "code",
      "source": [
        "len(ppi_address_search_00)"
      ],
      "metadata": {
        "id": "A5ntNK4T_WgZ"
      },
      "execution_count": null,
      "outputs": []
    },
    {
      "cell_type": "code",
      "source": [
        "ppi_address_search_00.drop(columns='index', inplace=True)"
      ],
      "metadata": {
        "id": "JLf1qM0FU3ry"
      },
      "execution_count": null,
      "outputs": []
    },
    {
      "cell_type": "code",
      "source": [
        "ppi_address_search_00"
      ],
      "metadata": {
        "id": "EaNcgEszXqnJ"
      },
      "execution_count": null,
      "outputs": []
    },
    {
      "cell_type": "code",
      "source": [
        "ppi_terminal = ppi_address_search_00[ppi_address_search_00['Empreendimento'].str.contains('Terminal')]"
      ],
      "metadata": {
        "id": "a8cnGfQW09Ah"
      },
      "execution_count": null,
      "outputs": []
    },
    {
      "cell_type": "code",
      "source": [
        "ppi_terminal"
      ],
      "metadata": {
        "id": "3jEtRP0h9Bs6"
      },
      "execution_count": null,
      "outputs": []
    },
    {
      "cell_type": "code",
      "source": [
        "len(ppi_terminal)"
      ],
      "metadata": {
        "colab": {
          "base_uri": "https://localhost:8080/"
        },
        "id": "X2Z3Kwc4_Ovy",
        "outputId": "8b21bdff-17d8-49d6-8fbb-fda435018218"
      },
      "execution_count": null,
      "outputs": [
        {
          "output_type": "execute_result",
          "data": {
            "text/plain": [
              "29"
            ]
          },
          "metadata": {},
          "execution_count": 58
        }
      ]
    },
    {
      "cell_type": "code",
      "source": [
        "location_t = geolocator.geocode('Niterói/RJ')\n",
        "print(location_t)"
      ],
      "metadata": {
        "colab": {
          "base_uri": "https://localhost:8080/"
        },
        "id": "PJrUkT3bYGZB",
        "outputId": "b31aaba0-3389-4d12-e669-597275e3f987"
      },
      "execution_count": null,
      "outputs": [
        {
          "output_type": "stream",
          "name": "stdout",
          "text": [
            "Niterói, Região Geográfica Imediata do Rio de Janeiro, Região Metropolitana do Rio de Janeiro, Região Geográfica Intermediária do Rio de Janeiro, Rio de Janeiro, Região Sudeste, 24030-220, Brasil\n"
          ]
        }
      ]
    },
    {
      "cell_type": "code",
      "source": [
        "ppi_terminal['terminais'] = ppi_terminal['Empreendimento'].str.find('Porto')"
      ],
      "metadata": {
        "colab": {
          "base_uri": "https://localhost:8080/"
        },
        "id": "R_PAV_OQd3Bv",
        "outputId": "ab9be8e2-d7cd-457d-b747-3bdeed50c8db"
      },
      "execution_count": null,
      "outputs": [
        {
          "output_type": "stream",
          "name": "stderr",
          "text": [
            "/usr/local/lib/python3.7/dist-packages/ipykernel_launcher.py:1: SettingWithCopyWarning: \n",
            "A value is trying to be set on a copy of a slice from a DataFrame.\n",
            "Try using .loc[row_indexer,col_indexer] = value instead\n",
            "\n",
            "See the caveats in the documentation: https://pandas.pydata.org/pandas-docs/stable/user_guide/indexing.html#returning-a-view-versus-a-copy\n",
            "  \"\"\"Entry point for launching an IPython kernel.\n"
          ]
        }
      ]
    },
    {
      "cell_type": "code",
      "source": [
        "ppi_terminal"
      ],
      "metadata": {
        "colab": {
          "base_uri": "https://localhost:8080/",
          "height": 959
        },
        "id": "1lorb6NyfPCG",
        "outputId": "24e69063-9170-4dd3-8901-822c1f1e07dc"
      },
      "execution_count": null,
      "outputs": [
        {
          "output_type": "execute_result",
          "data": {
            "text/plain": [
              "                                       Empreendimento  terminais\n",
              "0   STM 04  Terminal de Combustíveis em Santarém/ PA         -1\n",
              "1   STM 05  Terminal de Combustíveis em Santarém/ PA         -1\n",
              "2     TECON - Terminal de Contêineres de Salvador/ BA         -1\n",
              "3   FOSPAR S.A. - Terminal de Fertilizantes no Por...         43\n",
              "4   PAR-01 - Terminal Portuário para Movimentação ...         61\n",
              "5   PAR-12 - Terminal Portuário para Movimentação ...         61\n",
              "6   IQI-18 - Terminal Portuário para Movimentação ...         61\n",
              "7   MCP-01 - Terminal Portuário para Movimentação ...         70\n",
              "8   TEQUIMAR - Terminal Químico de Aratu S.A. - Po...         44\n",
              "9   XXXIX - Terminal Portuário de Caramuru - Porto...         41\n",
              "10  Terminal de Granéis Sólidos e Carga Geral - Ni...         -1\n",
              "11  Terminal de Movimentação e Armazenagem de Carg...         -1\n",
              "12  CONVICON - Terminal de Contêineres - Porto de ...         37\n",
              "13   TESC - Terminal Portuário de Santa Catarina/ SC          -1\n",
              "14   DECAL - Terminal de Granéis - Porto de Suape/PE          30\n",
              "15  MIR-01 - Terminal de GLP no Porto de Miramar e...         28\n",
              "18  BEL - 02A - Terminal de Granéis Líquidos de Mi...         55\n",
              "19  BEL - 02B - Terminal de Granéis Líquidos de Mi...         55\n",
              "20  BEL - 04 - Terminal de Granéis Líquidos de Mir...         54\n",
              "21  BEL - 08 - Terminal de Granéis Líquidos de Mir...         54\n",
              "22  BEL - 09 - Terminal de Granéis Líquidos de Mir...         54\n",
              "23  VDC - 12 - Terminal de Granéis Líquidos no Por...         43\n",
              "24  PAR - 07 - Terminal de Granéis Sólidos no Port...         42\n",
              "25  PAR - 08 - Terminal de Granéis Sólidos no Port...         42\n",
              "26  PAR - XX - Terminal de Granéis Sólidos no Port...         42\n",
              "27  TGL CAPUABA - Terminal de Granéis Líquidos no ...         46\n",
              "28  COPI - Terminal de Fertilizantes no Porto de I...         36\n",
              "29  Terminal de Agrovia do Nordeste no Porto de Su...         35\n",
              "70  LT 500 kV Fernão Dias - Terminal Rio, com 307 km;         -1"
            ],
            "text/html": [
              "\n",
              "  <div id=\"df-64a16aec-ac59-47db-bca7-f86f63b226dc\">\n",
              "    <div class=\"colab-df-container\">\n",
              "      <div>\n",
              "<style scoped>\n",
              "    .dataframe tbody tr th:only-of-type {\n",
              "        vertical-align: middle;\n",
              "    }\n",
              "\n",
              "    .dataframe tbody tr th {\n",
              "        vertical-align: top;\n",
              "    }\n",
              "\n",
              "    .dataframe thead th {\n",
              "        text-align: right;\n",
              "    }\n",
              "</style>\n",
              "<table border=\"1\" class=\"dataframe\">\n",
              "  <thead>\n",
              "    <tr style=\"text-align: right;\">\n",
              "      <th></th>\n",
              "      <th>Empreendimento</th>\n",
              "      <th>terminais</th>\n",
              "    </tr>\n",
              "  </thead>\n",
              "  <tbody>\n",
              "    <tr>\n",
              "      <th>0</th>\n",
              "      <td>STM 04  Terminal de Combustíveis em Santarém/ PA</td>\n",
              "      <td>-1</td>\n",
              "    </tr>\n",
              "    <tr>\n",
              "      <th>1</th>\n",
              "      <td>STM 05  Terminal de Combustíveis em Santarém/ PA</td>\n",
              "      <td>-1</td>\n",
              "    </tr>\n",
              "    <tr>\n",
              "      <th>2</th>\n",
              "      <td>TECON - Terminal de Contêineres de Salvador/ BA</td>\n",
              "      <td>-1</td>\n",
              "    </tr>\n",
              "    <tr>\n",
              "      <th>3</th>\n",
              "      <td>FOSPAR S.A. - Terminal de Fertilizantes no Por...</td>\n",
              "      <td>43</td>\n",
              "    </tr>\n",
              "    <tr>\n",
              "      <th>4</th>\n",
              "      <td>PAR-01 - Terminal Portuário para Movimentação ...</td>\n",
              "      <td>61</td>\n",
              "    </tr>\n",
              "    <tr>\n",
              "      <th>5</th>\n",
              "      <td>PAR-12 - Terminal Portuário para Movimentação ...</td>\n",
              "      <td>61</td>\n",
              "    </tr>\n",
              "    <tr>\n",
              "      <th>6</th>\n",
              "      <td>IQI-18 - Terminal Portuário para Movimentação ...</td>\n",
              "      <td>61</td>\n",
              "    </tr>\n",
              "    <tr>\n",
              "      <th>7</th>\n",
              "      <td>MCP-01 - Terminal Portuário para Movimentação ...</td>\n",
              "      <td>70</td>\n",
              "    </tr>\n",
              "    <tr>\n",
              "      <th>8</th>\n",
              "      <td>TEQUIMAR - Terminal Químico de Aratu S.A. - Po...</td>\n",
              "      <td>44</td>\n",
              "    </tr>\n",
              "    <tr>\n",
              "      <th>9</th>\n",
              "      <td>XXXIX - Terminal Portuário de Caramuru - Porto...</td>\n",
              "      <td>41</td>\n",
              "    </tr>\n",
              "    <tr>\n",
              "      <th>10</th>\n",
              "      <td>Terminal de Granéis Sólidos e Carga Geral - Ni...</td>\n",
              "      <td>-1</td>\n",
              "    </tr>\n",
              "    <tr>\n",
              "      <th>11</th>\n",
              "      <td>Terminal de Movimentação e Armazenagem de Carg...</td>\n",
              "      <td>-1</td>\n",
              "    </tr>\n",
              "    <tr>\n",
              "      <th>12</th>\n",
              "      <td>CONVICON - Terminal de Contêineres - Porto de ...</td>\n",
              "      <td>37</td>\n",
              "    </tr>\n",
              "    <tr>\n",
              "      <th>13</th>\n",
              "      <td>TESC - Terminal Portuário de Santa Catarina/ SC</td>\n",
              "      <td>-1</td>\n",
              "    </tr>\n",
              "    <tr>\n",
              "      <th>14</th>\n",
              "      <td>DECAL - Terminal de Granéis - Porto de Suape/PE</td>\n",
              "      <td>30</td>\n",
              "    </tr>\n",
              "    <tr>\n",
              "      <th>15</th>\n",
              "      <td>MIR-01 - Terminal de GLP no Porto de Miramar e...</td>\n",
              "      <td>28</td>\n",
              "    </tr>\n",
              "    <tr>\n",
              "      <th>18</th>\n",
              "      <td>BEL - 02A - Terminal de Granéis Líquidos de Mi...</td>\n",
              "      <td>55</td>\n",
              "    </tr>\n",
              "    <tr>\n",
              "      <th>19</th>\n",
              "      <td>BEL - 02B - Terminal de Granéis Líquidos de Mi...</td>\n",
              "      <td>55</td>\n",
              "    </tr>\n",
              "    <tr>\n",
              "      <th>20</th>\n",
              "      <td>BEL - 04 - Terminal de Granéis Líquidos de Mir...</td>\n",
              "      <td>54</td>\n",
              "    </tr>\n",
              "    <tr>\n",
              "      <th>21</th>\n",
              "      <td>BEL - 08 - Terminal de Granéis Líquidos de Mir...</td>\n",
              "      <td>54</td>\n",
              "    </tr>\n",
              "    <tr>\n",
              "      <th>22</th>\n",
              "      <td>BEL - 09 - Terminal de Granéis Líquidos de Mir...</td>\n",
              "      <td>54</td>\n",
              "    </tr>\n",
              "    <tr>\n",
              "      <th>23</th>\n",
              "      <td>VDC - 12 - Terminal de Granéis Líquidos no Por...</td>\n",
              "      <td>43</td>\n",
              "    </tr>\n",
              "    <tr>\n",
              "      <th>24</th>\n",
              "      <td>PAR - 07 - Terminal de Granéis Sólidos no Port...</td>\n",
              "      <td>42</td>\n",
              "    </tr>\n",
              "    <tr>\n",
              "      <th>25</th>\n",
              "      <td>PAR - 08 - Terminal de Granéis Sólidos no Port...</td>\n",
              "      <td>42</td>\n",
              "    </tr>\n",
              "    <tr>\n",
              "      <th>26</th>\n",
              "      <td>PAR - XX - Terminal de Granéis Sólidos no Port...</td>\n",
              "      <td>42</td>\n",
              "    </tr>\n",
              "    <tr>\n",
              "      <th>27</th>\n",
              "      <td>TGL CAPUABA - Terminal de Granéis Líquidos no ...</td>\n",
              "      <td>46</td>\n",
              "    </tr>\n",
              "    <tr>\n",
              "      <th>28</th>\n",
              "      <td>COPI - Terminal de Fertilizantes no Porto de I...</td>\n",
              "      <td>36</td>\n",
              "    </tr>\n",
              "    <tr>\n",
              "      <th>29</th>\n",
              "      <td>Terminal de Agrovia do Nordeste no Porto de Su...</td>\n",
              "      <td>35</td>\n",
              "    </tr>\n",
              "    <tr>\n",
              "      <th>70</th>\n",
              "      <td>LT 500 kV Fernão Dias - Terminal Rio, com 307 km;</td>\n",
              "      <td>-1</td>\n",
              "    </tr>\n",
              "  </tbody>\n",
              "</table>\n",
              "</div>\n",
              "      <button class=\"colab-df-convert\" onclick=\"convertToInteractive('df-64a16aec-ac59-47db-bca7-f86f63b226dc')\"\n",
              "              title=\"Convert this dataframe to an interactive table.\"\n",
              "              style=\"display:none;\">\n",
              "        \n",
              "  <svg xmlns=\"http://www.w3.org/2000/svg\" height=\"24px\"viewBox=\"0 0 24 24\"\n",
              "       width=\"24px\">\n",
              "    <path d=\"M0 0h24v24H0V0z\" fill=\"none\"/>\n",
              "    <path d=\"M18.56 5.44l.94 2.06.94-2.06 2.06-.94-2.06-.94-.94-2.06-.94 2.06-2.06.94zm-11 1L8.5 8.5l.94-2.06 2.06-.94-2.06-.94L8.5 2.5l-.94 2.06-2.06.94zm10 10l.94 2.06.94-2.06 2.06-.94-2.06-.94-.94-2.06-.94 2.06-2.06.94z\"/><path d=\"M17.41 7.96l-1.37-1.37c-.4-.4-.92-.59-1.43-.59-.52 0-1.04.2-1.43.59L10.3 9.45l-7.72 7.72c-.78.78-.78 2.05 0 2.83L4 21.41c.39.39.9.59 1.41.59.51 0 1.02-.2 1.41-.59l7.78-7.78 2.81-2.81c.8-.78.8-2.07 0-2.86zM5.41 20L4 18.59l7.72-7.72 1.47 1.35L5.41 20z\"/>\n",
              "  </svg>\n",
              "      </button>\n",
              "      \n",
              "  <style>\n",
              "    .colab-df-container {\n",
              "      display:flex;\n",
              "      flex-wrap:wrap;\n",
              "      gap: 12px;\n",
              "    }\n",
              "\n",
              "    .colab-df-convert {\n",
              "      background-color: #E8F0FE;\n",
              "      border: none;\n",
              "      border-radius: 50%;\n",
              "      cursor: pointer;\n",
              "      display: none;\n",
              "      fill: #1967D2;\n",
              "      height: 32px;\n",
              "      padding: 0 0 0 0;\n",
              "      width: 32px;\n",
              "    }\n",
              "\n",
              "    .colab-df-convert:hover {\n",
              "      background-color: #E2EBFA;\n",
              "      box-shadow: 0px 1px 2px rgba(60, 64, 67, 0.3), 0px 1px 3px 1px rgba(60, 64, 67, 0.15);\n",
              "      fill: #174EA6;\n",
              "    }\n",
              "\n",
              "    [theme=dark] .colab-df-convert {\n",
              "      background-color: #3B4455;\n",
              "      fill: #D2E3FC;\n",
              "    }\n",
              "\n",
              "    [theme=dark] .colab-df-convert:hover {\n",
              "      background-color: #434B5C;\n",
              "      box-shadow: 0px 1px 3px 1px rgba(0, 0, 0, 0.15);\n",
              "      filter: drop-shadow(0px 1px 2px rgba(0, 0, 0, 0.3));\n",
              "      fill: #FFFFFF;\n",
              "    }\n",
              "  </style>\n",
              "\n",
              "      <script>\n",
              "        const buttonEl =\n",
              "          document.querySelector('#df-64a16aec-ac59-47db-bca7-f86f63b226dc button.colab-df-convert');\n",
              "        buttonEl.style.display =\n",
              "          google.colab.kernel.accessAllowed ? 'block' : 'none';\n",
              "\n",
              "        async function convertToInteractive(key) {\n",
              "          const element = document.querySelector('#df-64a16aec-ac59-47db-bca7-f86f63b226dc');\n",
              "          const dataTable =\n",
              "            await google.colab.kernel.invokeFunction('convertToInteractive',\n",
              "                                                     [key], {});\n",
              "          if (!dataTable) return;\n",
              "\n",
              "          const docLinkHtml = 'Like what you see? Visit the ' +\n",
              "            '<a target=\"_blank\" href=https://colab.research.google.com/notebooks/data_table.ipynb>data table notebook</a>'\n",
              "            + ' to learn more about interactive tables.';\n",
              "          element.innerHTML = '';\n",
              "          dataTable['output_type'] = 'display_data';\n",
              "          await google.colab.output.renderOutput(dataTable, element);\n",
              "          const docLink = document.createElement('div');\n",
              "          docLink.innerHTML = docLinkHtml;\n",
              "          element.appendChild(docLink);\n",
              "        }\n",
              "      </script>\n",
              "    </div>\n",
              "  </div>\n",
              "  "
            ]
          },
          "metadata": {},
          "execution_count": 120
        }
      ]
    },
    {
      "cell_type": "code",
      "source": [
        "ppi_find_porto = ppi_terminal['Empreendimento'].str.find('Porto')"
      ],
      "metadata": {
        "id": "qiy1ZwUHjr7d"
      },
      "execution_count": null,
      "outputs": []
    },
    {
      "cell_type": "code",
      "source": [
        "ppi_find_porto.slice_shift()"
      ],
      "metadata": {
        "colab": {
          "base_uri": "https://localhost:8080/"
        },
        "id": "YzlvTlXdtmJR",
        "outputId": "e9be5319-fd35-4478-f846-d71555a90372"
      },
      "execution_count": null,
      "outputs": [
        {
          "output_type": "stream",
          "name": "stderr",
          "text": [
            "/usr/local/lib/python3.7/dist-packages/ipykernel_launcher.py:1: FutureWarning: The 'slice_shift' method is deprecated and will be removed in a future version. You can use DataFrame/Series.shift instead\n",
            "  \"\"\"Entry point for launching an IPython kernel.\n"
          ]
        },
        {
          "output_type": "execute_result",
          "data": {
            "text/plain": [
              "1     -1\n",
              "2     -1\n",
              "3     -1\n",
              "4     43\n",
              "5     61\n",
              "6     61\n",
              "7     61\n",
              "8     70\n",
              "9     44\n",
              "10    41\n",
              "11    -1\n",
              "12    -1\n",
              "13    37\n",
              "14    -1\n",
              "15    30\n",
              "18    28\n",
              "19    55\n",
              "20    55\n",
              "21    54\n",
              "22    54\n",
              "23    54\n",
              "24    43\n",
              "25    42\n",
              "26    42\n",
              "27    42\n",
              "28    46\n",
              "29    36\n",
              "70    35\n",
              "Name: Empreendimento, dtype: int64"
            ]
          },
          "metadata": {},
          "execution_count": 128
        }
      ]
    },
    {
      "cell_type": "code",
      "source": [
        "print(ppi_terminal[ppi_find_porto+1:])"
      ],
      "metadata": {
        "id": "GB_xoyFnj5QE",
        "colab": {
          "base_uri": "https://localhost:8080/",
          "height": 814
        },
        "outputId": "481ab6a2-9eba-4468-f749-be6ffc451dce"
      },
      "execution_count": null,
      "outputs": [
        {
          "output_type": "error",
          "ename": "TypeError",
          "evalue": "ignored",
          "traceback": [
            "\u001b[0;31m---------------------------------------------------------------------------\u001b[0m",
            "\u001b[0;31mTypeError\u001b[0m                                 Traceback (most recent call last)",
            "\u001b[0;32m<ipython-input-129-03e0d476bf8d>\u001b[0m in \u001b[0;36m<module>\u001b[0;34m()\u001b[0m\n\u001b[0;32m----> 1\u001b[0;31m \u001b[0mprint\u001b[0m\u001b[0;34m(\u001b[0m\u001b[0mppi_terminal\u001b[0m\u001b[0;34m[\u001b[0m\u001b[0mppi_find_porto\u001b[0m\u001b[0;34m+\u001b[0m\u001b[0;36m1\u001b[0m\u001b[0;34m:\u001b[0m\u001b[0;34m]\u001b[0m\u001b[0;34m)\u001b[0m\u001b[0;34m\u001b[0m\u001b[0;34m\u001b[0m\u001b[0m\n\u001b[0m",
            "\u001b[0;32m/usr/local/lib/python3.7/dist-packages/pandas/core/frame.py\u001b[0m in \u001b[0;36m__getitem__\u001b[0;34m(self, key)\u001b[0m\n\u001b[1;32m   3428\u001b[0m \u001b[0;34m\u001b[0m\u001b[0m\n\u001b[1;32m   3429\u001b[0m         \u001b[0;31m# Do we have a slicer (on rows)?\u001b[0m\u001b[0;34m\u001b[0m\u001b[0;34m\u001b[0m\u001b[0;34m\u001b[0m\u001b[0m\n\u001b[0;32m-> 3430\u001b[0;31m         \u001b[0mindexer\u001b[0m \u001b[0;34m=\u001b[0m \u001b[0mconvert_to_index_sliceable\u001b[0m\u001b[0;34m(\u001b[0m\u001b[0mself\u001b[0m\u001b[0;34m,\u001b[0m \u001b[0mkey\u001b[0m\u001b[0;34m)\u001b[0m\u001b[0;34m\u001b[0m\u001b[0;34m\u001b[0m\u001b[0m\n\u001b[0m\u001b[1;32m   3431\u001b[0m         \u001b[0;32mif\u001b[0m \u001b[0mindexer\u001b[0m \u001b[0;32mis\u001b[0m \u001b[0;32mnot\u001b[0m \u001b[0;32mNone\u001b[0m\u001b[0;34m:\u001b[0m\u001b[0;34m\u001b[0m\u001b[0;34m\u001b[0m\u001b[0m\n\u001b[1;32m   3432\u001b[0m             \u001b[0;32mif\u001b[0m \u001b[0misinstance\u001b[0m\u001b[0;34m(\u001b[0m\u001b[0mindexer\u001b[0m\u001b[0;34m,\u001b[0m \u001b[0mnp\u001b[0m\u001b[0;34m.\u001b[0m\u001b[0mndarray\u001b[0m\u001b[0;34m)\u001b[0m\u001b[0;34m:\u001b[0m\u001b[0;34m\u001b[0m\u001b[0;34m\u001b[0m\u001b[0m\n",
            "\u001b[0;32m/usr/local/lib/python3.7/dist-packages/pandas/core/indexing.py\u001b[0m in \u001b[0;36mconvert_to_index_sliceable\u001b[0;34m(obj, key)\u001b[0m\n\u001b[1;32m   2327\u001b[0m     \u001b[0midx\u001b[0m \u001b[0;34m=\u001b[0m \u001b[0mobj\u001b[0m\u001b[0;34m.\u001b[0m\u001b[0mindex\u001b[0m\u001b[0;34m\u001b[0m\u001b[0;34m\u001b[0m\u001b[0m\n\u001b[1;32m   2328\u001b[0m     \u001b[0;32mif\u001b[0m \u001b[0misinstance\u001b[0m\u001b[0;34m(\u001b[0m\u001b[0mkey\u001b[0m\u001b[0;34m,\u001b[0m \u001b[0mslice\u001b[0m\u001b[0;34m)\u001b[0m\u001b[0;34m:\u001b[0m\u001b[0;34m\u001b[0m\u001b[0;34m\u001b[0m\u001b[0m\n\u001b[0;32m-> 2329\u001b[0;31m         \u001b[0;32mreturn\u001b[0m \u001b[0midx\u001b[0m\u001b[0;34m.\u001b[0m\u001b[0m_convert_slice_indexer\u001b[0m\u001b[0;34m(\u001b[0m\u001b[0mkey\u001b[0m\u001b[0;34m,\u001b[0m \u001b[0mkind\u001b[0m\u001b[0;34m=\u001b[0m\u001b[0;34m\"getitem\"\u001b[0m\u001b[0;34m)\u001b[0m\u001b[0;34m\u001b[0m\u001b[0;34m\u001b[0m\u001b[0m\n\u001b[0m\u001b[1;32m   2330\u001b[0m \u001b[0;34m\u001b[0m\u001b[0m\n\u001b[1;32m   2331\u001b[0m     \u001b[0;32melif\u001b[0m \u001b[0misinstance\u001b[0m\u001b[0;34m(\u001b[0m\u001b[0mkey\u001b[0m\u001b[0;34m,\u001b[0m \u001b[0mstr\u001b[0m\u001b[0;34m)\u001b[0m\u001b[0;34m:\u001b[0m\u001b[0;34m\u001b[0m\u001b[0;34m\u001b[0m\u001b[0m\n",
            "\u001b[0;32m/usr/local/lib/python3.7/dist-packages/pandas/core/indexes/numeric.py\u001b[0m in \u001b[0;36m_convert_slice_indexer\u001b[0;34m(self, key, kind)\u001b[0m\n\u001b[1;32m    242\u001b[0m             \u001b[0;32mreturn\u001b[0m \u001b[0mself\u001b[0m\u001b[0;34m.\u001b[0m\u001b[0mslice_indexer\u001b[0m\u001b[0;34m(\u001b[0m\u001b[0mkey\u001b[0m\u001b[0;34m.\u001b[0m\u001b[0mstart\u001b[0m\u001b[0;34m,\u001b[0m \u001b[0mkey\u001b[0m\u001b[0;34m.\u001b[0m\u001b[0mstop\u001b[0m\u001b[0;34m,\u001b[0m \u001b[0mkey\u001b[0m\u001b[0;34m.\u001b[0m\u001b[0mstep\u001b[0m\u001b[0;34m,\u001b[0m \u001b[0mkind\u001b[0m\u001b[0;34m=\u001b[0m\u001b[0mkind\u001b[0m\u001b[0;34m)\u001b[0m\u001b[0;34m\u001b[0m\u001b[0;34m\u001b[0m\u001b[0m\n\u001b[1;32m    243\u001b[0m \u001b[0;34m\u001b[0m\u001b[0m\n\u001b[0;32m--> 244\u001b[0;31m         \u001b[0;32mreturn\u001b[0m \u001b[0msuper\u001b[0m\u001b[0;34m(\u001b[0m\u001b[0;34m)\u001b[0m\u001b[0;34m.\u001b[0m\u001b[0m_convert_slice_indexer\u001b[0m\u001b[0;34m(\u001b[0m\u001b[0mkey\u001b[0m\u001b[0;34m,\u001b[0m \u001b[0mkind\u001b[0m\u001b[0;34m=\u001b[0m\u001b[0mkind\u001b[0m\u001b[0;34m)\u001b[0m\u001b[0;34m\u001b[0m\u001b[0;34m\u001b[0m\u001b[0m\n\u001b[0m\u001b[1;32m    245\u001b[0m \u001b[0;34m\u001b[0m\u001b[0m\n\u001b[1;32m    246\u001b[0m     \u001b[0;34m@\u001b[0m\u001b[0mdoc\u001b[0m\u001b[0;34m(\u001b[0m\u001b[0mIndex\u001b[0m\u001b[0;34m.\u001b[0m\u001b[0m_maybe_cast_slice_bound\u001b[0m\u001b[0;34m)\u001b[0m\u001b[0;34m\u001b[0m\u001b[0;34m\u001b[0m\u001b[0m\n",
            "\u001b[0;32m/usr/local/lib/python3.7/dist-packages/pandas/core/indexes/base.py\u001b[0m in \u001b[0;36m_convert_slice_indexer\u001b[0;34m(self, key, kind)\u001b[0m\n\u001b[1;32m   3717\u001b[0m             \"\"\"\n\u001b[1;32m   3718\u001b[0m             \u001b[0;32mif\u001b[0m \u001b[0mself\u001b[0m\u001b[0;34m.\u001b[0m\u001b[0mis_integer\u001b[0m\u001b[0;34m(\u001b[0m\u001b[0;34m)\u001b[0m \u001b[0;32mor\u001b[0m \u001b[0mis_index_slice\u001b[0m\u001b[0;34m:\u001b[0m\u001b[0;34m\u001b[0m\u001b[0;34m\u001b[0m\u001b[0m\n\u001b[0;32m-> 3719\u001b[0;31m                 \u001b[0mself\u001b[0m\u001b[0;34m.\u001b[0m\u001b[0m_validate_indexer\u001b[0m\u001b[0;34m(\u001b[0m\u001b[0;34m\"slice\"\u001b[0m\u001b[0;34m,\u001b[0m \u001b[0mkey\u001b[0m\u001b[0;34m.\u001b[0m\u001b[0mstart\u001b[0m\u001b[0;34m,\u001b[0m \u001b[0;34m\"getitem\"\u001b[0m\u001b[0;34m)\u001b[0m\u001b[0;34m\u001b[0m\u001b[0;34m\u001b[0m\u001b[0m\n\u001b[0m\u001b[1;32m   3720\u001b[0m                 \u001b[0mself\u001b[0m\u001b[0;34m.\u001b[0m\u001b[0m_validate_indexer\u001b[0m\u001b[0;34m(\u001b[0m\u001b[0;34m\"slice\"\u001b[0m\u001b[0;34m,\u001b[0m \u001b[0mkey\u001b[0m\u001b[0;34m.\u001b[0m\u001b[0mstop\u001b[0m\u001b[0;34m,\u001b[0m \u001b[0;34m\"getitem\"\u001b[0m\u001b[0;34m)\u001b[0m\u001b[0;34m\u001b[0m\u001b[0;34m\u001b[0m\u001b[0m\n\u001b[1;32m   3721\u001b[0m                 \u001b[0mself\u001b[0m\u001b[0;34m.\u001b[0m\u001b[0m_validate_indexer\u001b[0m\u001b[0;34m(\u001b[0m\u001b[0;34m\"slice\"\u001b[0m\u001b[0;34m,\u001b[0m \u001b[0mkey\u001b[0m\u001b[0;34m.\u001b[0m\u001b[0mstep\u001b[0m\u001b[0;34m,\u001b[0m \u001b[0;34m\"getitem\"\u001b[0m\u001b[0;34m)\u001b[0m\u001b[0;34m\u001b[0m\u001b[0;34m\u001b[0m\u001b[0m\n",
            "\u001b[0;32m/usr/local/lib/python3.7/dist-packages/pandas/core/indexes/base.py\u001b[0m in \u001b[0;36m_validate_indexer\u001b[0;34m(self, form, key, kind)\u001b[0m\n\u001b[1;32m   5717\u001b[0m \u001b[0;34m\u001b[0m\u001b[0m\n\u001b[1;32m   5718\u001b[0m         \u001b[0;32mif\u001b[0m \u001b[0mkey\u001b[0m \u001b[0;32mis\u001b[0m \u001b[0;32mnot\u001b[0m \u001b[0;32mNone\u001b[0m \u001b[0;32mand\u001b[0m \u001b[0;32mnot\u001b[0m \u001b[0mis_integer\u001b[0m\u001b[0;34m(\u001b[0m\u001b[0mkey\u001b[0m\u001b[0;34m)\u001b[0m\u001b[0;34m:\u001b[0m\u001b[0;34m\u001b[0m\u001b[0;34m\u001b[0m\u001b[0m\n\u001b[0;32m-> 5719\u001b[0;31m             \u001b[0;32mraise\u001b[0m \u001b[0mself\u001b[0m\u001b[0;34m.\u001b[0m\u001b[0m_invalid_indexer\u001b[0m\u001b[0;34m(\u001b[0m\u001b[0mform\u001b[0m\u001b[0;34m,\u001b[0m \u001b[0mkey\u001b[0m\u001b[0;34m)\u001b[0m\u001b[0;34m\u001b[0m\u001b[0;34m\u001b[0m\u001b[0m\n\u001b[0m\u001b[1;32m   5720\u001b[0m \u001b[0;34m\u001b[0m\u001b[0m\n\u001b[1;32m   5721\u001b[0m     \u001b[0;32mdef\u001b[0m \u001b[0m_maybe_cast_slice_bound\u001b[0m\u001b[0;34m(\u001b[0m\u001b[0mself\u001b[0m\u001b[0;34m,\u001b[0m \u001b[0mlabel\u001b[0m\u001b[0;34m,\u001b[0m \u001b[0mside\u001b[0m\u001b[0;34m:\u001b[0m \u001b[0mstr_t\u001b[0m\u001b[0;34m,\u001b[0m \u001b[0mkind\u001b[0m\u001b[0;34m=\u001b[0m\u001b[0mno_default\u001b[0m\u001b[0;34m)\u001b[0m\u001b[0;34m:\u001b[0m\u001b[0;34m\u001b[0m\u001b[0;34m\u001b[0m\u001b[0m\n",
            "\u001b[0;31mTypeError\u001b[0m: cannot do slice indexing on Int64Index with these indexers [0      0\n1      0\n2      0\n3     44\n4     62\n5     62\n6     62\n7     71\n8     45\n9     42\n10     0\n11     0\n12    38\n13     0\n14    31\n15    29\n18    56\n19    56\n20    55\n21    55\n22    55\n23    44\n24    43\n25    43\n26    43\n27    47\n28    37\n29    36\n70     0\nName: Empreendimento, dtype: int64] of type Series"
          ]
        }
      ]
    },
    {
      "cell_type": "code",
      "source": [
        ""
      ],
      "metadata": {
        "id": "BrXxDxjcswuZ"
      },
      "execution_count": null,
      "outputs": []
    },
    {
      "cell_type": "code",
      "source": [
        "ppi_LT = ppi_address_search_00[ppi_address_search_00['Empreendimento'].str.contains('LT')]"
      ],
      "metadata": {
        "id": "2jD0-ggV-Xf6"
      },
      "execution_count": null,
      "outputs": []
    },
    {
      "cell_type": "code",
      "source": [
        "ppi_LT"
      ],
      "metadata": {
        "id": "63-S5uhK-eHa"
      },
      "execution_count": null,
      "outputs": []
    },
    {
      "cell_type": "code",
      "source": [
        "len(ppi_LT)"
      ],
      "metadata": {
        "colab": {
          "base_uri": "https://localhost:8080/"
        },
        "id": "2zeSFMn9_G6h",
        "outputId": "f2a34474-fee6-4b31-e7c2-2321f0b1cd7d"
      },
      "execution_count": null,
      "outputs": [
        {
          "output_type": "execute_result",
          "data": {
            "text/plain": [
              "54"
            ]
          },
          "metadata": {},
          "execution_count": 61
        }
      ]
    },
    {
      "cell_type": "markdown",
      "source": [
        "- Comparar e identificar as culunas"
      ],
      "metadata": {
        "id": "3CPyCUPpgI7_"
      }
    },
    {
      "cell_type": "markdown",
      "source": [
        "# To remember codes: "
      ],
      "metadata": {
        "id": "_S5t37sZJD2u"
      }
    },
    {
      "cell_type": "code",
      "source": [
        "#show\n",
        "# ppi_address_ajust.index.values\n",
        "# ppi_address_ajust.Geom.values\n",
        "# type(ppi_address_ajust.Geom.values)\n",
        "\n",
        "# rename \n",
        "# ppi_address_ajust.rename(columns= {'Unnamed: 0': 'Rows_place'}, inplace=True )"
      ],
      "metadata": {
        "id": "MSr_WvN1JQyh"
      },
      "execution_count": null,
      "outputs": []
    },
    {
      "cell_type": "markdown",
      "source": [
        ""
      ],
      "metadata": {
        "id": "uv3GDIWGknen"
      }
    },
    {
      "cell_type": "code",
      "source": [
        ""
      ],
      "metadata": {
        "id": "8Rd97LI9kmp3"
      },
      "execution_count": null,
      "outputs": []
    }
  ]
}