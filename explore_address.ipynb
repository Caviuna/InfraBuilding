{
  "nbformat": 4,
  "nbformat_minor": 0,
  "metadata": {
    "colab": {
      "name": "explore_address.ipynb",
      "provenance": [],
      "authorship_tag": "ABX9TyNKVJN23MO4Jp26lC8wztR+"
    },
    "kernelspec": {
      "name": "python3",
      "display_name": "Python 3"
    },
    "language_info": {
      "name": "python"
    }
  },
  "cells": [
    {
      "cell_type": "markdown",
      "source": [
        "# Research project for the understanding of actions in urban infrastructure and mapping of flood areas and landslides on slopes with the use of AI. \n",
        " - Projeto pesquisa  para o entendimento das ações em infraestrutura urbana e mapeamentos de áreas de enchente e deslizamentos de enconstas com o uso de IA. "
      ],
      "metadata": {
        "id": "QpKmSwaLvaga"
      }
    },
    {
      "cell_type": "markdown",
      "source": [
        "# Clearing address from dataframe origin - Tratando base de dados dos endereços do dataframe original. "
      ],
      "metadata": {
        "id": "erIUv5xGEaeX"
      }
    },
    {
      "cell_type": "code",
      "source": [
        "!pip install geopandas  "
      ],
      "metadata": {
        "id": "jQ6tC91wIv7J"
      },
      "execution_count": null,
      "outputs": []
    },
    {
      "cell_type": "code",
      "source": [
        "!pip install shapely"
      ],
      "metadata": {
        "id": "qm77pVuX6llo"
      },
      "execution_count": null,
      "outputs": []
    },
    {
      "cell_type": "code",
      "source": [
        "import matplotlib \n",
        "import pandas as pd\n",
        "import geopandas as gpd"
      ],
      "metadata": {
        "id": "6id4vOYdEMfA"
      },
      "execution_count": 3,
      "outputs": []
    },
    {
      "cell_type": "code",
      "source": [
        "from shapely.geometry import Point, Polygon  "
      ],
      "metadata": {
        "id": "gftQ2VBZ6rV4"
      },
      "execution_count": 4,
      "outputs": []
    },
    {
      "cell_type": "code",
      "source": [
        "from geopandas import geoseries "
      ],
      "metadata": {
        "id": "yomF-GQMN_7v"
      },
      "execution_count": 5,
      "outputs": []
    },
    {
      "cell_type": "markdown",
      "source": [
        "- csv file generated from building.ipynb notebook. -- Arquivo csv gerado a partir do notebook building.ipynb. "
      ],
      "metadata": {
        "id": "Qsb0msbEFgUM"
      }
    },
    {
      "cell_type": "code",
      "execution_count": null,
      "metadata": {
        "id": "Bn8kbe8TD64L"
      },
      "outputs": [],
      "source": [
        "ppi_address_ajust = '/content/address_ppi.csv'\n",
        "ppi_address_ajust = pd.read_csv(ppi_address_ajust, encoding='ISO-8859-1')\n",
        "ppi_address_ajust.head()"
      ]
    },
    {
      "cell_type": "code",
      "source": [
        "ppi_address_ajust.drop('Unnamed: 0', axis = 1)"
      ],
      "metadata": {
        "id": "sM3MwtwOew_v"
      },
      "execution_count": null,
      "outputs": []
    },
    {
      "cell_type": "code",
      "source": [
        "ppi_address_ajust.dtypes"
      ],
      "metadata": {
        "id": "g3gBNDAldQ4X"
      },
      "execution_count": null,
      "outputs": []
    },
    {
      "cell_type": "code",
      "source": [
        "ppi_address_ajust.values"
      ],
      "metadata": {
        "id": "vlwq8234dcgv"
      },
      "execution_count": null,
      "outputs": []
    },
    {
      "cell_type": "code",
      "source": [
        "ppi_address_ajust['ppi_ajust_cols'] = ppi_address_ajust['Empreendimento'] + '/' + ppi_address_ajust['UF']"
      ],
      "metadata": {
        "id": "HBm26RmfMYuz"
      },
      "execution_count": 10,
      "outputs": []
    },
    {
      "cell_type": "code",
      "source": [
        "ppi_address_ajust"
      ],
      "metadata": {
        "id": "oTsVIvp8M8Oz"
      },
      "execution_count": null,
      "outputs": []
    },
    {
      "cell_type": "code",
      "source": [
        "pd.set_option('max_rows', 200)\n",
        "pd.set_option('max_columns', 100)"
      ],
      "metadata": {
        "id": "Qjm-9QD_MkTy"
      },
      "execution_count": 12,
      "outputs": []
    },
    {
      "cell_type": "markdown",
      "source": [
        "- 'brazil_states' "
      ],
      "metadata": {
        "id": "yEm1Ol2UTk5g"
      }
    },
    {
      "cell_type": "markdown",
      "source": [
        "# Tools Geocode, for point location \n",
        " - return GeometryCollection empty"
      ],
      "metadata": {
        "id": "yEqR-Bi13-ua"
      }
    },
    {
      "cell_type": "code",
      "source": [
        "# gpd.tools.geocode(ppi_address_ajust['Empreendimento'], provider = 'nominatim', user_agent='UF Builds', country_bias = 'Brazil')"
      ],
      "metadata": {
        "id": "fMnNiJHFSDDJ"
      },
      "execution_count": 13,
      "outputs": []
    },
    {
      "cell_type": "code",
      "source": [
        "# ppi_address_ajust['Geom'] = gpd.tools.geocode(ppi_address_ajust['Empreendimento'], provider = 'nominatim', user_agent='UF Builds', country_bias = 'brazil_states')['geometry']"
      ],
      "metadata": {
        "id": "wUzD2NPlJ0Ag"
      },
      "execution_count": 14,
      "outputs": []
    },
    {
      "cell_type": "code",
      "source": [
        "# ppi_address_ajust"
      ],
      "metadata": {
        "id": "rk51MiOXJePY"
      },
      "execution_count": 15,
      "outputs": []
    },
    {
      "cell_type": "code",
      "source": [
        "# ppi_address_ajust.loc[ppi_address_ajust['Geom'] == 'GEOMETRYCOLLECTION EMPTY', 'Geom'].head()"
      ],
      "metadata": {
        "id": "A3qX9kWbI83x"
      },
      "execution_count": 16,
      "outputs": []
    },
    {
      "cell_type": "code",
      "source": [
        "# ppi_address_ajust.drop_duplicates() # if have, < inplace = True > "
      ],
      "metadata": {
        "id": "NiQ_hNueZNzd"
      },
      "execution_count": 17,
      "outputs": []
    },
    {
      "cell_type": "markdown",
      "source": [
        "# Geocoders implementation for locations acess - implementação de acesso das localizações usando o Geocoders \n",
        "- return None"
      ],
      "metadata": {
        "id": "QU4w-AV03Lxo"
      }
    },
    {
      "cell_type": "code",
      "source": [
        "import geopy.geocoders"
      ],
      "metadata": {
        "id": "OL1mj6sq1DQL"
      },
      "execution_count": 18,
      "outputs": []
    },
    {
      "cell_type": "code",
      "source": [
        "from geopy.geocoders import Nominatim"
      ],
      "metadata": {
        "id": "JBX02nX_eZuw"
      },
      "execution_count": 19,
      "outputs": []
    },
    {
      "cell_type": "code",
      "source": [
        "geopy.geocoders.options.default_user_agent = 'my_app/1'"
      ],
      "metadata": {
        "id": "O0SlsRuz1A2T"
      },
      "execution_count": 20,
      "outputs": []
    },
    {
      "cell_type": "code",
      "source": [
        "geopy.geocoders.options.default_timeout = 7"
      ],
      "metadata": {
        "id": "ih455ckT1aJi"
      },
      "execution_count": 21,
      "outputs": []
    },
    {
      "cell_type": "code",
      "source": [
        "geolocator = Nominatim()"
      ],
      "metadata": {
        "id": "coWBhjli1iTz"
      },
      "execution_count": 22,
      "outputs": []
    },
    {
      "cell_type": "code",
      "source": [
        "print(geolocator.headers)"
      ],
      "metadata": {
        "id": "HQhYtO_p1qYr"
      },
      "execution_count": null,
      "outputs": []
    },
    {
      "cell_type": "code",
      "source": [
        "print(geolocator.timeout)"
      ],
      "metadata": {
        "id": "t01WRkFp1w_S"
      },
      "execution_count": null,
      "outputs": []
    },
    {
      "cell_type": "markdown",
      "source": [
        "- Test aplication "
      ],
      "metadata": {
        "id": "m1_N0zk078zP"
      }
    },
    {
      "cell_type": "code",
      "source": [
        "# locator = Nominatim(user_agent='myGeocoder')\n",
        "location = geolocator.geocode('Aeroporto de Salvador/ BA')"
      ],
      "metadata": {
        "id": "dNvPU_WAeSuQ"
      },
      "execution_count": 25,
      "outputs": []
    },
    {
      "cell_type": "code",
      "source": [
        "print(location)"
      ],
      "metadata": {
        "id": "4P40AALJ27wT"
      },
      "execution_count": null,
      "outputs": []
    },
    {
      "cell_type": "code",
      "source": [
        "print(location.point)"
      ],
      "metadata": {
        "id": "OgMi6d5c4Ocq",
        "colab": {
          "base_uri": "https://localhost:8080/"
        },
        "outputId": "11bc88b4-de42-4011-8036-60700334a287"
      },
      "execution_count": 27,
      "outputs": [
        {
          "output_type": "stream",
          "name": "stdout",
          "text": [
            "12 54m 15.1844s S, 38 20m 27.9298s W\n"
          ]
        }
      ]
    },
    {
      "cell_type": "code",
      "source": [
        "location.point"
      ],
      "metadata": {
        "id": "NxkjMcMr4bhy",
        "colab": {
          "base_uri": "https://localhost:8080/"
        },
        "outputId": "dfbf3668-cf64-42bc-fabf-de4da7435075"
      },
      "execution_count": 28,
      "outputs": [
        {
          "output_type": "execute_result",
          "data": {
            "text/plain": [
              "Point(-12.904217899999999, -38.341091608139536, 0.0)"
            ]
          },
          "metadata": {},
          "execution_count": 28
        }
      ]
    },
    {
      "cell_type": "code",
      "source": [
        "from geopy.extra.rate_limiter import RateLimiter"
      ],
      "metadata": {
        "id": "E_TGe5dNd0Mp"
      },
      "execution_count": 29,
      "outputs": []
    },
    {
      "cell_type": "markdown",
      "source": [
        "- Search all address from dataframe"
      ],
      "metadata": {
        "id": "n8MIisDo7peQ"
      }
    },
    {
      "cell_type": "code",
      "source": [
        "geocode = RateLimiter(geolocator.geocode, min_delay_seconds=1)"
      ],
      "metadata": {
        "id": "5WekEtrtCDTX"
      },
      "execution_count": 30,
      "outputs": []
    },
    {
      "cell_type": "code",
      "source": [
        "ppi_address_ajust['ppi_geocode'] = ppi_address_ajust['Empreendimento'].apply(geocode)"
      ],
      "metadata": {
        "id": "FDSJg_qe9b5h"
      },
      "execution_count": 31,
      "outputs": []
    },
    {
      "cell_type": "code",
      "source": [
        "ppi_address_ajust"
      ],
      "metadata": {
        "id": "Mx8C34LWJ92f"
      },
      "execution_count": null,
      "outputs": []
    },
    {
      "cell_type": "markdown",
      "source": [
        "- plot points of address "
      ],
      "metadata": {
        "id": "eKn-3p3k8B4v"
      }
    },
    {
      "cell_type": "code",
      "source": [
        "ppi_address_ajust['point'] = ppi_address_ajust['ppi_geocode'].apply(lambda loc: tuple(loc.point) if loc else None)"
      ],
      "metadata": {
        "id": "jSzpmx5Fd9ep"
      },
      "execution_count": 33,
      "outputs": []
    },
    {
      "cell_type": "markdown",
      "source": [
        "- ajust None's"
      ],
      "metadata": {
        "id": "eWl6V10P8Kwv"
      }
    },
    {
      "cell_type": "code",
      "source": [
        "pd.set_option('max_rows', 200)\n",
        "pd.set_option('max_columns', 100)"
      ],
      "metadata": {
        "id": "WmXQhocF4cvw"
      },
      "execution_count": 34,
      "outputs": []
    },
    {
      "cell_type": "code",
      "source": [
        "ppi_address_ajust"
      ],
      "metadata": {
        "id": "EfUSzYmThnCn"
      },
      "execution_count": null,
      "outputs": []
    },
    {
      "cell_type": "code",
      "source": [
        "ppi_address_ajust.isna()"
      ],
      "metadata": {
        "id": "D6z9-Gf3LeKU"
      },
      "execution_count": null,
      "outputs": []
    },
    {
      "cell_type": "markdown",
      "source": [
        "- New position from point values not null. "
      ],
      "metadata": {
        "id": "IaB4s4sUVzIg"
      }
    },
    {
      "cell_type": "code",
      "source": [
        "ppi_address_ajust.sort_values(by='point', ignore_index=True)"
      ],
      "metadata": {
        "id": "W-NhvyL0-PLY"
      },
      "execution_count": null,
      "outputs": []
    },
    {
      "cell_type": "code",
      "source": [
        "ppi_address_ajust.index"
      ],
      "metadata": {
        "colab": {
          "base_uri": "https://localhost:8080/"
        },
        "id": "yQTPk7o3UiDr",
        "outputId": "52abf556-2db1-4b34-c21b-17e1f309419a"
      },
      "execution_count": 38,
      "outputs": [
        {
          "output_type": "execute_result",
          "data": {
            "text/plain": [
              "RangeIndex(start=0, stop=191, step=1)"
            ]
          },
          "metadata": {},
          "execution_count": 38
        }
      ]
    },
    {
      "cell_type": "markdown",
      "source": [
        "# Trait DF "
      ],
      "metadata": {
        "id": "rgWyT83yT82N"
      }
    },
    {
      "cell_type": "code",
      "source": [
        "ppi_point = ppi_address_ajust"
      ],
      "metadata": {
        "id": "FDb0ZYpnQF4V"
      },
      "execution_count": 39,
      "outputs": []
    },
    {
      "cell_type": "code",
      "source": [
        "ppi_point"
      ],
      "metadata": {
        "id": "hXtTsvEYQR7l"
      },
      "execution_count": null,
      "outputs": []
    },
    {
      "cell_type": "code",
      "source": [
        "ppi_point.sort_values(by='point', ignore_index=True)"
      ],
      "metadata": {
        "id": "lx_gdXEIQcod"
      },
      "execution_count": null,
      "outputs": []
    },
    {
      "cell_type": "code",
      "source": [
        "ppi_point = ppi_point.drop(['Unnamed: 0'], axis=1)"
      ],
      "metadata": {
        "id": "g7vRwbOZSuZW"
      },
      "execution_count": 42,
      "outputs": []
    },
    {
      "cell_type": "code",
      "source": [
        "ppi_point_true = ppi_point.iloc[:30, :3]"
      ],
      "metadata": {
        "id": "UT-WlgngTQMd"
      },
      "execution_count": 43,
      "outputs": []
    },
    {
      "cell_type": "code",
      "source": [
        "ppi_point_true"
      ],
      "metadata": {
        "id": "ChETfCChUNfk"
      },
      "execution_count": null,
      "outputs": []
    },
    {
      "cell_type": "code",
      "source": [
        "ppi_point_false = ppi_point.iloc[30:191, :3]"
      ],
      "metadata": {
        "id": "hpf_lqHUUWn9"
      },
      "execution_count": 45,
      "outputs": []
    },
    {
      "cell_type": "code",
      "source": [
        "ppi_point_false"
      ],
      "metadata": {
        "id": "4fj5dTAMUzj8"
      },
      "execution_count": null,
      "outputs": []
    },
    {
      "cell_type": "code",
      "source": [
        "ppi_point_false.reset_index()"
      ],
      "metadata": {
        "id": "leMjfbOSWDyN"
      },
      "execution_count": null,
      "outputs": []
    },
    {
      "cell_type": "markdown",
      "source": [
        "# individual search by address \n",
        "- Observar o conjunto de caracteres e a forma que se adeque a busa pelo geocode \n",
        "\n",
        "  "
      ],
      "metadata": {
        "id": "oW84rH8DrwYE"
      }
    },
    {
      "cell_type": "code",
      "source": [
        "location_00 = geolocator.geocode('BR-116 - Presidente Dutra\t')"
      ],
      "metadata": {
        "id": "PreuJlxHVyWl"
      },
      "execution_count": 48,
      "outputs": []
    },
    {
      "cell_type": "code",
      "source": [
        "print(location_00)"
      ],
      "metadata": {
        "id": "T52k1PN7V4Kt"
      },
      "execution_count": null,
      "outputs": []
    },
    {
      "cell_type": "code",
      "source": [
        "# ppi_point = ppi_address_ajust.drop(['Unnamed: 0',\t'Empreendimento',\t'UF',\t'ppi_ajust_cols'], axis=1)"
      ],
      "metadata": {
        "id": "5tktKhjuPURF"
      },
      "execution_count": 50,
      "outputs": []
    },
    {
      "cell_type": "markdown",
      "source": [
        "# Automate address lookup \n",
        "- Definir e selecionar uma forma de sanar os problemas que impedem a busca pela geoposição pelo Geocode por célula do dataframe para sanar as deficiências de preenchimento.\n",
        "\n",
        " - Softskill - string handlings"
      ],
      "metadata": {
        "id": "DSFM6NAIF8rG"
      }
    },
    {
      "cell_type": "code",
      "source": [
        "import re "
      ],
      "metadata": {
        "id": "pPSgDuFMTBaY"
      },
      "execution_count": 51,
      "outputs": []
    },
    {
      "cell_type": "code",
      "source": [
        "ppi_address_search_00 = ppi_point_false.iloc[0:161, :1]"
      ],
      "metadata": {
        "id": "z6d0vPIKsAp0"
      },
      "execution_count": 52,
      "outputs": []
    },
    {
      "cell_type": "markdown",
      "source": [
        "- For find  condition\n",
        ">>> \n",
        "- equivalent to applying < re.findall() > \n",
        " - Series.str.findall(pat. flags=0) \n",
        "\n"
      ],
      "metadata": {
        "id": "do2G2M-XUDO5"
      }
    },
    {
      "cell_type": "code",
      "source": [
        "ppi_address_search_00.reset_index(inplace=True)"
      ],
      "metadata": {
        "id": "GEjfstBO2B79"
      },
      "execution_count": 53,
      "outputs": []
    },
    {
      "cell_type": "code",
      "source": [
        "len(ppi_address_search_00)"
      ],
      "metadata": {
        "id": "A5ntNK4T_WgZ",
        "colab": {
          "base_uri": "https://localhost:8080/"
        },
        "outputId": "81e86f57-9329-4666-d33e-25944667153e"
      },
      "execution_count": 54,
      "outputs": [
        {
          "output_type": "execute_result",
          "data": {
            "text/plain": [
              "161"
            ]
          },
          "metadata": {},
          "execution_count": 54
        }
      ]
    },
    {
      "cell_type": "code",
      "source": [
        "ppi_address_search_00.drop(columns='index', inplace=True)"
      ],
      "metadata": {
        "id": "JLf1qM0FU3ry"
      },
      "execution_count": 55,
      "outputs": []
    },
    {
      "cell_type": "code",
      "source": [
        "ppi_address_search_00"
      ],
      "metadata": {
        "id": "EaNcgEszXqnJ"
      },
      "execution_count": null,
      "outputs": []
    },
    {
      "cell_type": "code",
      "source": [
        "ppi_terminal = ppi_address_search_00[ppi_address_search_00['Empreendimento'].str.contains('Terminal')]"
      ],
      "metadata": {
        "id": "a8cnGfQW09Ah"
      },
      "execution_count": 57,
      "outputs": []
    },
    {
      "cell_type": "code",
      "source": [
        "ppi_terminal"
      ],
      "metadata": {
        "id": "3jEtRP0h9Bs6"
      },
      "execution_count": null,
      "outputs": []
    },
    {
      "cell_type": "code",
      "source": [
        "len(ppi_terminal)"
      ],
      "metadata": {
        "id": "X2Z3Kwc4_Ovy"
      },
      "execution_count": null,
      "outputs": []
    },
    {
      "cell_type": "code",
      "source": [
        "location_t = geolocator.geocode('Niterói/RJ')\n",
        "print(location_t)"
      ],
      "metadata": {
        "id": "PJrUkT3bYGZB"
      },
      "execution_count": null,
      "outputs": []
    },
    {
      "cell_type": "code",
      "source": [
        "ppi_terminal['terminais'] = ppi_terminal['Empreendimento'].str.find('Porto')"
      ],
      "metadata": {
        "id": "R_PAV_OQd3Bv"
      },
      "execution_count": null,
      "outputs": []
    },
    {
      "cell_type": "code",
      "source": [
        "ppi_terminal"
      ],
      "metadata": {
        "id": "1lorb6NyfPCG"
      },
      "execution_count": null,
      "outputs": []
    },
    {
      "cell_type": "code",
      "source": [
        "ppi_find_porto = ppi_terminal['Empreendimento'].str.find('Porto')"
      ],
      "metadata": {
        "id": "qiy1ZwUHjr7d"
      },
      "execution_count": 63,
      "outputs": []
    },
    {
      "cell_type": "code",
      "source": [
        "ppi_LT = ppi_address_search_00[ppi_address_search_00['Empreendimento'].str.contains('LT')]"
      ],
      "metadata": {
        "id": "2jD0-ggV-Xf6"
      },
      "execution_count": 66,
      "outputs": []
    },
    {
      "cell_type": "code",
      "source": [
        "ppi_LT"
      ],
      "metadata": {
        "id": "63-S5uhK-eHa"
      },
      "execution_count": null,
      "outputs": []
    },
    {
      "cell_type": "code",
      "source": [
        "len(ppi_LT)"
      ],
      "metadata": {
        "id": "2zeSFMn9_G6h",
        "colab": {
          "base_uri": "https://localhost:8080/"
        },
        "outputId": "7a5243e6-1b3b-4946-f2c3-d4d01a2e061d"
      },
      "execution_count": 68,
      "outputs": [
        {
          "output_type": "execute_result",
          "data": {
            "text/plain": [
              "54"
            ]
          },
          "metadata": {},
          "execution_count": 68
        }
      ]
    },
    {
      "cell_type": "markdown",
      "source": [
        "- Comparar e identificar as culunas"
      ],
      "metadata": {
        "id": "3CPyCUPpgI7_"
      }
    },
    {
      "cell_type": "markdown",
      "source": [
        "# To remember codes: "
      ],
      "metadata": {
        "id": "_S5t37sZJD2u"
      }
    },
    {
      "cell_type": "code",
      "source": [
        "#show\n",
        "# ppi_address_ajust.index.values\n",
        "# ppi_address_ajust.Geom.values\n",
        "# type(ppi_address_ajust.Geom.values)\n",
        "\n",
        "# rename \n",
        "# ppi_address_ajust.rename(columns= {'Unnamed: 0': 'Rows_place'}, inplace=True )"
      ],
      "metadata": {
        "id": "MSr_WvN1JQyh"
      },
      "execution_count": null,
      "outputs": []
    },
    {
      "cell_type": "markdown",
      "source": [
        ""
      ],
      "metadata": {
        "id": "uv3GDIWGknen"
      }
    },
    {
      "cell_type": "code",
      "source": [
        ""
      ],
      "metadata": {
        "id": "8Rd97LI9kmp3"
      },
      "execution_count": null,
      "outputs": []
    }
  ]
}