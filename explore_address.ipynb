{
  "nbformat": 4,
  "nbformat_minor": 0,
  "metadata": {
    "colab": {
      "name": "explore_address.ipynb",
      "provenance": [],
      "authorship_tag": "ABX9TyN6nSn6c43N/XwshNhqKHZK"
    },
    "kernelspec": {
      "name": "python3",
      "display_name": "Python 3"
    },
    "language_info": {
      "name": "python"
    }
  },
  "cells": [
    {
      "cell_type": "markdown",
      "source": [
        "# Clearing address from dataframe origin - Tratando base de dados dos endereços do dataframe original. "
      ],
      "metadata": {
        "id": "erIUv5xGEaeX"
      }
    },
    {
      "cell_type": "code",
      "source": [
        "!pip install geopandas  "
      ],
      "metadata": {
        "id": "jQ6tC91wIv7J"
      },
      "execution_count": null,
      "outputs": []
    },
    {
      "cell_type": "code",
      "source": [
        "!pip install shapely"
      ],
      "metadata": {
        "id": "qm77pVuX6llo",
        "colab": {
          "base_uri": "https://localhost:8080/"
        },
        "outputId": "b5fc282c-c12e-4feb-d78f-01422643bc5d"
      },
      "execution_count": 2,
      "outputs": [
        {
          "output_type": "stream",
          "name": "stdout",
          "text": [
            "Requirement already satisfied: shapely in /usr/local/lib/python3.7/dist-packages (1.8.1.post1)\n"
          ]
        }
      ]
    },
    {
      "cell_type": "code",
      "source": [
        "import matplotlib \n",
        "import pandas as pd\n",
        "import geopandas as gpd"
      ],
      "metadata": {
        "id": "6id4vOYdEMfA"
      },
      "execution_count": 3,
      "outputs": []
    },
    {
      "cell_type": "code",
      "source": [
        "from shapely.geometry import Point, Polygon  "
      ],
      "metadata": {
        "id": "gftQ2VBZ6rV4"
      },
      "execution_count": 4,
      "outputs": []
    },
    {
      "cell_type": "code",
      "source": [
        "from geopandas import geoseries "
      ],
      "metadata": {
        "id": "yomF-GQMN_7v"
      },
      "execution_count": 5,
      "outputs": []
    },
    {
      "cell_type": "markdown",
      "source": [
        "- csv file generated from building.ipynb notebook. -- Arquivo csv gerado a partir do notebook building.ipynb. "
      ],
      "metadata": {
        "id": "Qsb0msbEFgUM"
      }
    },
    {
      "cell_type": "code",
      "execution_count": 6,
      "metadata": {
        "id": "Bn8kbe8TD64L",
        "colab": {
          "base_uri": "https://localhost:8080/",
          "height": 206
        },
        "outputId": "3d6fa52f-80ad-4246-c594-0c167a415399"
      },
      "outputs": [
        {
          "output_type": "execute_result",
          "data": {
            "text/plain": [
              "   Unnamed: 0                  Empreendimento  UF\n",
              "0           0       Aeroporto de Salvador/ BA  BA\n",
              "1           1  Aeroporto de Florianópolis/ SC  SC\n",
              "2           2      Aeroporto de Fortaleza/ CE  CE\n",
              "3           3   Aeroporto de Porto Alegre/ RS  RS\n",
              "4           4         Aeroporto de Maceió/ AL  AL"
            ],
            "text/html": [
              "\n",
              "  <div id=\"df-dedf9038-ca18-4f1c-a2e9-71fd01446f52\">\n",
              "    <div class=\"colab-df-container\">\n",
              "      <div>\n",
              "<style scoped>\n",
              "    .dataframe tbody tr th:only-of-type {\n",
              "        vertical-align: middle;\n",
              "    }\n",
              "\n",
              "    .dataframe tbody tr th {\n",
              "        vertical-align: top;\n",
              "    }\n",
              "\n",
              "    .dataframe thead th {\n",
              "        text-align: right;\n",
              "    }\n",
              "</style>\n",
              "<table border=\"1\" class=\"dataframe\">\n",
              "  <thead>\n",
              "    <tr style=\"text-align: right;\">\n",
              "      <th></th>\n",
              "      <th>Unnamed: 0</th>\n",
              "      <th>Empreendimento</th>\n",
              "      <th>UF</th>\n",
              "    </tr>\n",
              "  </thead>\n",
              "  <tbody>\n",
              "    <tr>\n",
              "      <th>0</th>\n",
              "      <td>0</td>\n",
              "      <td>Aeroporto de Salvador/ BA</td>\n",
              "      <td>BA</td>\n",
              "    </tr>\n",
              "    <tr>\n",
              "      <th>1</th>\n",
              "      <td>1</td>\n",
              "      <td>Aeroporto de Florianópolis/ SC</td>\n",
              "      <td>SC</td>\n",
              "    </tr>\n",
              "    <tr>\n",
              "      <th>2</th>\n",
              "      <td>2</td>\n",
              "      <td>Aeroporto de Fortaleza/ CE</td>\n",
              "      <td>CE</td>\n",
              "    </tr>\n",
              "    <tr>\n",
              "      <th>3</th>\n",
              "      <td>3</td>\n",
              "      <td>Aeroporto de Porto Alegre/ RS</td>\n",
              "      <td>RS</td>\n",
              "    </tr>\n",
              "    <tr>\n",
              "      <th>4</th>\n",
              "      <td>4</td>\n",
              "      <td>Aeroporto de Maceió/ AL</td>\n",
              "      <td>AL</td>\n",
              "    </tr>\n",
              "  </tbody>\n",
              "</table>\n",
              "</div>\n",
              "      <button class=\"colab-df-convert\" onclick=\"convertToInteractive('df-dedf9038-ca18-4f1c-a2e9-71fd01446f52')\"\n",
              "              title=\"Convert this dataframe to an interactive table.\"\n",
              "              style=\"display:none;\">\n",
              "        \n",
              "  <svg xmlns=\"http://www.w3.org/2000/svg\" height=\"24px\"viewBox=\"0 0 24 24\"\n",
              "       width=\"24px\">\n",
              "    <path d=\"M0 0h24v24H0V0z\" fill=\"none\"/>\n",
              "    <path d=\"M18.56 5.44l.94 2.06.94-2.06 2.06-.94-2.06-.94-.94-2.06-.94 2.06-2.06.94zm-11 1L8.5 8.5l.94-2.06 2.06-.94-2.06-.94L8.5 2.5l-.94 2.06-2.06.94zm10 10l.94 2.06.94-2.06 2.06-.94-2.06-.94-.94-2.06-.94 2.06-2.06.94z\"/><path d=\"M17.41 7.96l-1.37-1.37c-.4-.4-.92-.59-1.43-.59-.52 0-1.04.2-1.43.59L10.3 9.45l-7.72 7.72c-.78.78-.78 2.05 0 2.83L4 21.41c.39.39.9.59 1.41.59.51 0 1.02-.2 1.41-.59l7.78-7.78 2.81-2.81c.8-.78.8-2.07 0-2.86zM5.41 20L4 18.59l7.72-7.72 1.47 1.35L5.41 20z\"/>\n",
              "  </svg>\n",
              "      </button>\n",
              "      \n",
              "  <style>\n",
              "    .colab-df-container {\n",
              "      display:flex;\n",
              "      flex-wrap:wrap;\n",
              "      gap: 12px;\n",
              "    }\n",
              "\n",
              "    .colab-df-convert {\n",
              "      background-color: #E8F0FE;\n",
              "      border: none;\n",
              "      border-radius: 50%;\n",
              "      cursor: pointer;\n",
              "      display: none;\n",
              "      fill: #1967D2;\n",
              "      height: 32px;\n",
              "      padding: 0 0 0 0;\n",
              "      width: 32px;\n",
              "    }\n",
              "\n",
              "    .colab-df-convert:hover {\n",
              "      background-color: #E2EBFA;\n",
              "      box-shadow: 0px 1px 2px rgba(60, 64, 67, 0.3), 0px 1px 3px 1px rgba(60, 64, 67, 0.15);\n",
              "      fill: #174EA6;\n",
              "    }\n",
              "\n",
              "    [theme=dark] .colab-df-convert {\n",
              "      background-color: #3B4455;\n",
              "      fill: #D2E3FC;\n",
              "    }\n",
              "\n",
              "    [theme=dark] .colab-df-convert:hover {\n",
              "      background-color: #434B5C;\n",
              "      box-shadow: 0px 1px 3px 1px rgba(0, 0, 0, 0.15);\n",
              "      filter: drop-shadow(0px 1px 2px rgba(0, 0, 0, 0.3));\n",
              "      fill: #FFFFFF;\n",
              "    }\n",
              "  </style>\n",
              "\n",
              "      <script>\n",
              "        const buttonEl =\n",
              "          document.querySelector('#df-dedf9038-ca18-4f1c-a2e9-71fd01446f52 button.colab-df-convert');\n",
              "        buttonEl.style.display =\n",
              "          google.colab.kernel.accessAllowed ? 'block' : 'none';\n",
              "\n",
              "        async function convertToInteractive(key) {\n",
              "          const element = document.querySelector('#df-dedf9038-ca18-4f1c-a2e9-71fd01446f52');\n",
              "          const dataTable =\n",
              "            await google.colab.kernel.invokeFunction('convertToInteractive',\n",
              "                                                     [key], {});\n",
              "          if (!dataTable) return;\n",
              "\n",
              "          const docLinkHtml = 'Like what you see? Visit the ' +\n",
              "            '<a target=\"_blank\" href=https://colab.research.google.com/notebooks/data_table.ipynb>data table notebook</a>'\n",
              "            + ' to learn more about interactive tables.';\n",
              "          element.innerHTML = '';\n",
              "          dataTable['output_type'] = 'display_data';\n",
              "          await google.colab.output.renderOutput(dataTable, element);\n",
              "          const docLink = document.createElement('div');\n",
              "          docLink.innerHTML = docLinkHtml;\n",
              "          element.appendChild(docLink);\n",
              "        }\n",
              "      </script>\n",
              "    </div>\n",
              "  </div>\n",
              "  "
            ]
          },
          "metadata": {},
          "execution_count": 6
        }
      ],
      "source": [
        "ppi_address_ajust = '/content/address_ppi.csv'\n",
        "ppi_address_ajust = pd.read_csv(ppi_address_ajust, encoding='ISO-8859-1')\n",
        "ppi_address_ajust.head()"
      ]
    },
    {
      "cell_type": "code",
      "source": [
        "ppi_address_ajust.drop('Unnamed: 0', axis = 1)"
      ],
      "metadata": {
        "id": "sM3MwtwOew_v",
        "colab": {
          "base_uri": "https://localhost:8080/",
          "height": 424
        },
        "outputId": "9f0d8244-82d4-4e7d-f782-c4fc44ec3a32"
      },
      "execution_count": 7,
      "outputs": [
        {
          "output_type": "execute_result",
          "data": {
            "text/plain": [
              "                                        Empreendimento     UF\n",
              "0                            Aeroporto de Salvador/ BA     BA\n",
              "1                       Aeroporto de Florianópolis/ SC     SC\n",
              "2                           Aeroporto de Fortaleza/ CE     CE\n",
              "3                        Aeroporto de Porto Alegre/ RS     RS\n",
              "4                              Aeroporto de Maceió/ AL     AL\n",
              "..                                                 ...    ...\n",
              "186  LOTE 9, Atendimento elétrico à região sudeste ...  AM/PA\n",
              "187  LOTE 10, Expansão do sistema de transmissão pa...  RJ/ES\n",
              "188             Rodovia BR-153/282/470/SC e SC-412  \\n     SC\n",
              "189  EF-118 Ferrovia Rio-Vitória (Trecho de Nova Ig...  RJ/ES\n",
              "190  EF-151 Ferrovia Norte-Sul (Trecho de Açailândi...  MA/PA\n",
              "\n",
              "[191 rows x 2 columns]"
            ],
            "text/html": [
              "\n",
              "  <div id=\"df-81fdcbf4-e23e-405b-ae0b-b9e61e6fd800\">\n",
              "    <div class=\"colab-df-container\">\n",
              "      <div>\n",
              "<style scoped>\n",
              "    .dataframe tbody tr th:only-of-type {\n",
              "        vertical-align: middle;\n",
              "    }\n",
              "\n",
              "    .dataframe tbody tr th {\n",
              "        vertical-align: top;\n",
              "    }\n",
              "\n",
              "    .dataframe thead th {\n",
              "        text-align: right;\n",
              "    }\n",
              "</style>\n",
              "<table border=\"1\" class=\"dataframe\">\n",
              "  <thead>\n",
              "    <tr style=\"text-align: right;\">\n",
              "      <th></th>\n",
              "      <th>Empreendimento</th>\n",
              "      <th>UF</th>\n",
              "    </tr>\n",
              "  </thead>\n",
              "  <tbody>\n",
              "    <tr>\n",
              "      <th>0</th>\n",
              "      <td>Aeroporto de Salvador/ BA</td>\n",
              "      <td>BA</td>\n",
              "    </tr>\n",
              "    <tr>\n",
              "      <th>1</th>\n",
              "      <td>Aeroporto de Florianópolis/ SC</td>\n",
              "      <td>SC</td>\n",
              "    </tr>\n",
              "    <tr>\n",
              "      <th>2</th>\n",
              "      <td>Aeroporto de Fortaleza/ CE</td>\n",
              "      <td>CE</td>\n",
              "    </tr>\n",
              "    <tr>\n",
              "      <th>3</th>\n",
              "      <td>Aeroporto de Porto Alegre/ RS</td>\n",
              "      <td>RS</td>\n",
              "    </tr>\n",
              "    <tr>\n",
              "      <th>4</th>\n",
              "      <td>Aeroporto de Maceió/ AL</td>\n",
              "      <td>AL</td>\n",
              "    </tr>\n",
              "    <tr>\n",
              "      <th>...</th>\n",
              "      <td>...</td>\n",
              "      <td>...</td>\n",
              "    </tr>\n",
              "    <tr>\n",
              "      <th>186</th>\n",
              "      <td>LOTE 9, Atendimento elétrico à região sudeste ...</td>\n",
              "      <td>AM/PA</td>\n",
              "    </tr>\n",
              "    <tr>\n",
              "      <th>187</th>\n",
              "      <td>LOTE 10, Expansão do sistema de transmissão pa...</td>\n",
              "      <td>RJ/ES</td>\n",
              "    </tr>\n",
              "    <tr>\n",
              "      <th>188</th>\n",
              "      <td>Rodovia BR-153/282/470/SC e SC-412  \\n</td>\n",
              "      <td>SC</td>\n",
              "    </tr>\n",
              "    <tr>\n",
              "      <th>189</th>\n",
              "      <td>EF-118 Ferrovia Rio-Vitória (Trecho de Nova Ig...</td>\n",
              "      <td>RJ/ES</td>\n",
              "    </tr>\n",
              "    <tr>\n",
              "      <th>190</th>\n",
              "      <td>EF-151 Ferrovia Norte-Sul (Trecho de Açailândi...</td>\n",
              "      <td>MA/PA</td>\n",
              "    </tr>\n",
              "  </tbody>\n",
              "</table>\n",
              "<p>191 rows × 2 columns</p>\n",
              "</div>\n",
              "      <button class=\"colab-df-convert\" onclick=\"convertToInteractive('df-81fdcbf4-e23e-405b-ae0b-b9e61e6fd800')\"\n",
              "              title=\"Convert this dataframe to an interactive table.\"\n",
              "              style=\"display:none;\">\n",
              "        \n",
              "  <svg xmlns=\"http://www.w3.org/2000/svg\" height=\"24px\"viewBox=\"0 0 24 24\"\n",
              "       width=\"24px\">\n",
              "    <path d=\"M0 0h24v24H0V0z\" fill=\"none\"/>\n",
              "    <path d=\"M18.56 5.44l.94 2.06.94-2.06 2.06-.94-2.06-.94-.94-2.06-.94 2.06-2.06.94zm-11 1L8.5 8.5l.94-2.06 2.06-.94-2.06-.94L8.5 2.5l-.94 2.06-2.06.94zm10 10l.94 2.06.94-2.06 2.06-.94-2.06-.94-.94-2.06-.94 2.06-2.06.94z\"/><path d=\"M17.41 7.96l-1.37-1.37c-.4-.4-.92-.59-1.43-.59-.52 0-1.04.2-1.43.59L10.3 9.45l-7.72 7.72c-.78.78-.78 2.05 0 2.83L4 21.41c.39.39.9.59 1.41.59.51 0 1.02-.2 1.41-.59l7.78-7.78 2.81-2.81c.8-.78.8-2.07 0-2.86zM5.41 20L4 18.59l7.72-7.72 1.47 1.35L5.41 20z\"/>\n",
              "  </svg>\n",
              "      </button>\n",
              "      \n",
              "  <style>\n",
              "    .colab-df-container {\n",
              "      display:flex;\n",
              "      flex-wrap:wrap;\n",
              "      gap: 12px;\n",
              "    }\n",
              "\n",
              "    .colab-df-convert {\n",
              "      background-color: #E8F0FE;\n",
              "      border: none;\n",
              "      border-radius: 50%;\n",
              "      cursor: pointer;\n",
              "      display: none;\n",
              "      fill: #1967D2;\n",
              "      height: 32px;\n",
              "      padding: 0 0 0 0;\n",
              "      width: 32px;\n",
              "    }\n",
              "\n",
              "    .colab-df-convert:hover {\n",
              "      background-color: #E2EBFA;\n",
              "      box-shadow: 0px 1px 2px rgba(60, 64, 67, 0.3), 0px 1px 3px 1px rgba(60, 64, 67, 0.15);\n",
              "      fill: #174EA6;\n",
              "    }\n",
              "\n",
              "    [theme=dark] .colab-df-convert {\n",
              "      background-color: #3B4455;\n",
              "      fill: #D2E3FC;\n",
              "    }\n",
              "\n",
              "    [theme=dark] .colab-df-convert:hover {\n",
              "      background-color: #434B5C;\n",
              "      box-shadow: 0px 1px 3px 1px rgba(0, 0, 0, 0.15);\n",
              "      filter: drop-shadow(0px 1px 2px rgba(0, 0, 0, 0.3));\n",
              "      fill: #FFFFFF;\n",
              "    }\n",
              "  </style>\n",
              "\n",
              "      <script>\n",
              "        const buttonEl =\n",
              "          document.querySelector('#df-81fdcbf4-e23e-405b-ae0b-b9e61e6fd800 button.colab-df-convert');\n",
              "        buttonEl.style.display =\n",
              "          google.colab.kernel.accessAllowed ? 'block' : 'none';\n",
              "\n",
              "        async function convertToInteractive(key) {\n",
              "          const element = document.querySelector('#df-81fdcbf4-e23e-405b-ae0b-b9e61e6fd800');\n",
              "          const dataTable =\n",
              "            await google.colab.kernel.invokeFunction('convertToInteractive',\n",
              "                                                     [key], {});\n",
              "          if (!dataTable) return;\n",
              "\n",
              "          const docLinkHtml = 'Like what you see? Visit the ' +\n",
              "            '<a target=\"_blank\" href=https://colab.research.google.com/notebooks/data_table.ipynb>data table notebook</a>'\n",
              "            + ' to learn more about interactive tables.';\n",
              "          element.innerHTML = '';\n",
              "          dataTable['output_type'] = 'display_data';\n",
              "          await google.colab.output.renderOutput(dataTable, element);\n",
              "          const docLink = document.createElement('div');\n",
              "          docLink.innerHTML = docLinkHtml;\n",
              "          element.appendChild(docLink);\n",
              "        }\n",
              "      </script>\n",
              "    </div>\n",
              "  </div>\n",
              "  "
            ]
          },
          "metadata": {},
          "execution_count": 7
        }
      ]
    },
    {
      "cell_type": "code",
      "source": [
        "ppi_address_ajust.dtypes"
      ],
      "metadata": {
        "id": "g3gBNDAldQ4X",
        "colab": {
          "base_uri": "https://localhost:8080/"
        },
        "outputId": "4b548f6d-2c1b-41b0-971c-ee7b5fb4c647"
      },
      "execution_count": 8,
      "outputs": [
        {
          "output_type": "execute_result",
          "data": {
            "text/plain": [
              "Unnamed: 0         int64\n",
              "Empreendimento    object\n",
              "UF                object\n",
              "dtype: object"
            ]
          },
          "metadata": {},
          "execution_count": 8
        }
      ]
    },
    {
      "cell_type": "code",
      "source": [
        "ppi_address_ajust.values"
      ],
      "metadata": {
        "id": "vlwq8234dcgv"
      },
      "execution_count": null,
      "outputs": []
    },
    {
      "cell_type": "code",
      "source": [
        "ppi_address_ajust['ppi_ajust_cols'] = ppi_address_ajust['Empreendimento'] + '/' + ppi_address_ajust['UF']"
      ],
      "metadata": {
        "id": "HBm26RmfMYuz"
      },
      "execution_count": 10,
      "outputs": []
    },
    {
      "cell_type": "code",
      "source": [
        "ppi_address_ajust"
      ],
      "metadata": {
        "id": "oTsVIvp8M8Oz",
        "colab": {
          "base_uri": "https://localhost:8080/",
          "height": 424
        },
        "outputId": "a63487fd-a929-4bd3-c8db-d2ad487afe53"
      },
      "execution_count": 11,
      "outputs": [
        {
          "output_type": "execute_result",
          "data": {
            "text/plain": [
              "     Unnamed: 0                                     Empreendimento     UF  \\\n",
              "0             0                          Aeroporto de Salvador/ BA     BA   \n",
              "1             1                     Aeroporto de Florianópolis/ SC     SC   \n",
              "2             2                         Aeroporto de Fortaleza/ CE     CE   \n",
              "3             3                      Aeroporto de Porto Alegre/ RS     RS   \n",
              "4             4                            Aeroporto de Maceió/ AL     AL   \n",
              "..          ...                                                ...    ...   \n",
              "186         186  LOTE 9, Atendimento elétrico à região sudeste ...  AM/PA   \n",
              "187         187  LOTE 10, Expansão do sistema de transmissão pa...  RJ/ES   \n",
              "188         188             Rodovia BR-153/282/470/SC e SC-412  \\n     SC   \n",
              "189         189  EF-118 Ferrovia Rio-Vitória (Trecho de Nova Ig...  RJ/ES   \n",
              "190         190  EF-151 Ferrovia Norte-Sul (Trecho de Açailândi...  MA/PA   \n",
              "\n",
              "                                        ppi_ajust_cols  \n",
              "0                         Aeroporto de Salvador/ BA/BA  \n",
              "1                    Aeroporto de Florianópolis/ SC/SC  \n",
              "2                        Aeroporto de Fortaleza/ CE/CE  \n",
              "3                     Aeroporto de Porto Alegre/ RS/RS  \n",
              "4                           Aeroporto de Maceió/ AL/AL  \n",
              "..                                                 ...  \n",
              "186  LOTE 9, Atendimento elétrico à região sudeste ...  \n",
              "187  LOTE 10, Expansão do sistema de transmissão pa...  \n",
              "188          Rodovia BR-153/282/470/SC e SC-412  \\n/SC  \n",
              "189  EF-118 Ferrovia Rio-Vitória (Trecho de Nova Ig...  \n",
              "190  EF-151 Ferrovia Norte-Sul (Trecho de Açailândi...  \n",
              "\n",
              "[191 rows x 4 columns]"
            ],
            "text/html": [
              "\n",
              "  <div id=\"df-088b40b3-2203-40c8-8342-d768c7d30a5c\">\n",
              "    <div class=\"colab-df-container\">\n",
              "      <div>\n",
              "<style scoped>\n",
              "    .dataframe tbody tr th:only-of-type {\n",
              "        vertical-align: middle;\n",
              "    }\n",
              "\n",
              "    .dataframe tbody tr th {\n",
              "        vertical-align: top;\n",
              "    }\n",
              "\n",
              "    .dataframe thead th {\n",
              "        text-align: right;\n",
              "    }\n",
              "</style>\n",
              "<table border=\"1\" class=\"dataframe\">\n",
              "  <thead>\n",
              "    <tr style=\"text-align: right;\">\n",
              "      <th></th>\n",
              "      <th>Unnamed: 0</th>\n",
              "      <th>Empreendimento</th>\n",
              "      <th>UF</th>\n",
              "      <th>ppi_ajust_cols</th>\n",
              "    </tr>\n",
              "  </thead>\n",
              "  <tbody>\n",
              "    <tr>\n",
              "      <th>0</th>\n",
              "      <td>0</td>\n",
              "      <td>Aeroporto de Salvador/ BA</td>\n",
              "      <td>BA</td>\n",
              "      <td>Aeroporto de Salvador/ BA/BA</td>\n",
              "    </tr>\n",
              "    <tr>\n",
              "      <th>1</th>\n",
              "      <td>1</td>\n",
              "      <td>Aeroporto de Florianópolis/ SC</td>\n",
              "      <td>SC</td>\n",
              "      <td>Aeroporto de Florianópolis/ SC/SC</td>\n",
              "    </tr>\n",
              "    <tr>\n",
              "      <th>2</th>\n",
              "      <td>2</td>\n",
              "      <td>Aeroporto de Fortaleza/ CE</td>\n",
              "      <td>CE</td>\n",
              "      <td>Aeroporto de Fortaleza/ CE/CE</td>\n",
              "    </tr>\n",
              "    <tr>\n",
              "      <th>3</th>\n",
              "      <td>3</td>\n",
              "      <td>Aeroporto de Porto Alegre/ RS</td>\n",
              "      <td>RS</td>\n",
              "      <td>Aeroporto de Porto Alegre/ RS/RS</td>\n",
              "    </tr>\n",
              "    <tr>\n",
              "      <th>4</th>\n",
              "      <td>4</td>\n",
              "      <td>Aeroporto de Maceió/ AL</td>\n",
              "      <td>AL</td>\n",
              "      <td>Aeroporto de Maceió/ AL/AL</td>\n",
              "    </tr>\n",
              "    <tr>\n",
              "      <th>...</th>\n",
              "      <td>...</td>\n",
              "      <td>...</td>\n",
              "      <td>...</td>\n",
              "      <td>...</td>\n",
              "    </tr>\n",
              "    <tr>\n",
              "      <th>186</th>\n",
              "      <td>186</td>\n",
              "      <td>LOTE 9, Atendimento elétrico à região sudeste ...</td>\n",
              "      <td>AM/PA</td>\n",
              "      <td>LOTE 9, Atendimento elétrico à região sudeste ...</td>\n",
              "    </tr>\n",
              "    <tr>\n",
              "      <th>187</th>\n",
              "      <td>187</td>\n",
              "      <td>LOTE 10, Expansão do sistema de transmissão pa...</td>\n",
              "      <td>RJ/ES</td>\n",
              "      <td>LOTE 10, Expansão do sistema de transmissão pa...</td>\n",
              "    </tr>\n",
              "    <tr>\n",
              "      <th>188</th>\n",
              "      <td>188</td>\n",
              "      <td>Rodovia BR-153/282/470/SC e SC-412  \\n</td>\n",
              "      <td>SC</td>\n",
              "      <td>Rodovia BR-153/282/470/SC e SC-412  \\n/SC</td>\n",
              "    </tr>\n",
              "    <tr>\n",
              "      <th>189</th>\n",
              "      <td>189</td>\n",
              "      <td>EF-118 Ferrovia Rio-Vitória (Trecho de Nova Ig...</td>\n",
              "      <td>RJ/ES</td>\n",
              "      <td>EF-118 Ferrovia Rio-Vitória (Trecho de Nova Ig...</td>\n",
              "    </tr>\n",
              "    <tr>\n",
              "      <th>190</th>\n",
              "      <td>190</td>\n",
              "      <td>EF-151 Ferrovia Norte-Sul (Trecho de Açailândi...</td>\n",
              "      <td>MA/PA</td>\n",
              "      <td>EF-151 Ferrovia Norte-Sul (Trecho de Açailândi...</td>\n",
              "    </tr>\n",
              "  </tbody>\n",
              "</table>\n",
              "<p>191 rows × 4 columns</p>\n",
              "</div>\n",
              "      <button class=\"colab-df-convert\" onclick=\"convertToInteractive('df-088b40b3-2203-40c8-8342-d768c7d30a5c')\"\n",
              "              title=\"Convert this dataframe to an interactive table.\"\n",
              "              style=\"display:none;\">\n",
              "        \n",
              "  <svg xmlns=\"http://www.w3.org/2000/svg\" height=\"24px\"viewBox=\"0 0 24 24\"\n",
              "       width=\"24px\">\n",
              "    <path d=\"M0 0h24v24H0V0z\" fill=\"none\"/>\n",
              "    <path d=\"M18.56 5.44l.94 2.06.94-2.06 2.06-.94-2.06-.94-.94-2.06-.94 2.06-2.06.94zm-11 1L8.5 8.5l.94-2.06 2.06-.94-2.06-.94L8.5 2.5l-.94 2.06-2.06.94zm10 10l.94 2.06.94-2.06 2.06-.94-2.06-.94-.94-2.06-.94 2.06-2.06.94z\"/><path d=\"M17.41 7.96l-1.37-1.37c-.4-.4-.92-.59-1.43-.59-.52 0-1.04.2-1.43.59L10.3 9.45l-7.72 7.72c-.78.78-.78 2.05 0 2.83L4 21.41c.39.39.9.59 1.41.59.51 0 1.02-.2 1.41-.59l7.78-7.78 2.81-2.81c.8-.78.8-2.07 0-2.86zM5.41 20L4 18.59l7.72-7.72 1.47 1.35L5.41 20z\"/>\n",
              "  </svg>\n",
              "      </button>\n",
              "      \n",
              "  <style>\n",
              "    .colab-df-container {\n",
              "      display:flex;\n",
              "      flex-wrap:wrap;\n",
              "      gap: 12px;\n",
              "    }\n",
              "\n",
              "    .colab-df-convert {\n",
              "      background-color: #E8F0FE;\n",
              "      border: none;\n",
              "      border-radius: 50%;\n",
              "      cursor: pointer;\n",
              "      display: none;\n",
              "      fill: #1967D2;\n",
              "      height: 32px;\n",
              "      padding: 0 0 0 0;\n",
              "      width: 32px;\n",
              "    }\n",
              "\n",
              "    .colab-df-convert:hover {\n",
              "      background-color: #E2EBFA;\n",
              "      box-shadow: 0px 1px 2px rgba(60, 64, 67, 0.3), 0px 1px 3px 1px rgba(60, 64, 67, 0.15);\n",
              "      fill: #174EA6;\n",
              "    }\n",
              "\n",
              "    [theme=dark] .colab-df-convert {\n",
              "      background-color: #3B4455;\n",
              "      fill: #D2E3FC;\n",
              "    }\n",
              "\n",
              "    [theme=dark] .colab-df-convert:hover {\n",
              "      background-color: #434B5C;\n",
              "      box-shadow: 0px 1px 3px 1px rgba(0, 0, 0, 0.15);\n",
              "      filter: drop-shadow(0px 1px 2px rgba(0, 0, 0, 0.3));\n",
              "      fill: #FFFFFF;\n",
              "    }\n",
              "  </style>\n",
              "\n",
              "      <script>\n",
              "        const buttonEl =\n",
              "          document.querySelector('#df-088b40b3-2203-40c8-8342-d768c7d30a5c button.colab-df-convert');\n",
              "        buttonEl.style.display =\n",
              "          google.colab.kernel.accessAllowed ? 'block' : 'none';\n",
              "\n",
              "        async function convertToInteractive(key) {\n",
              "          const element = document.querySelector('#df-088b40b3-2203-40c8-8342-d768c7d30a5c');\n",
              "          const dataTable =\n",
              "            await google.colab.kernel.invokeFunction('convertToInteractive',\n",
              "                                                     [key], {});\n",
              "          if (!dataTable) return;\n",
              "\n",
              "          const docLinkHtml = 'Like what you see? Visit the ' +\n",
              "            '<a target=\"_blank\" href=https://colab.research.google.com/notebooks/data_table.ipynb>data table notebook</a>'\n",
              "            + ' to learn more about interactive tables.';\n",
              "          element.innerHTML = '';\n",
              "          dataTable['output_type'] = 'display_data';\n",
              "          await google.colab.output.renderOutput(dataTable, element);\n",
              "          const docLink = document.createElement('div');\n",
              "          docLink.innerHTML = docLinkHtml;\n",
              "          element.appendChild(docLink);\n",
              "        }\n",
              "      </script>\n",
              "    </div>\n",
              "  </div>\n",
              "  "
            ]
          },
          "metadata": {},
          "execution_count": 11
        }
      ]
    },
    {
      "cell_type": "code",
      "source": [
        "pd.set_option('max_rows', 200)\n",
        "pd.set_option('max_columns', 100)"
      ],
      "metadata": {
        "id": "Qjm-9QD_MkTy"
      },
      "execution_count": 12,
      "outputs": []
    },
    {
      "cell_type": "markdown",
      "source": [
        "- 'brazil_states' "
      ],
      "metadata": {
        "id": "yEm1Ol2UTk5g"
      }
    },
    {
      "cell_type": "markdown",
      "source": [
        "# Tools Geocode, for point location \n",
        " - return GeometryCollection empty"
      ],
      "metadata": {
        "id": "yEqR-Bi13-ua"
      }
    },
    {
      "cell_type": "code",
      "source": [
        "# gpd.tools.geocode(ppi_address_ajust['Empreendimento'], provider = 'nominatim', user_agent='UF Builds', country_bias = 'Brazil')"
      ],
      "metadata": {
        "id": "fMnNiJHFSDDJ"
      },
      "execution_count": 13,
      "outputs": []
    },
    {
      "cell_type": "code",
      "source": [
        "# ppi_address_ajust['Geom'] = gpd.tools.geocode(ppi_address_ajust['Empreendimento'], provider = 'nominatim', user_agent='UF Builds', country_bias = 'brazil_states')['geometry']"
      ],
      "metadata": {
        "id": "wUzD2NPlJ0Ag"
      },
      "execution_count": 14,
      "outputs": []
    },
    {
      "cell_type": "code",
      "source": [
        "# ppi_address_ajust"
      ],
      "metadata": {
        "id": "rk51MiOXJePY"
      },
      "execution_count": 15,
      "outputs": []
    },
    {
      "cell_type": "code",
      "source": [
        "# ppi_address_ajust.loc[ppi_address_ajust['Geom'] == 'GEOMETRYCOLLECTION EMPTY', 'Geom'].head()"
      ],
      "metadata": {
        "id": "A3qX9kWbI83x"
      },
      "execution_count": 16,
      "outputs": []
    },
    {
      "cell_type": "code",
      "source": [
        "# ppi_address_ajust.drop_duplicates() # if have, < inplace = True > "
      ],
      "metadata": {
        "id": "NiQ_hNueZNzd"
      },
      "execution_count": 17,
      "outputs": []
    },
    {
      "cell_type": "markdown",
      "source": [
        "# Geocoders implementation for locations acess - implementação de acesso das localizações usando o Geocoders \n",
        "- return None"
      ],
      "metadata": {
        "id": "QU4w-AV03Lxo"
      }
    },
    {
      "cell_type": "code",
      "source": [
        "import geopy.geocoders"
      ],
      "metadata": {
        "id": "OL1mj6sq1DQL"
      },
      "execution_count": 18,
      "outputs": []
    },
    {
      "cell_type": "code",
      "source": [
        "from geopy.geocoders import Nominatim"
      ],
      "metadata": {
        "id": "JBX02nX_eZuw"
      },
      "execution_count": 19,
      "outputs": []
    },
    {
      "cell_type": "code",
      "source": [
        "geopy.geocoders.options.default_user_agent = 'my_app/1'"
      ],
      "metadata": {
        "id": "O0SlsRuz1A2T"
      },
      "execution_count": 20,
      "outputs": []
    },
    {
      "cell_type": "code",
      "source": [
        "geopy.geocoders.options.default_timeout = 7"
      ],
      "metadata": {
        "id": "ih455ckT1aJi"
      },
      "execution_count": 21,
      "outputs": []
    },
    {
      "cell_type": "code",
      "source": [
        "geolocator = Nominatim()"
      ],
      "metadata": {
        "id": "coWBhjli1iTz"
      },
      "execution_count": 22,
      "outputs": []
    },
    {
      "cell_type": "code",
      "source": [
        "print(geolocator.headers)"
      ],
      "metadata": {
        "colab": {
          "base_uri": "https://localhost:8080/"
        },
        "id": "HQhYtO_p1qYr",
        "outputId": "2247b615-d6f5-435c-be9a-72d61a0d4ee1"
      },
      "execution_count": 23,
      "outputs": [
        {
          "output_type": "stream",
          "name": "stdout",
          "text": [
            "{'User-Agent': 'my_app/1'}\n"
          ]
        }
      ]
    },
    {
      "cell_type": "code",
      "source": [
        "print(geolocator.timeout)"
      ],
      "metadata": {
        "colab": {
          "base_uri": "https://localhost:8080/"
        },
        "id": "t01WRkFp1w_S",
        "outputId": "37f85abe-c1fd-4652-8718-2ac1a975b50f"
      },
      "execution_count": 24,
      "outputs": [
        {
          "output_type": "stream",
          "name": "stdout",
          "text": [
            "7\n"
          ]
        }
      ]
    },
    {
      "cell_type": "markdown",
      "source": [
        "- Test aplication "
      ],
      "metadata": {
        "id": "m1_N0zk078zP"
      }
    },
    {
      "cell_type": "code",
      "source": [
        "# locator = Nominatim(user_agent='myGeocoder')\n",
        "location = geolocator.geocode('Aeroporto de Salvador/ BA')"
      ],
      "metadata": {
        "id": "dNvPU_WAeSuQ"
      },
      "execution_count": 25,
      "outputs": []
    },
    {
      "cell_type": "code",
      "source": [
        "print(location)"
      ],
      "metadata": {
        "id": "4P40AALJ27wT",
        "colab": {
          "base_uri": "https://localhost:8080/"
        },
        "outputId": "498964e2-d595-453a-bedd-a2852e7104d9"
      },
      "execution_count": 26,
      "outputs": [
        {
          "output_type": "stream",
          "name": "stdout",
          "text": [
            "Aeroporto, Travessa Santos Dumont, Lauro de Freitas, Região Geográfica Imediata de Salvador, Região Metropolitana de Salvador, Região Geográfica Intermediária de Salvador, Bahia, Região Nordeste, 42700000, Brasil\n"
          ]
        }
      ]
    },
    {
      "cell_type": "code",
      "source": [
        "print(location.point)"
      ],
      "metadata": {
        "id": "OgMi6d5c4Ocq",
        "colab": {
          "base_uri": "https://localhost:8080/"
        },
        "outputId": "28011d77-c0fb-4169-e3ca-b45f7bcb993b"
      },
      "execution_count": 27,
      "outputs": [
        {
          "output_type": "stream",
          "name": "stdout",
          "text": [
            "12 54m 15.1844s S, 38 20m 27.9298s W\n"
          ]
        }
      ]
    },
    {
      "cell_type": "code",
      "source": [
        "location.point"
      ],
      "metadata": {
        "id": "NxkjMcMr4bhy",
        "colab": {
          "base_uri": "https://localhost:8080/"
        },
        "outputId": "1fbbbe80-5b2f-4557-da86-1bc58e23f71c"
      },
      "execution_count": 28,
      "outputs": [
        {
          "output_type": "execute_result",
          "data": {
            "text/plain": [
              "Point(-12.904217899999999, -38.341091608139536, 0.0)"
            ]
          },
          "metadata": {},
          "execution_count": 28
        }
      ]
    },
    {
      "cell_type": "code",
      "source": [
        "from geopy.extra.rate_limiter import RateLimiter"
      ],
      "metadata": {
        "id": "E_TGe5dNd0Mp"
      },
      "execution_count": 29,
      "outputs": []
    },
    {
      "cell_type": "markdown",
      "source": [
        "- Search all address from dataframe"
      ],
      "metadata": {
        "id": "n8MIisDo7peQ"
      }
    },
    {
      "cell_type": "code",
      "source": [
        "geocode = RateLimiter(geolocator.geocode, min_delay_seconds=1)"
      ],
      "metadata": {
        "id": "5WekEtrtCDTX"
      },
      "execution_count": 30,
      "outputs": []
    },
    {
      "cell_type": "code",
      "source": [
        "ppi_address_ajust['ppi_geocode'] = ppi_address_ajust['Empreendimento'].apply(geocode)"
      ],
      "metadata": {
        "id": "FDSJg_qe9b5h"
      },
      "execution_count": 31,
      "outputs": []
    },
    {
      "cell_type": "code",
      "source": [
        "ppi_address_ajust"
      ],
      "metadata": {
        "id": "Mx8C34LWJ92f"
      },
      "execution_count": null,
      "outputs": []
    },
    {
      "cell_type": "markdown",
      "source": [
        "- plot points of address "
      ],
      "metadata": {
        "id": "eKn-3p3k8B4v"
      }
    },
    {
      "cell_type": "code",
      "source": [
        "ppi_address_ajust['point'] = ppi_address_ajust['ppi_geocode'].apply(lambda loc: tuple(loc.point) if loc else None)"
      ],
      "metadata": {
        "id": "jSzpmx5Fd9ep"
      },
      "execution_count": 33,
      "outputs": []
    },
    {
      "cell_type": "markdown",
      "source": [
        "- ajust None's"
      ],
      "metadata": {
        "id": "eWl6V10P8Kwv"
      }
    },
    {
      "cell_type": "code",
      "source": [
        "pd.set_option('max_rows', 200)\n",
        "pd.set_option('max_columns', 100)"
      ],
      "metadata": {
        "id": "WmXQhocF4cvw"
      },
      "execution_count": 34,
      "outputs": []
    },
    {
      "cell_type": "code",
      "source": [
        "ppi_address_ajust"
      ],
      "metadata": {
        "id": "EfUSzYmThnCn"
      },
      "execution_count": null,
      "outputs": []
    },
    {
      "cell_type": "code",
      "source": [
        "ppi_address_ajust.isna()"
      ],
      "metadata": {
        "id": "D6z9-Gf3LeKU"
      },
      "execution_count": null,
      "outputs": []
    },
    {
      "cell_type": "markdown",
      "source": [
        "- New position from point values not null. "
      ],
      "metadata": {
        "id": "IaB4s4sUVzIg"
      }
    },
    {
      "cell_type": "code",
      "source": [
        "ppi_address_ajust.sort_values(by='point', ignore_index=True)"
      ],
      "metadata": {
        "id": "W-NhvyL0-PLY"
      },
      "execution_count": null,
      "outputs": []
    },
    {
      "cell_type": "code",
      "source": [
        "ppi_address_ajust.index"
      ],
      "metadata": {
        "colab": {
          "base_uri": "https://localhost:8080/"
        },
        "id": "yQTPk7o3UiDr",
        "outputId": "9d168f80-c557-4fe2-dcb2-fb5bb5179543"
      },
      "execution_count": 38,
      "outputs": [
        {
          "output_type": "execute_result",
          "data": {
            "text/plain": [
              "RangeIndex(start=0, stop=191, step=1)"
            ]
          },
          "metadata": {},
          "execution_count": 38
        }
      ]
    },
    {
      "cell_type": "markdown",
      "source": [
        "# Trait DF "
      ],
      "metadata": {
        "id": "rgWyT83yT82N"
      }
    },
    {
      "cell_type": "code",
      "source": [
        "ppi_point = ppi_address_ajust"
      ],
      "metadata": {
        "id": "FDb0ZYpnQF4V"
      },
      "execution_count": 39,
      "outputs": []
    },
    {
      "cell_type": "code",
      "source": [
        "ppi_point"
      ],
      "metadata": {
        "id": "hXtTsvEYQR7l"
      },
      "execution_count": null,
      "outputs": []
    },
    {
      "cell_type": "code",
      "source": [
        "ppi_point.sort_values(by='point', ignore_index=True)"
      ],
      "metadata": {
        "id": "lx_gdXEIQcod"
      },
      "execution_count": null,
      "outputs": []
    },
    {
      "cell_type": "code",
      "source": [
        "ppi_point = ppi_point.drop(['Unnamed: 0'], axis=1)"
      ],
      "metadata": {
        "id": "g7vRwbOZSuZW"
      },
      "execution_count": 42,
      "outputs": []
    },
    {
      "cell_type": "code",
      "source": [
        "ppi_point_true = ppi_point.iloc[:30, :3]"
      ],
      "metadata": {
        "id": "UT-WlgngTQMd"
      },
      "execution_count": 43,
      "outputs": []
    },
    {
      "cell_type": "code",
      "source": [
        "ppi_point_true"
      ],
      "metadata": {
        "id": "ChETfCChUNfk"
      },
      "execution_count": null,
      "outputs": []
    },
    {
      "cell_type": "code",
      "source": [
        "ppi_point_false = ppi_point.iloc[30:191, :3]"
      ],
      "metadata": {
        "id": "hpf_lqHUUWn9"
      },
      "execution_count": 45,
      "outputs": []
    },
    {
      "cell_type": "code",
      "source": [
        "ppi_point_false"
      ],
      "metadata": {
        "id": "4fj5dTAMUzj8"
      },
      "execution_count": null,
      "outputs": []
    },
    {
      "cell_type": "code",
      "source": [
        "ppi_point_false.reset_index()"
      ],
      "metadata": {
        "id": "leMjfbOSWDyN"
      },
      "execution_count": null,
      "outputs": []
    },
    {
      "cell_type": "markdown",
      "source": [
        "# individual search by address \n",
        "- Observar o conjunto de caracteres e a forma que se adeque a busa pelo geocode \n",
        "\n",
        "  "
      ],
      "metadata": {
        "id": "oW84rH8DrwYE"
      }
    },
    {
      "cell_type": "code",
      "source": [
        "location_00 = geolocator.geocode('BR-116 - Presidente Dutra\t')"
      ],
      "metadata": {
        "id": "PreuJlxHVyWl"
      },
      "execution_count": 48,
      "outputs": []
    },
    {
      "cell_type": "code",
      "source": [
        "print(location_00)"
      ],
      "metadata": {
        "id": "T52k1PN7V4Kt",
        "colab": {
          "base_uri": "https://localhost:8080/"
        },
        "outputId": "8cdfa845-c795-4327-a694-7c244decd4d3"
      },
      "execution_count": 49,
      "outputs": [
        {
          "output_type": "stream",
          "name": "stdout",
          "text": [
            "Rodovia Presidente Dutra, Cumbica, Jardim Presidente Dutra, Guarulhos, Região Imediata de São Paulo, Região Metropolitana de São Paulo, Região Geográfica Intermediária de São Paulo, São Paulo, Região Sudeste, 07180041, Brasil\n"
          ]
        }
      ]
    },
    {
      "cell_type": "code",
      "source": [
        "# ppi_point = ppi_address_ajust.drop(['Unnamed: 0',\t'Empreendimento',\t'UF',\t'ppi_ajust_cols'], axis=1)"
      ],
      "metadata": {
        "id": "5tktKhjuPURF"
      },
      "execution_count": 50,
      "outputs": []
    },
    {
      "cell_type": "markdown",
      "source": [
        "# Automate address lookup \n",
        "- Definir e selecionar uma forma de sanar os problemas que impedem a busca pela geoposição pelo Geocode por célula do dataframe para sanar as deficiências de preenchimento.\n",
        "\n",
        " - Softskill - string handlings"
      ],
      "metadata": {
        "id": "DSFM6NAIF8rG"
      }
    },
    {
      "cell_type": "code",
      "source": [
        "import re "
      ],
      "metadata": {
        "id": "pPSgDuFMTBaY"
      },
      "execution_count": 56,
      "outputs": []
    },
    {
      "cell_type": "code",
      "source": [
        "ppi_address_search_00 = ppi_point_false.iloc[0:160, :1]"
      ],
      "metadata": {
        "id": "z6d0vPIKsAp0"
      },
      "execution_count": 65,
      "outputs": []
    },
    {
      "cell_type": "markdown",
      "source": [
        "- For find  condition\n",
        ">>> \n",
        "- equivalent to applying < re.findall() > \n",
        " - Series.str.findall(pat. flags=0) \n",
        "\n"
      ],
      "metadata": {
        "id": "do2G2M-XUDO5"
      }
    },
    {
      "cell_type": "code",
      "source": [
        "ppi_address_search_00"
      ],
      "metadata": {
        "id": "GEjfstBO2B79"
      },
      "execution_count": null,
      "outputs": []
    },
    {
      "cell_type": "code",
      "source": [
        "len(ppi_address_search_00)"
      ],
      "metadata": {
        "colab": {
          "base_uri": "https://localhost:8080/"
        },
        "id": "A5ntNK4T_WgZ",
        "outputId": "62d9baca-dadd-4b28-c6e0-6113771169e6"
      },
      "execution_count": 87,
      "outputs": [
        {
          "output_type": "execute_result",
          "data": {
            "text/plain": [
              "160"
            ]
          },
          "metadata": {},
          "execution_count": 87
        }
      ]
    },
    {
      "cell_type": "code",
      "source": [
        "ppi_terminal = ppi_address_search_00[ppi_address_search_00['Empreendimento'].str.contains('Terminal')]"
      ],
      "metadata": {
        "id": "a8cnGfQW09Ah"
      },
      "execution_count": 79,
      "outputs": []
    },
    {
      "cell_type": "code",
      "source": [
        "ppi_terminal"
      ],
      "metadata": {
        "id": "3jEtRP0h9Bs6"
      },
      "execution_count": null,
      "outputs": []
    },
    {
      "cell_type": "code",
      "source": [
        "len(ppi_terminal)"
      ],
      "metadata": {
        "colab": {
          "base_uri": "https://localhost:8080/"
        },
        "id": "X2Z3Kwc4_Ovy",
        "outputId": "7bf52e0f-3a08-4af2-cb55-a2f13e296c62"
      },
      "execution_count": 86,
      "outputs": [
        {
          "output_type": "execute_result",
          "data": {
            "text/plain": [
              "29"
            ]
          },
          "metadata": {},
          "execution_count": 86
        }
      ]
    },
    {
      "cell_type": "code",
      "source": [
        "ppi_LT = ppi_address_search_00[ppi_address_search_00['Empreendimento'].str.contains('LT')]"
      ],
      "metadata": {
        "id": "2jD0-ggV-Xf6"
      },
      "execution_count": 83,
      "outputs": []
    },
    {
      "cell_type": "code",
      "source": [
        "ppi_LT"
      ],
      "metadata": {
        "id": "63-S5uhK-eHa"
      },
      "execution_count": null,
      "outputs": []
    },
    {
      "cell_type": "code",
      "source": [
        "len(ppi_LT)"
      ],
      "metadata": {
        "colab": {
          "base_uri": "https://localhost:8080/"
        },
        "id": "2zeSFMn9_G6h",
        "outputId": "9e4f707a-da2d-44b4-9684-892e15da9bbc"
      },
      "execution_count": 85,
      "outputs": [
        {
          "output_type": "execute_result",
          "data": {
            "text/plain": [
              "54"
            ]
          },
          "metadata": {},
          "execution_count": 85
        }
      ]
    },
    {
      "cell_type": "markdown",
      "source": [
        "# To remember codes: "
      ],
      "metadata": {
        "id": "_S5t37sZJD2u"
      }
    },
    {
      "cell_type": "code",
      "source": [
        "#show\n",
        "# ppi_address_ajust.index.values\n",
        "# ppi_address_ajust.Geom.values\n",
        "# type(ppi_address_ajust.Geom.values)\n",
        "\n",
        "# rename \n",
        "# ppi_address_ajust.rename(columns= {'Unnamed: 0': 'Rows_place'}, inplace=True )"
      ],
      "metadata": {
        "id": "MSr_WvN1JQyh"
      },
      "execution_count": null,
      "outputs": []
    },
    {
      "cell_type": "markdown",
      "source": [
        ""
      ],
      "metadata": {
        "id": "uv3GDIWGknen"
      }
    },
    {
      "cell_type": "code",
      "source": [
        ""
      ],
      "metadata": {
        "id": "8Rd97LI9kmp3"
      },
      "execution_count": null,
      "outputs": []
    }
  ]
}